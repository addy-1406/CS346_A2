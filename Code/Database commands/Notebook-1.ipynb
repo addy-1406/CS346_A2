{
    "metadata": {
        "kernelspec": {
            "name": "SQL",
            "display_name": "SQL",
            "language": "sql"
        },
        "language_info": {
            "name": "sql",
            "version": ""
        }
    },
    "nbformat_minor": 2,
    "nbformat": 4,
    "cells": [
        {
            "cell_type": "markdown",
            "source": [
                "For creating the tables"
            ],
            "metadata": {
                "azdata_cell_guid": "e77058da-f680-426a-905b-cdd34d66b536"
            },
            "attachments": {}
        },
        {
            "cell_type": "code",
            "source": [
                "IF OBJECT_ID('auth', 'U') IS NOT NULL\r\n",
                "    DROP TABLE auth;\r\n",
                "IF OBJECT_ID('faculty', 'U') IS NOT NULL\r\n",
                "    DROP TABLE faculty;\r\n",
                "IF OBJECT_ID('student', 'U') IS NOT NULL\r\n",
                "    DROP TABLE student;\r\n",
                "IF OBJECT_ID('classroom', 'U') IS NOT NULL\r\n",
                "    DROP TABLE classroom;\r\n",
                "IF OBJECT_ID('exam', 'U') IS NOT NULL\r\n",
                "    DROP TABLE exam;\r\n",
                "IF OBJECT_ID('grade', 'U') IS NOT NULL\r\n",
                "    DROP TABLE grade;\r\n",
                "IF OBJECT_ID('timetable', 'U') IS NOT NULL\r\n",
                "    DROP TABLE timetable;\r\n",
                "IF OBJECT_ID('signup', 'U') IS NOT NULL\r\n",
                "    DROP TABLE signup;\r\n",
                "IF OBJECT_ID('permissions', 'U') IS NOT NULL\r\n",
                "    DROP TABLE permissions;\r\n",
                "IF OBJECT_ID('course', 'U') IS NOT NULL\r\n",
                "    DROP TABLE course;\r\n",
                "\r\n",
                "CREATE TABLE permissions (\r\n",
                "    UserID INT NOT NULL,\r\n",
                "    Course_Add BIT NOT NULL,\r\n",
                "    Course_Enroll BIT NOT NULL,\r\n",
                "    Grades_Add BIT NOT NULL,\r\n",
                "    Grades_View BIT NOT NULL,\r\n",
                "    Current_Year INT NOT NULL,\r\n",
                "    Current_Sem NVARCHAR(20) NOT NULL CHECK (Current_Sem IN ('Winter', 'Monsoon')),\r\n",
                "    Midsem_Start_Date DATE NOT NULL,\r\n",
                "    Endsem_Start_Date DATE NOT NULL,\r\n",
                "    CONSTRAINT PK_Permissions_UserID PRIMARY KEY (UserID)\r\n",
                ");\r\n",
                "\r\n",
                "\r\n",
                "CREATE TABLE auth (\r\n",
                "    UserID INT PRIMARY KEY NOT NULL,\r\n",
                "    Password_hash CHAR(32) NOT NULL,\r\n",
                "    UserType NVARCHAR(50) NOT NULL CHECK (UserType IN ('Faculty', 'Student', 'Admin')),\r\n",
                "    Role NVARCHAR(50) NOT NULL CHECK (Role IN ('Admin', 'Dean', 'Registrar', 'Superuser', 'Faculty', 'Student')),\r\n",
                "    Email VARCHAR(32) NOT NULL\r\n",
                ");\r\n",
                "INSERT INTO auth (UserID, Password_hash, UserType, Role, Email)\r\n",
                "VALUES (0, CONVERT(VARCHAR(32), HASHBYTES('MD5', 'superuser'), 2), 'Admin', 'Superuser', 'superuser@iitg.ac.in');\r\n",
                "\r\n",
                "\r\n",
                "\r\n",
                "IF EXISTS (SELECT 1 FROM INFORMATION_SCHEMA.TABLES WHERE TABLE_NAME = 'faculty')\r\n",
                "    DROP TABLE faculty;\r\n",
                "\r\n",
                "CREATE TABLE faculty (\r\n",
                "    User_ID VARCHAR(10) NOT NULL PRIMARY KEY,\r\n",
                "    Name VARCHAR(50) NOT NULL,\r\n",
                "    DOB DATE,\r\n",
                "    Contact VARCHAR(20) NOT NULL,\r\n",
                "    Email VARCHAR(100) NOT NULL,\r\n",
                "    Office_Room VARCHAR(10) NOT NULL,\r\n",
                "    Joining_Year INT NOT NULL,\r\n",
                "    Research_Interests NVARCHAR(MAX) NOT NULL,\r\n",
                "    Designation VARCHAR(50) NOT NULL\r\n",
                ");\r\n",
                "\r\n",
                "\r\n",
                "\r\n",
                "\r\n",
                "CREATE TABLE student (\r\n",
                "    User_ID INT NOT NULL PRIMARY KEY,\r\n",
                "    Name VARCHAR(50) NOT NULL,\r\n",
                "    DOB DATE NOT NULL,\r\n",
                "    Contact CHAR(10) NOT NULL,\r\n",
                "    Enrollment_Year INT NOT NULL,\r\n",
                "    Address VARCHAR(200) NOT NULL,\r\n",
                "    Current_Semester INT NOT NULL\r\n",
                ");\r\n",
                "\r\n",
                "CREATE TABLE classroom (\r\n",
                "    Room_ID INT PRIMARY KEY NOT NULL,\r\n",
                "    Capacity INT NOT NULL,\r\n",
                "    Room_type NVARCHAR(50) NOT NULL CHECK (Room_type IN ('Lab', 'Theory'))\r\n",
                ");\r\n",
                "\r\n",
                "CREATE TABLE exam (\r\n",
                "    Course_ID INT NOT NULL,\r\n",
                "    [Date] DATE NOT NULL,\r\n",
                "    Time_Slot VARCHAR(10) NOT NULL,\r\n",
                "    Room_ID INT NOT NULL,\r\n",
                "    Student_List NVARCHAR(MAX) NOT NULL\r\n",
                ");\r\n",
                "\r\n",
                "CREATE TABLE grade (\r\n",
                "    User_ID INT NOT NULL,\r\n",
                "    CourseCode CHAR(5) NOT NULL,\r\n",
                "    Grade INT DEFAULT NULL,\r\n",
                "    Approval_Status NVARCHAR(20) NOT NULL DEFAULT 'Pending' CHECK (Approval_Status IN ('Approved', 'Pending')) \r\n",
                ");\r\n",
                "\r\n",
                "CREATE TABLE timetable (\r\n",
                "    Course_ID INT NOT NULL,\r\n",
                "    Room_ID INT NOT NULL,\r\n",
                "    Slot VARCHAR(10) NOT NULL\r\n",
                ");\r\n",
                "\r\n",
                "CREATE TABLE signup (\r\n",
                "    Name VARCHAR(50) NOT NULL,\r\n",
                "    DOB DATE NOT NULL,\r\n",
                "    Contact CHAR(10) NOT NULL,\r\n",
                "    Address VARCHAR(200) NOT NULL,\r\n",
                "    Email CHAR(100) NOT NULL,\r\n",
                "    Approval_status NVARCHAR(20) NOT NULL DEFAULT 'Pending' CHECK (Approval_status IN ('Rejected', 'Pending', 'Approved')),\r\n",
                "    UserType NVARCHAR(20) NOT NULL CHECK (UserType IN ('Faculty', 'Student', 'Admin')),\r\n",
                "    Password_hash CHAR(32) NOT NULL\r\n",
                ");\r\n",
                "\r\n",
                "CREATE TABLE course (\r\n",
                "    Course_Code CHAR(5) PRIMARY KEY,\r\n",
                "    Name VARCHAR(50) NOT NULL,\r\n",
                "    Description VARCHAR(200),\r\n",
                "    L INT NOT NULL,\r\n",
                "    T INT NOT NULL,\r\n",
                "    P INT NOT NULL,\r\n",
                "    C INT NOT NULL,\r\n",
                "    Faculty_ID INT,\r\n",
                "    Intake INT,\r\n",
                "    Semester VARCHAR(50) NOT NULL, -- Assuming multiple integers separated by comma or stored in a different format\r\n",
                "    ElectiveOrCompulsory BIT NOT NULL -- BIT data type for elective or compulsory (0 for compulsory, 1 for elective)\r\n",
                ");\r\n",
                "\r\n",
                ""
            ],
            "metadata": {
                "azdata_cell_guid": "05264036-1520-45e3-9149-7a0c26627b3b",
                "language": "sql"
            },
            "outputs": [
                {
                    "output_type": "display_data",
                    "data": {
                        "text/html": "(1 row affected)"
                    },
                    "metadata": {}
                },
                {
                    "output_type": "display_data",
                    "data": {
                        "text/html": "Total execution time: 00:00:00.405"
                    },
                    "metadata": {}
                }
            ],
            "execution_count": 80
        },
        {
            "cell_type": "code",
            "source": [
                "CREATE TABLE course (\r\n",
                "    Course_Code CHAR(5) PRIMARY KEY,\r\n",
                "    Name VARCHAR(50) NOT NULL,\r\n",
                "    Description VARCHAR(200),\r\n",
                "    L INT NOT NULL,\r\n",
                "    T INT NOT NULL,\r\n",
                "    P INT NOT NULL,\r\n",
                "    C INT NOT NULL,\r\n",
                "    Faculty_ID INT,\r\n",
                "    Intake INT,\r\n",
                "    Semester VARCHAR(50) NOT NULL, -- Assuming multiple integers separated by comma or stored in a different format\r\n",
                "    ElectiveOrCompulsory BIT NOT NULL -- BIT data type for elective or compulsory (0 for compulsory, 1 for elective)\r\n",
                ");"
            ],
            "metadata": {
                "azdata_cell_guid": "0c7b6197-7158-4f6d-aec6-3a5432fbc173",
                "language": "sql"
            },
            "outputs": [
                {
                    "output_type": "display_data",
                    "data": {
                        "text/html": "Commands completed successfully."
                    },
                    "metadata": {}
                },
                {
                    "output_type": "display_data",
                    "data": {
                        "text/html": "Total execution time: 00:00:00.253"
                    },
                    "metadata": {}
                }
            ],
            "execution_count": 6
        },
        {
            "cell_type": "code",
            "source": [
                "INSERT INTO faculty (User_ID, Name, Contact, Email, Office_Room, Joining_Year, Research_Interests, Designation)\r\n",
                "VALUES \r\n",
                "(2011001, 'Ashish Anand', '+91-361-2582374', 'anand.ashish@iitg.ac.in', 'H-008', 2011, 'NLP, Clinical Text Mining, Machine Learning, Deep Learning', 'Professor'),\r\n",
                "(2011002, 'Amit Awekar', '+91-361-2582373', 'awekar@iitg.ac.in', 'H-302', 2011, 'Data Mining, Natural Language Processing', 'Associate Professor'),\r\n",
                "(2014011, 'Rashmi Dutta Baruah', '+91-361-2583253', 'r.duttabaruah@iitg.ac.in', 'H-005', 2014, 'Evolving and Adaptive Intelligent Systems, Computational Intelligence, Deep Learning, Explainable AI, Model Interpretability', 'Assistant Professor'),\r\n",
                "(2004001, 'Purandar Bhaduri', '+91-361-2582360', 'pbhaduri@iitg.ac.in', 'H-102', 2004, 'Formal Verification of Reactive Systems, Automated Controller Synthesis, Logic and Semantics of Computation', 'Professor'),\r\n",
                "(2019001, 'Sukanta Bhattacharjee', '+91-361-2583259', 'sukantab@iitg.ac.in', 'H-303', 2019, 'Design Automation Algorithms, Microfluidics, Security', 'Assistant Professor'),\r\n",
                "(2008001, 'Samit Bhattacharya', '+91-361-2582362', 'samit@iitg.ac.in', 'H-203', 2008, 'Human Computer Interaction, User Modeling, Model Based Evaluation of Interactive Systems, Rehabilitation Engineering', 'Associate Professor'),\r\n",
                "(1998001, 'Pradip Kr. Das', '+91-361-2582353', 'pkdas@iitg.ac.in', 'H-106', 1998, 'Speech Processing, Man-Machine Intelligence Systems, Algorithms, Software Engineering, Smart Devices, Mobile Robotics', 'Professor'),\r\n",
                "(2001001, 'Jatindra Kumar Deka', '+91-361-2582354', 'jatin@iitg.ac.in', 'H-207', 2001, 'Formal Modelling and Verification, CAD for VLSI and Embedded Systems (Design, Testing and Verification)', 'Professor'),\r\n",
                "(2002001, 'Diganta Goswami', '+91-361-2582355', 'dgoswami@iitg.ac.in', 'H-205', 2002, 'Distributed Systems, Software Engineering', 'Professor'),\r\n",
                "(2010001, 'R. Inkulu', '+91-361-2582371', 'rinkulu@iitg.ac.in', 'H-005', 2010, 'Algorithms', 'Associate Professor'),\r\n",
                "(2010002, 'Benny George K', '+91-361-2582372', 'ben@iitg.ac.in', 'H-305', 2010, 'Word combinatorics, algorithms and combinatorics', 'Assistant Professor'),\r\n",
                "(2015001, 'John Jose', '+91-361-2583256', 'johnjose@iitg.ac.in', 'H-201', 2015, 'Computer Architecture, On-chip Storage and Interconnects, Hardware/IoT Security, Disaggregated Systems, Edge Device Computing', 'Associate Professor'),\r\n",
                "(2007001, 'Hemangee K. Kapoor', '+91-361-2582363', 'hemangee@iitg.ac.in', 'H-204', 2007, 'Multiprocessor Computer Architecture, Formal Methods, Network-on-Chip design, Asynchronous systems', 'Professor'),\r\n",
                "(2016001, 'Chandan Karfa', '+91-361-2582375', 'ckarfa@iitg.ac.in', 'H-002', 2016, 'Formal Verification, High-level Synthesis, Electronic Design Automation, Hardware Security, Verification of Compiler Optimizations', 'Associate Professor'),\r\n",
                "(2009001, 'Sushanta Karmakar', '+91-361-2582368', 'sushantak@iitg.ac.in', 'H-307', 2009, 'Graph Algorithms, Distributed Optimization', 'Professor'),\r\n",
                "(2012001, 'Deepanjan Kesh', '+91-361-2582377', 'deepkesh@iitg.ac.in', 'H-003', 2012, 'Data Structures and Algorithms', 'Associate Professor'),\r\n",
                "(2018001, 'Manas Khatua', '+91-361-2583258', 'manaskhatua@iitg.ac.in', 'H-112', 2018, 'Internet of Things, Wireless Networks, Sensor Networks, Network Security, Cloud and Edge Computing, Cyber Physical Systems', 'Assistant Professor'),\r\n",
                "(2004002, 'Pinaki Mitra', '+91-361-2582352', 'pinaki@iitg.ac.in', 'H-10', 2004, 'Computational Geometry, Parallel Algorithms, Randomized Algorithms, Optimization', 'Associate Professor'),\r\n",
                "(1998002, 'Shivashankar B. Nair', '+91-361-2582356', 'sbnair@iitg.ac.in', 'H-105', 1998, 'Artificial Intelligence, Intelligent and Nature-Inspired & Emotional Robots, Mobile Agent based systems, Artificial Immune Systems, Intelligent Internet of Things, Cyber-Physical Systems, Natural Language Processing, Genetic Algorithms, Fuzzy Systems & Neural Networks', 'Professor'),\r\n",
                "(2018002, 'Moumita Patra', '+91-361-2582365', 'moumita.patra@iitg.ac.in', 'H-208', 2018, 'Wireless networks, Internet of vehicles, IoT, 5G based communication, Network performance analysis', 'Assistant Professor'),\r\n",
                "(1998003, 'S. V. Rao', '+91-361-2582358', 'svrao@iitg.ac.in', 'H-108', 1998, 'Wireless Networks, Software Defined Networking, Algorithms', 'Professor'),\r\n",
                "(2009002, 'Aryabartta Sahu', '+91-361-2582370', 'asahu@iitg.ac.in', 'H-110', 2009, 'Multicore (Architecture, Scheduling and Programming) and Computational Social Systems', 'Associate Professor'),\r\n",
                "(1997001, 'G. Sajith', '+91-361-2582359', 'sajith@iitg.ac.in', 'H-107', 1997, 'External Memory Algorithms, Algorithmic Game Theory, Parallel and Distributed Algorithms, Complexity Theory', 'Professor'),\r\n",
                "(2009003, 'V. Vijaya Saradhi', '+91-361-2582367', 'saradhi@iitg.ac.in', 'H-308', 2009, 'Machine Learning, Kernel Methods, Data Mining and their applications', 'Associate Professor'),\r\n",
                "(2009004, 'Sanasam Ranbir Singh', '+91-361-2582369', 'ranbir@iitg.ac.in', 'H-306', 2009, 'Open Source Intelligence (Social Media/Social Network Analysis), Information Retrieval, NLP', 'Professor'),\r\n",
                "(2009005, 'Arijit Sur', '+91-361-2582361', 'arijit@iitg.ac.in', 'H-103', 2009, 'Computer Vision using Deep Learning: Machine learning, Adaptive video streaming, Media Forensics', 'Professor'),\r\n",
                "(2009006, 'Tamarapalli Venkatesh', '+91-361-2582366', 't.venkat@iitg.ac.in', 'H-202', 2009, 'Network Protocols and Architectures, Cloud Data Centers, Multimedia Streaming', 'Professor and Head');\r\n",
                ""
            ],
            "metadata": {
                "language": "sql",
                "azdata_cell_guid": "f90c896a-72cc-4a86-9724-ad9d14ac639e",
                "tags": []
            },
            "outputs": [
                {
                    "output_type": "display_data",
                    "data": {
                        "text/html": "(27 rows affected)"
                    },
                    "metadata": {}
                },
                {
                    "output_type": "display_data",
                    "data": {
                        "text/html": "Total execution time: 00:00:00.264"
                    },
                    "metadata": {}
                }
            ],
            "execution_count": 81
        },
        {
            "cell_type": "code",
            "source": [
                "INSERT INTO auth (UserID, Password_hash, UserType, Role, Email)\r\n",
                "VALUES \r\n",
                "(2011001, CONVERT(VARCHAR(32), HASHBYTES('MD5', 'anand.ashish'), 2), 'Faculty', 'Faculty', 'anand.ashish@iitg.ac.in'),\r\n",
                "(2011002, CONVERT(VARCHAR(32), HASHBYTES('MD5', 'awekar'), 2), 'Faculty', 'Faculty', 'awekar@iitg.ac.in'),\r\n",
                "(2014011, CONVERT(VARCHAR(32), HASHBYTES('MD5', 'r.duttabaruah'), 2), 'Faculty', 'Faculty', 'r.duttabaruah@iitg.ac.in'),\r\n",
                "(2004001, CONVERT(VARCHAR(32), HASHBYTES('MD5', 'pbhaduri'), 2), 'Faculty', 'Faculty', 'pbhaduri@iitg.ac.in'),\r\n",
                "(2019001, CONVERT(VARCHAR(32), HASHBYTES('MD5', 'sukantab'), 2), 'Faculty', 'Faculty', 'sukantab@iitg.ac.in'),\r\n",
                "(2008001, CONVERT(VARCHAR(32), HASHBYTES('MD5', 'samit'), 2), 'Faculty', 'Faculty', 'samit@iitg.ac.in'),\r\n",
                "(1998001, CONVERT(VARCHAR(32), HASHBYTES('MD5', 'pkdas'), 2), 'Faculty', 'Faculty', 'pkdas@iitg.ac.in'),\r\n",
                "(2001001, CONVERT(VARCHAR(32), HASHBYTES('MD5', 'jatin'), 2), 'Faculty', 'Faculty', 'jatin@iitg.ac.in'),\r\n",
                "(2002001, CONVERT(VARCHAR(32), HASHBYTES('MD5', 'dgoswami'), 2), 'Faculty', 'Faculty', 'dgoswami@iitg.ac.in'),\r\n",
                "(2010001, CONVERT(VARCHAR(32), HASHBYTES('MD5', 'rinkulu'), 2), 'Faculty', 'Faculty', 'rinkulu@iitg.ac.in'),\r\n",
                "(2010002, CONVERT(VARCHAR(32), HASHBYTES('MD5', 'ben'), 2), 'Faculty', 'Faculty', 'ben@iitg.ac.in'),\r\n",
                "(2015001, CONVERT(VARCHAR(32), HASHBYTES('MD5', 'johnjose'), 2), 'Faculty', 'Faculty', 'johnjose@iitg.ac.in'),\r\n",
                "(2007001, CONVERT(VARCHAR(32), HASHBYTES('MD5', 'hemangee'), 2), 'Faculty', 'Faculty', 'hemangee@iitg.ac.in'),\r\n",
                "(2016001, CONVERT(VARCHAR(32), HASHBYTES('MD5', 'ckarfa'), 2), 'Faculty', 'Faculty', 'ckarfa@iitg.ac.in'),\r\n",
                "(2009001, CONVERT(VARCHAR(32), HASHBYTES('MD5', 'sushantak'), 2), 'Faculty', 'Faculty', 'sushantak@iitg.ac.in'),\r\n",
                "(2012001, CONVERT(VARCHAR(32), HASHBYTES('MD5', 'deepkesh'), 2), 'Faculty', 'Faculty', 'deepkesh@iitg.ac.in'),\r\n",
                "(2018001, CONVERT(VARCHAR(32), HASHBYTES('MD5', 'manaskhatua'), 2), 'Faculty', 'Faculty', 'manaskhatua@iitg.ac.in'),\r\n",
                "(2004002, CONVERT(VARCHAR(32), HASHBYTES('MD5', 'pinaki'), 2), 'Faculty', 'Faculty', 'pinaki@iitg.ac.in'),\r\n",
                "(1998002, CONVERT(VARCHAR(32), HASHBYTES('MD5', 'sbnair'), 2), 'Faculty', 'Faculty', 'sbnair@iitg.ac.in'),\r\n",
                "(2018002, CONVERT(VARCHAR(32), HASHBYTES('MD5', 'moumita.patra'), 2), 'Faculty', 'Faculty', 'moumita.patra@iitg.ac.in'),\r\n",
                "(1998003, CONVERT(VARCHAR(32), HASHBYTES('MD5', 'svrao'), 2), 'Faculty', 'Faculty', 'svrao@iitg.ac.in'),\r\n",
                "(2009002, CONVERT(VARCHAR(32), HASHBYTES('MD5', 'asahu'), 2), 'Faculty', 'Faculty', 'asahu@iitg.ac.in'),\r\n",
                "(1997001, CONVERT(VARCHAR(32), HASHBYTES('MD5', 'sajith'), 2), 'Faculty', 'Faculty', 'sajith@iitg.ac.in'),\r\n",
                "(2009003, CONVERT(VARCHAR(32), HASHBYTES('MD5', 'saradhi'), 2), 'Faculty', 'Faculty', 'saradhi@iitg.ac.in'),\r\n",
                "(2009004, CONVERT(VARCHAR(32), HASHBYTES('MD5', 'ranbir'), 2), 'Faculty', 'Faculty', 'ranbir@iitg.ac.in'),\r\n",
                "(2009005, CONVERT(VARCHAR(32), HASHBYTES('MD5', 'arijit'), 2), 'Faculty', 'Faculty', 'arijit@iitg.ac.in'),\r\n",
                "(2009006, CONVERT(VARCHAR(32), HASHBYTES('MD5', 't.venkat'), 2), 'Faculty', 'Faculty', 't.venkat@iitg.ac.in');\r\n",
                ""
            ],
            "metadata": {
                "language": "sql",
                "azdata_cell_guid": "7525a3bb-a889-41c4-9035-76352985aef2"
            },
            "outputs": [
                {
                    "output_type": "display_data",
                    "data": {
                        "text/html": "(27 rows affected)"
                    },
                    "metadata": {}
                },
                {
                    "output_type": "display_data",
                    "data": {
                        "text/html": "Total execution time: 00:00:00.261"
                    },
                    "metadata": {}
                }
            ],
            "execution_count": 82
        },
        {
            "cell_type": "code",
            "source": [
                "-- Inserting records for Dean and Registrar into the auth table with password hashes generated using MD5\r\n",
                "INSERT INTO auth (UserID, Password_hash, UserType, Role, Email)\r\n",
                "VALUES \r\n",
                "(1, CONVERT(VARCHAR(32), HASHBYTES('MD5', 'dean'), 2), 'Admin', 'Dean', 'dean@iitg.ac.in'),\r\n",
                "(2, CONVERT(VARCHAR(32), HASHBYTES('MD5', 'registrar'), 2), 'Admin', 'Registrar', 'registrar@iitg.ac.in');\r\n",
                ""
            ],
            "metadata": {
                "language": "sql",
                "azdata_cell_guid": "225752f4-2c5f-4be8-85a9-3d287ed9d216"
            },
            "outputs": [
                {
                    "output_type": "display_data",
                    "data": {
                        "text/html": "(2 rows affected)"
                    },
                    "metadata": {}
                },
                {
                    "output_type": "display_data",
                    "data": {
                        "text/html": "Total execution time: 00:00:00.256"
                    },
                    "metadata": {}
                }
            ],
            "execution_count": 83
        },
        {
            "cell_type": "code",
            "source": [
                "INSERT INTO faculty (User_ID, Name, Contact, Email, Office_Room, Joining_Year, Research_Interests, Designation)\r\n",
                "VALUES \r\n",
                "(1990001, 'Non CS', '+91-361-9999999', 'non_cs@iitg.ac.in', 'H-999', 1990, 'Non-CS', 'Professor');\r\n",
                "\r\n",
                "INSERT INTO auth (UserID, Password_hash, UserType, Role, Email)\r\n",
                "VALUES \r\n",
                "(1990001, CONVERT(VARCHAR(32), HASHBYTES('MD5', 'non_cs'), 2), 'Faculty', 'Faculty', 'non_cs@iitg.ac.in');"
            ],
            "metadata": {
                "language": "sql",
                "azdata_cell_guid": "5f0c2ff0-56d9-4561-8d70-24405720ad80"
            },
            "outputs": [
                {
                    "output_type": "display_data",
                    "data": {
                        "text/html": "(1 row affected)"
                    },
                    "metadata": {}
                },
                {
                    "output_type": "display_data",
                    "data": {
                        "text/html": "(1 row affected)"
                    },
                    "metadata": {}
                },
                {
                    "output_type": "display_data",
                    "data": {
                        "text/html": "Total execution time: 00:00:00.320"
                    },
                    "metadata": {}
                }
            ],
            "execution_count": 1
        },
        {
            "cell_type": "code",
            "source": [
                "INSERT INTO [dbo].[course_Structure] ([Course_Code], [Name], [L], [T], [P], [C], [Semester])\r\n",
                "VALUES ('MA321', 'Optimization', 3, 0, 0, 6, 5),\r\n",
                "       ('CS345', 'Software Engineering', 2, 0, 0, 4, 6),\r\n",
                "       ('CS341', 'Computer Networks', 3, 0, 0, 6, 5),\r\n",
                "       ('CS346', 'Software Engineering Laboratory', 0, 0, 3, 3, 6),\r\n",
                "       ('CS342', 'Computer Networks Laboratory', 0, 0, 4, 4, 5),\r\n",
                "       ('CS348', 'Implementation of Programming Languages Lab', 0, 2, 3, 7, 6),\r\n",
                "       ('CS343', 'Operating Systems', 3, 0, 0, 6, 5),\r\n",
                "       ('CS361', 'Machine Learning', 3, 0, 0, 6, 6),\r\n",
                "       ('CS344', 'Operating Systems Laboratory', 0, 0, 4, 4, 5),\r\n",
                "       ('CSxxx', 'Departmental Elective - II', 3, 0, 0, 6, 6),\r\n",
                "       ('CSxxx', 'Departmental Elective - I', 3, 0, 0, 6, 5),\r\n",
                "       ('CSxxx', 'Departmental Elective - III', 3, 0, 0, 6, 6),\r\n",
                "       ('HS1xx', 'HSS Elective - II Level-I', 3, 0, 0, 6, 5),\r\n",
                "       ('CSxxx', 'Departmental Elective - IV', 0, 1, 3, 5, 6);\r\n",
                ""
            ],
            "metadata": {
                "azdata_cell_guid": "2fb1aa12-11a0-4729-9a2d-24633845cb85",
                "language": "sql"
            },
            "outputs": [
                {
                    "output_type": "display_data",
                    "data": {
                        "text/html": "(14 rows affected)"
                    },
                    "metadata": {}
                },
                {
                    "output_type": "display_data",
                    "data": {
                        "text/html": "Total execution time: 00:00:00.286"
                    },
                    "metadata": {}
                }
            ],
            "execution_count": 8
        },
        {
            "cell_type": "code",
            "source": [
                "INSERT INTO [dbo].[course_Structure] ([Course_Code], [Name], [L], [T], [P], [C], [Semester])\r\n",
                "VALUES ('OE4xx', 'Open Elective', 3, 0, 0, 6, 7),\r\n",
                "       ('OExxx', 'Open Elective', 3, 0, 0, 6, 8),\r\n",
                "       ('OExxx / CSxxx', 'Open Elective / Departmental Elective -V', 3, 0, 0, 6, 7),\r\n",
                "       ('OExxx', 'Open Elective', 3, 0, 0, 6, 8),\r\n",
                "       ('CSxxx', 'Departmental Elective-VI', 3, 0, 0, 6, 7),\r\n",
                "       ('CSxxx', 'Departmental Elective -IX', 3, 0, 0, 6, 8),\r\n",
                "       ('CSxxx', 'Departmental Elective-VII', 3, 0, 0, 6, 7),\r\n",
                "       ('CSxxx', 'Departmental Elective-X', 3, 0, 0, 6, 8),\r\n",
                "       ('CSxxx', 'Departmental Elective-VIII', 3, 0, 0, 6, 7),\r\n",
                "       ('CSxxx', 'Departmental Elective-XI', 3, 0, 0, 6, 8),\r\n",
                "       ('HS2xx', 'HSS Elective - I Level-II', 3, 0, 0, 6, 7),\r\n",
                "       ('HS2xx', 'HSS Elective - II Level-II', 3, 0, 0, 6, 8);\r\n",
                ""
            ],
            "metadata": {
                "language": "sql",
                "azdata_cell_guid": "c562484d-081f-4751-bd6f-f919047cdcfe"
            },
            "outputs": [
                {
                    "output_type": "display_data",
                    "data": {
                        "text/html": "(12 rows affected)"
                    },
                    "metadata": {}
                },
                {
                    "output_type": "display_data",
                    "data": {
                        "text/html": "Total execution time: 00:00:00.299"
                    },
                    "metadata": {}
                }
            ],
            "execution_count": 7
        },
        {
            "cell_type": "code",
            "source": [
                "INSERT INTO [dbo].[course_Structure] ([Course_Code], [Name], [L], [T], [P], [C], [Semester])\r\n",
                "VALUES ('MA222', 'Elementary Number Theory and Algebra', 3, 0, 0, 6, 1),\r\n",
                "       ('CS205', 'Formal Languages, Automata Theory and Computation', 3, 0, 0, 6, 1),\r\n",
                "       ('MA225', 'Probability Theory and Random Processes', 3, 1, 0, 8, 1),\r\n",
                "       ('CS207', 'Design and Analysis of Algorithms', 3, 0, 0, 6, 1),\r\n",
                "       ('CS201', 'Discrete Mathematics', 3, 0, 0, 6, 1),\r\n",
                "       ('CS223', 'Computer Architecture and Organization', 3, 0, 0, 6, 1),\r\n",
                "       ('CS203', 'Algorithms and Data Structures', 3, 0, 0, 6, 1),\r\n",
                "       ('CS224', 'Hardware Laboratory', 0, 1, 4, 6, 1),\r\n",
                "       ('CS204', 'Algorithms and Data Structures Laboratory', 0, 1, 3, 5, 1),\r\n",
                "       ('CS245', 'Database Management Systems', 3, 0, 0, 6, 2),\r\n",
                "       ('CS221', 'Digital Design', 3, 0, 0, 6, 2),\r\n",
                "       ('CS246', 'Database Management Systems Laboratory', 0, 0, 4, 4, 2),\r\n",
                "       ('CS242', 'System Software Laboratory', 0, 1, 3, 5, 2),\r\n",
                "       ('HS1xx', 'HSS Elective - I Level-I', 3, 0, 0, 6, 2);\r\n",
                ""
            ],
            "metadata": {
                "language": "sql",
                "azdata_cell_guid": "10b212ff-6ba6-45f9-adef-59a7ee5fa814"
            },
            "outputs": [
                {
                    "output_type": "display_data",
                    "data": {
                        "text/html": "(14 rows affected)"
                    },
                    "metadata": {}
                },
                {
                    "output_type": "display_data",
                    "data": {
                        "text/html": "Total execution time: 00:00:00.286"
                    },
                    "metadata": {}
                }
            ],
            "execution_count": 6
        },
        {
            "cell_type": "code",
            "source": [
                "INSERT INTO [dbo].[course_Structure] ([Course_Code], [Name], [L], [T], [P], [C], [Semester])\r\n",
                "VALUES ('MA222', 'Elementary Number Theory and Algebra', 3, 0, 0, 6, 3),\r\n",
                "       ('CS205', 'Formal Languages, Automata Theory and Computation', 3, 0, 0, 6, 4),\r\n",
                "       ('MA225', 'Probability Theory and Random Processes', 3, 1, 0, 8, 3),\r\n",
                "       ('CS207', 'Design and Analysis of Algorithms', 3, 0, 0, 6, 4),\r\n",
                "       ('CS201', 'Discrete Mathematics', 3, 0, 0, 6, 3),\r\n",
                "       ('CS223', 'Computer Architecture and Organization', 3, 0, 0, 6, 4),\r\n",
                "       ('CS203', 'Algorithms and Data Structures', 3, 0, 0, 6, 3),\r\n",
                "       ('CS224', 'Hardware Laboratory', 0, 1, 4, 6, 4),\r\n",
                "       ('CS204', 'Algorithms and Data Structures Laboratory', 0, 1, 3, 5, 3),\r\n",
                "       ('CS245', 'Database Management Systems', 3, 0, 0, 6, 4),\r\n",
                "       ('CS221', 'Digital Design', 3, 0, 0, 6, 3),\r\n",
                "       ('CS246', 'Database Management Systems Laboratory', 0, 0, 4, 4, 4),\r\n",
                "       ('CS242', 'System Software Laboratory', 0, 1, 3, 5, 3),\r\n",
                "       ('HS1xx', 'HSS Elective - I Level-I', 3, 0, 0, 6, 4);\r\n",
                ""
            ],
            "metadata": {
                "language": "sql",
                "azdata_cell_guid": "e906aae5-7f58-44e9-b145-3077a4b84309"
            },
            "outputs": [
                {
                    "output_type": "display_data",
                    "data": {
                        "text/html": "(14 rows affected)"
                    },
                    "metadata": {}
                },
                {
                    "output_type": "display_data",
                    "data": {
                        "text/html": "Total execution time: 00:00:00.290"
                    },
                    "metadata": {}
                }
            ],
            "execution_count": 5
        },
        {
            "cell_type": "code",
            "source": [
                "INSERT INTO auth (UserID, Password_hash, UserType, Role, Email)\r\n",
                "VALUES \r\n",
                "(20201001, CONVERT(VARCHAR(32), HASHBYTES('MD5', 'stu2001'), 2), 'Student', 'Student', 'stu2001@iitg.ac.in'),\r\n",
                "(20201002, CONVERT(VARCHAR(32), HASHBYTES('MD5', 'stu2002'), 2), 'Student', 'Student', 'stu2002@iitg.ac.in'),\r\n",
                "(20201003, CONVERT(VARCHAR(32), HASHBYTES('MD5', 'stu2003'), 2), 'Student', 'Student', 'stu2003@iitg.ac.in'),\r\n",
                "(20201004, CONVERT(VARCHAR(32), HASHBYTES('MD5', 'stu2004'), 2), 'Student', 'Student', 'stu2004@iitg.ac.in'),\r\n",
                "(20201005, CONVERT(VARCHAR(32), HASHBYTES('MD5', 'stu2005'), 2), 'Student', 'Student', 'stu2005@iitg.ac.in'),\r\n",
                "(20201006, CONVERT(VARCHAR(32), HASHBYTES('MD5', 'stu2006'), 2), 'Student', 'Student', 'stu2006@iitg.ac.in'),\r\n",
                "(20201007, CONVERT(VARCHAR(32), HASHBYTES('MD5', 'stu2007'), 2), 'Student', 'Student', 'stu2007@iitg.ac.in'),\r\n",
                "(20201008, CONVERT(VARCHAR(32), HASHBYTES('MD5', 'stu2008'), 2), 'Student', 'Student', 'stu2008@iitg.ac.in'),\r\n",
                "(20201009, CONVERT(VARCHAR(32), HASHBYTES('MD5', 'stu2009'), 2), 'Student', 'Student', 'stu2009@iitg.ac.in'),\r\n",
                "(20201010, CONVERT(VARCHAR(32), HASHBYTES('MD5', 'stu2010'), 2), 'Student', 'Student', 'stu2010@iitg.ac.in'),\r\n",
                "(20201011, CONVERT(VARCHAR(32), HASHBYTES('MD5', 'stu2011'), 2), 'Student', 'Student', 'stu2011@iitg.ac.in'),\r\n",
                "(20201012, CONVERT(VARCHAR(32), HASHBYTES('MD5', 'stu2012'), 2), 'Student', 'Student', 'stu2012@iitg.ac.in'),\r\n",
                "(20201013, CONVERT(VARCHAR(32), HASHBYTES('MD5', 'stu2013'), 2), 'Student', 'Student', 'stu2013@iitg.ac.in'),\r\n",
                "(20201014, CONVERT(VARCHAR(32), HASHBYTES('MD5', 'stu2014'), 2), 'Student', 'Student', 'stu2014@iitg.ac.in'),\r\n",
                "(20201015, CONVERT(VARCHAR(32), HASHBYTES('MD5', 'stu2015'), 2), 'Student', 'Student', 'stu2015@iitg.ac.in'),\r\n",
                "(20201016, CONVERT(VARCHAR(32), HASHBYTES('MD5', 'stu2016'), 2), 'Student', 'Student', 'stu2016@iitg.ac.in'),\r\n",
                "(20201017, CONVERT(VARCHAR(32), HASHBYTES('MD5', 'stu2017'), 2), 'Student', 'Student', 'stu2017@iitg.ac.in'),\r\n",
                "(20201018, CONVERT(VARCHAR(32), HASHBYTES('MD5', 'stu2018'), 2), 'Student', 'Student', 'stu2018@iitg.ac.in'),\r\n",
                "(20201019, CONVERT(VARCHAR(32), HASHBYTES('MD5', 'stu2019'), 2), 'Student', 'Student', 'stu2019@iitg.ac.in'),\r\n",
                "(20201020, CONVERT(VARCHAR(32), HASHBYTES('MD5', 'stu2020'), 2), 'Student', 'Student', 'stu2020@iitg.ac.in'),\r\n",
                "(20201021, CONVERT(VARCHAR(32), HASHBYTES('MD5', 'stu2021'), 2), 'Student', 'Student', 'stu2021@iitg.ac.in'),\r\n",
                "(20201022, CONVERT(VARCHAR(32), HASHBYTES('MD5', 'stu2022'), 2), 'Student', 'Student', 'stu2022@iitg.ac.in'),\r\n",
                "(20201023, CONVERT(VARCHAR(32), HASHBYTES('MD5', 'stu2023'), 2), 'Student', 'Student', 'stu2023@iitg.ac.in'),\r\n",
                "(20201024, CONVERT(VARCHAR(32), HASHBYTES('MD5', 'stu2024'), 2), 'Student', 'Student', 'stu2024@iitg.ac.in'),\r\n",
                "(20201025, CONVERT(VARCHAR(32), HASHBYTES('MD5', 'stu2025'), 2), 'Student', 'Student', 'stu2025@iitg.ac.in'),\r\n",
                "(20201026, CONVERT(VARCHAR(32), HASHBYTES('MD5', 'stu2026'), 2), 'Student', 'Student', 'stu2026@iitg.ac.in'),\r\n",
                "(20201027, CONVERT(VARCHAR(32), HASHBYTES('MD5', 'stu2027'), 2), 'Student', 'Student', 'stu2027@iitg.ac.in'),\r\n",
                "(20201028, CONVERT(VARCHAR(32), HASHBYTES('MD5', 'stu2028'), 2), 'Student', 'Student', 'stu2028@iitg.ac.in'),\r\n",
                "(20201029, CONVERT(VARCHAR(32), HASHBYTES('MD5', 'stu2029'), 2), 'Student', 'Student', 'stu2029@iitg.ac.in'),\r\n",
                "(20201030, CONVERT(VARCHAR(32), HASHBYTES('MD5', 'stu2030'), 2), 'Student', 'Student', 'stu2030@iitg.ac.in'),\r\n",
                "(20211001, CONVERT(VARCHAR(32), HASHBYTES('MD5', 'stu2101'), 2), 'Student', 'Student', 'stu2101@iitg.ac.in'),\r\n",
                "(20211002, CONVERT(VARCHAR(32), HASHBYTES('MD5', 'stu2102'), 2), 'Student', 'Student', 'stu2102@iitg.ac.in'),\r\n",
                "(20211003, CONVERT(VARCHAR(32), HASHBYTES('MD5', 'stu2103'), 2), 'Student', 'Student', 'stu2103@iitg.ac.in'),\r\n",
                "(20211004, CONVERT(VARCHAR(32), HASHBYTES('MD5', 'stu2104'), 2), 'Student', 'Student', 'stu2104@iitg.ac.in'),\r\n",
                "(20211005, CONVERT(VARCHAR(32), HASHBYTES('MD5', 'stu2105'), 2), 'Student', 'Student', 'stu2105@iitg.ac.in'),\r\n",
                "(20211006, CONVERT(VARCHAR(32), HASHBYTES('MD5', 'stu2106'), 2), 'Student', 'Student', 'stu2106@iitg.ac.in'),\r\n",
                "(20211007, CONVERT(VARCHAR(32), HASHBYTES('MD5', 'stu2107'), 2), 'Student', 'Student', 'stu2107@iitg.ac.in'),\r\n",
                "(20211008, CONVERT(VARCHAR(32), HASHBYTES('MD5', 'stu2108'), 2), 'Student', 'Student', 'stu2108@iitg.ac.in'),\r\n",
                "(20211009, CONVERT(VARCHAR(32), HASHBYTES('MD5', 'stu2109'), 2), 'Student', 'Student', 'stu2109@iitg.ac.in'),\r\n",
                "(20211010, CONVERT(VARCHAR(32), HASHBYTES('MD5', 'stu2110'), 2), 'Student', 'Student', 'stu2110@iitg.ac.in'),\r\n",
                "(20211011, CONVERT(VARCHAR(32), HASHBYTES('MD5', 'stu2111'), 2), 'Student', 'Student', 'stu2111@iitg.ac.in'),\r\n",
                "(20211012, CONVERT(VARCHAR(32), HASHBYTES('MD5', 'stu2112'), 2), 'Student', 'Student', 'stu2112@iitg.ac.in'),\r\n",
                "(20211013, CONVERT(VARCHAR(32), HASHBYTES('MD5', 'stu2113'), 2), 'Student', 'Student', 'stu2113@iitg.ac.in'),\r\n",
                "(20211014, CONVERT(VARCHAR(32), HASHBYTES('MD5', 'stu2114'), 2), 'Student', 'Student', 'stu2114@iitg.ac.in'),\r\n",
                "(20211015, CONVERT(VARCHAR(32), HASHBYTES('MD5', 'stu2115'), 2), 'Student', 'Student', 'stu2115@iitg.ac.in'),\r\n",
                "(20211016, CONVERT(VARCHAR(32), HASHBYTES('MD5', 'stu2116'), 2), 'Student', 'Student', 'stu2116@iitg.ac.in'),\r\n",
                "(20211017, CONVERT(VARCHAR(32), HASHBYTES('MD5', 'stu2117'), 2), 'Student', 'Student', 'stu2117@iitg.ac.in'),\r\n",
                "(20211018, CONVERT(VARCHAR(32), HASHBYTES('MD5', 'stu2118'), 2), 'Student', 'Student', 'stu2118@iitg.ac.in'),\r\n",
                "(20211019, CONVERT(VARCHAR(32), HASHBYTES('MD5', 'stu2119'), 2), 'Student', 'Student', 'stu2119@iitg.ac.in'),\r\n",
                "(20211020, CONVERT(VARCHAR(32), HASHBYTES('MD5', 'stu2120'), 2), 'Student', 'Student', 'stu2120@iitg.ac.in'),\r\n",
                "(20211021, CONVERT(VARCHAR(32), HASHBYTES('MD5', 'stu2121'), 2), 'Student', 'Student', 'stu2121@iitg.ac.in'),\r\n",
                "(20211022, CONVERT(VARCHAR(32), HASHBYTES('MD5', 'stu2122'), 2), 'Student', 'Student', 'stu2122@iitg.ac.in'),\r\n",
                "(20211023, CONVERT(VARCHAR(32), HASHBYTES('MD5', 'stu2123'), 2), 'Student', 'Student', 'stu2123@iitg.ac.in'),\r\n",
                "(20211024, CONVERT(VARCHAR(32), HASHBYTES('MD5', 'stu2124'), 2), 'Student', 'Student', 'stu2124@iitg.ac.in'),\r\n",
                "(20211025, CONVERT(VARCHAR(32), HASHBYTES('MD5', 'stu2125'), 2), 'Student', 'Student', 'stu2125@iitg.ac.in'),\r\n",
                "(20211026, CONVERT(VARCHAR(32), HASHBYTES('MD5', 'stu2126'), 2), 'Student', 'Student', 'stu2126@iitg.ac.in'),\r\n",
                "(20211027, CONVERT(VARCHAR(32), HASHBYTES('MD5', 'stu2127'), 2), 'Student', 'Student', 'stu2127@iitg.ac.in'),\r\n",
                "(20211028, CONVERT(VARCHAR(32), HASHBYTES('MD5', 'stu2128'), 2), 'Student', 'Student', 'stu2128@iitg.ac.in'),\r\n",
                "(20211029, CONVERT(VARCHAR(32), HASHBYTES('MD5', 'stu2129'), 2), 'Student', 'Student', 'stu2129@iitg.ac.in'),\r\n",
                "(20211030, CONVERT(VARCHAR(32), HASHBYTES('MD5', 'stu2130'), 2), 'Student', 'Student', 'stu2130@iitg.ac.in'),\r\n",
                "(20221001, CONVERT(VARCHAR(32), HASHBYTES('MD5', 'stu2201'), 2), 'Student', 'Student', 'stu2201@iitg.ac.in'),\r\n",
                "(20221002, CONVERT(VARCHAR(32), HASHBYTES('MD5', 'stu2202'), 2), 'Student', 'Student', 'stu2202@iitg.ac.in'),\r\n",
                "(20221003, CONVERT(VARCHAR(32), HASHBYTES('MD5', 'stu2203'), 2), 'Student', 'Student', 'stu2203@iitg.ac.in'),\r\n",
                "(20221004, CONVERT(VARCHAR(32), HASHBYTES('MD5', 'stu2204'), 2), 'Student', 'Student', 'stu2204@iitg.ac.in'),\r\n",
                "(20221005, CONVERT(VARCHAR(32), HASHBYTES('MD5', 'stu2205'), 2), 'Student', 'Student', 'stu2205@iitg.ac.in'),\r\n",
                "(20221006, CONVERT(VARCHAR(32), HASHBYTES('MD5', 'stu2206'), 2), 'Student', 'Student', 'stu2206@iitg.ac.in'),\r\n",
                "(20221007, CONVERT(VARCHAR(32), HASHBYTES('MD5', 'stu2207'), 2), 'Student', 'Student', 'stu2207@iitg.ac.in'),\r\n",
                "(20221008, CONVERT(VARCHAR(32), HASHBYTES('MD5', 'stu2208'), 2), 'Student', 'Student', 'stu2208@iitg.ac.in'),\r\n",
                "(20221009, CONVERT(VARCHAR(32), HASHBYTES('MD5', 'stu2209'), 2), 'Student', 'Student', 'stu2209@iitg.ac.in'),\r\n",
                "(20221010, CONVERT(VARCHAR(32), HASHBYTES('MD5', 'stu2210'), 2), 'Student', 'Student', 'stu2210@iitg.ac.in'),\r\n",
                "(20221011, CONVERT(VARCHAR(32), HASHBYTES('MD5', 'stu2211'), 2), 'Student', 'Student', 'stu2211@iitg.ac.in'),\r\n",
                "(20221012, CONVERT(VARCHAR(32), HASHBYTES('MD5', 'stu2212'), 2), 'Student', 'Student', 'stu2212@iitg.ac.in'),\r\n",
                "(20221013, CONVERT(VARCHAR(32), HASHBYTES('MD5', 'stu2213'), 2), 'Student', 'Student', 'stu2213@iitg.ac.in'),\r\n",
                "(20221014, CONVERT(VARCHAR(32), HASHBYTES('MD5', 'stu2214'), 2), 'Student', 'Student', 'stu2214@iitg.ac.in'),\r\n",
                "(20221015, CONVERT(VARCHAR(32), HASHBYTES('MD5', 'stu2215'), 2), 'Student', 'Student', 'stu2215@iitg.ac.in'),\r\n",
                "(20221016, CONVERT(VARCHAR(32), HASHBYTES('MD5', 'stu2216'), 2), 'Student', 'Student', 'stu2216@iitg.ac.in'),\r\n",
                "(20221017, CONVERT(VARCHAR(32), HASHBYTES('MD5', 'stu2217'), 2), 'Student', 'Student', 'stu2217@iitg.ac.in'),\r\n",
                "(20221018, CONVERT(VARCHAR(32), HASHBYTES('MD5', 'stu2218'), 2), 'Student', 'Student', 'stu2218@iitg.ac.in'),\r\n",
                "(20221019, CONVERT(VARCHAR(32), HASHBYTES('MD5', 'stu2219'), 2), 'Student', 'Student', 'stu2219@iitg.ac.in'),\r\n",
                "(20221020, CONVERT(VARCHAR(32), HASHBYTES('MD5', 'stu2220'), 2), 'Student', 'Student', 'stu2220@iitg.ac.in'),\r\n",
                "(20221021, CONVERT(VARCHAR(32), HASHBYTES('MD5', 'stu2221'), 2), 'Student', 'Student', 'stu2221@iitg.ac.in'),\r\n",
                "(20221022, CONVERT(VARCHAR(32), HASHBYTES('MD5', 'stu2222'), 2), 'Student', 'Student', 'stu2222@iitg.ac.in'),\r\n",
                "(20221023, CONVERT(VARCHAR(32), HASHBYTES('MD5', 'stu2223'), 2), 'Student', 'Student', 'stu2223@iitg.ac.in'),\r\n",
                "(20221024, CONVERT(VARCHAR(32), HASHBYTES('MD5', 'stu2224'), 2), 'Student', 'Student', 'stu2224@iitg.ac.in'),\r\n",
                "(20221025, CONVERT(VARCHAR(32), HASHBYTES('MD5', 'stu2225'), 2), 'Student', 'Student', 'stu2225@iitg.ac.in'),\r\n",
                "(20221026, CONVERT(VARCHAR(32), HASHBYTES('MD5', 'stu2226'), 2), 'Student', 'Student', 'stu2226@iitg.ac.in'),\r\n",
                "(20221027, CONVERT(VARCHAR(32), HASHBYTES('MD5', 'stu2227'), 2), 'Student', 'Student', 'stu2227@iitg.ac.in'),\r\n",
                "(20221028, CONVERT(VARCHAR(32), HASHBYTES('MD5', 'stu2228'), 2), 'Student', 'Student', 'stu2228@iitg.ac.in'),\r\n",
                "(20221029, CONVERT(VARCHAR(32), HASHBYTES('MD5', 'stu2229'), 2), 'Student', 'Student', 'stu2229@iitg.ac.in'),\r\n",
                "(20221030, CONVERT(VARCHAR(32), HASHBYTES('MD5', 'stu2230'), 2), 'Student', 'Student', 'stu2230@iitg.ac.in'),\r\n",
                "(20231001, CONVERT(VARCHAR(32), HASHBYTES('MD5', 'stu2301'), 2), 'Student', 'Student', 'stu2301@iitg.ac.in'),\r\n",
                "(20231002, CONVERT(VARCHAR(32), HASHBYTES('MD5', 'stu2302'), 2), 'Student', 'Student', 'stu2302@iitg.ac.in'),\r\n",
                "(20231003, CONVERT(VARCHAR(32), HASHBYTES('MD5', 'stu2303'), 2), 'Student', 'Student', 'stu2303@iitg.ac.in'),\r\n",
                "(20231004, CONVERT(VARCHAR(32), HASHBYTES('MD5', 'stu2304'), 2), 'Student', 'Student', 'stu2304@iitg.ac.in'),\r\n",
                "(20231005, CONVERT(VARCHAR(32), HASHBYTES('MD5', 'stu2305'), 2), 'Student', 'Student', 'stu2305@iitg.ac.in'),\r\n",
                "(20231006, CONVERT(VARCHAR(32), HASHBYTES('MD5', 'stu2306'), 2), 'Student', 'Student', 'stu2306@iitg.ac.in'),\r\n",
                "(20231007, CONVERT(VARCHAR(32), HASHBYTES('MD5', 'stu2307'), 2), 'Student', 'Student', 'stu2307@iitg.ac.in'),\r\n",
                "(20231008, CONVERT(VARCHAR(32), HASHBYTES('MD5', 'stu2308'), 2), 'Student', 'Student', 'stu2308@iitg.ac.in'),\r\n",
                "(20231009, CONVERT(VARCHAR(32), HASHBYTES('MD5', 'stu2309'), 2), 'Student', 'Student', 'stu2309@iitg.ac.in'),\r\n",
                "(20231010, CONVERT(VARCHAR(32), HASHBYTES('MD5', 'stu2310'), 2), 'Student', 'Student', 'stu2310@iitg.ac.in'),\r\n",
                "(20231011, CONVERT(VARCHAR(32), HASHBYTES('MD5', 'stu2311'), 2), 'Student', 'Student', 'stu2311@iitg.ac.in'),\r\n",
                "(20231012, CONVERT(VARCHAR(32), HASHBYTES('MD5', 'stu2312'), 2), 'Student', 'Student', 'stu2312@iitg.ac.in'),\r\n",
                "(20231013, CONVERT(VARCHAR(32), HASHBYTES('MD5', 'stu2313'), 2), 'Student', 'Student', 'stu2313@iitg.ac.in'),\r\n",
                "(20231014, CONVERT(VARCHAR(32), HASHBYTES('MD5', 'stu2314'), 2), 'Student', 'Student', 'stu2314@iitg.ac.in'),\r\n",
                "(20231015, CONVERT(VARCHAR(32), HASHBYTES('MD5', 'stu2315'), 2), 'Student', 'Student', 'stu2315@iitg.ac.in'),\r\n",
                "(20231016, CONVERT(VARCHAR(32), HASHBYTES('MD5', 'stu2316'), 2), 'Student', 'Student', 'stu2316@iitg.ac.in'),\r\n",
                "(20231017, CONVERT(VARCHAR(32), HASHBYTES('MD5', 'stu2317'), 2), 'Student', 'Student', 'stu2317@iitg.ac.in'),\r\n",
                "(20231018, CONVERT(VARCHAR(32), HASHBYTES('MD5', 'stu2318'), 2), 'Student', 'Student', 'stu2318@iitg.ac.in'),\r\n",
                "(20231019, CONVERT(VARCHAR(32), HASHBYTES('MD5', 'stu2319'), 2), 'Student', 'Student', 'stu2319@iitg.ac.in'),\r\n",
                "(20231020, CONVERT(VARCHAR(32), HASHBYTES('MD5', 'stu2320'), 2), 'Student', 'Student', 'stu2320@iitg.ac.in'),\r\n",
                "(20231021, CONVERT(VARCHAR(32), HASHBYTES('MD5', 'stu2321'), 2), 'Student', 'Student', 'stu2321@iitg.ac.in'),\r\n",
                "(20231022, CONVERT(VARCHAR(32), HASHBYTES('MD5', 'stu2322'), 2), 'Student', 'Student', 'stu2322@iitg.ac.in'),\r\n",
                "(20231023, CONVERT(VARCHAR(32), HASHBYTES('MD5', 'stu2323'), 2), 'Student', 'Student', 'stu2323@iitg.ac.in'),\r\n",
                "(20231024, CONVERT(VARCHAR(32), HASHBYTES('MD5', 'stu2324'), 2), 'Student', 'Student', 'stu2324@iitg.ac.in'),\r\n",
                "(20231025, CONVERT(VARCHAR(32), HASHBYTES('MD5', 'stu2325'), 2), 'Student', 'Student', 'stu2325@iitg.ac.in'),\r\n",
                "(20231026, CONVERT(VARCHAR(32), HASHBYTES('MD5', 'stu2326'), 2), 'Student', 'Student', 'stu2326@iitg.ac.in'),\r\n",
                "(20231027, CONVERT(VARCHAR(32), HASHBYTES('MD5', 'stu2327'), 2), 'Student', 'Student', 'stu2327@iitg.ac.in'),\r\n",
                "(20231028, CONVERT(VARCHAR(32), HASHBYTES('MD5', 'stu2328'), 2), 'Student', 'Student', 'stu2328@iitg.ac.in'),\r\n",
                "(20231029, CONVERT(VARCHAR(32), HASHBYTES('MD5', 'stu2329'), 2), 'Student', 'Student', 'stu2329@iitg.ac.in'),\r\n",
                "(20231030, CONVERT(VARCHAR(32), HASHBYTES('MD5', 'stu2330'), 2), 'Student', 'Student', 'stu2330@iitg.ac.in');\r\n",
                ""
            ],
            "metadata": {
                "language": "sql",
                "azdata_cell_guid": "81bc15d4-052d-41de-8a4c-654e131d274e"
            },
            "outputs": [
                {
                    "output_type": "display_data",
                    "data": {
                        "text/html": "(120 rows affected)"
                    },
                    "metadata": {}
                },
                {
                    "output_type": "display_data",
                    "data": {
                        "text/html": "Total execution time: 00:00:00.308"
                    },
                    "metadata": {}
                }
            ],
            "execution_count": 10
        },
        {
            "cell_type": "code",
            "source": [
                "UPDATE student\r\n",
                "SET Email = CONCAT(name, '@iitg.ac.in');\r\n",
                ""
            ],
            "metadata": {
                "azdata_cell_guid": "cbd50361-1563-47cb-8647-7b1a4208bf99",
                "language": "sql"
            },
            "outputs": [
                {
                    "output_type": "display_data",
                    "data": {
                        "text/html": "(120 rows affected)"
                    },
                    "metadata": {}
                },
                {
                    "output_type": "display_data",
                    "data": {
                        "text/html": "Total execution time: 00:00:00.297"
                    },
                    "metadata": {}
                }
            ],
            "execution_count": 11
        },
        {
            "cell_type": "code",
            "source": [
                "SELECT * FROM [dbo].[student] where User_ID = 20211001;"
            ],
            "metadata": {
                "azdata_cell_guid": "560ec0db-bc34-4d4e-a01a-04992d002b8f",
                "language": "sql"
            },
            "outputs": [
                {
                    "output_type": "display_data",
                    "data": {
                        "text/html": "(1 row affected)"
                    },
                    "metadata": {}
                },
                {
                    "output_type": "display_data",
                    "data": {
                        "text/html": "Total execution time: 00:00:00.266"
                    },
                    "metadata": {}
                },
                {
                    "output_type": "execute_result",
                    "execution_count": 14,
                    "data": {
                        "application/vnd.dataresource+json": {
                            "schema": {
                                "fields": [
                                    {
                                        "name": "User_ID"
                                    },
                                    {
                                        "name": "Name"
                                    },
                                    {
                                        "name": "DOB"
                                    },
                                    {
                                        "name": "Contact"
                                    },
                                    {
                                        "name": "Enrollment_Year"
                                    },
                                    {
                                        "name": "Address"
                                    },
                                    {
                                        "name": "Current_Semester"
                                    },
                                    {
                                        "name": "Email"
                                    }
                                ]
                            },
                            "data": [
                                {
                                    "User_ID": "20211001",
                                    "Name": "stu2101",
                                    "DOB": "1999-01-01",
                                    "Contact": "9876543210",
                                    "Enrollment_Year": "2021",
                                    "Address": "IIT Guwahati, Brahmaputra hostel",
                                    "Current_Semester": "6",
                                    "Email": "stu2101@iitg.ac.in"
                                }
                            ]
                        },
                        "text/html": "<table><tr><th>User_ID</th><th>Name</th><th>DOB</th><th>Contact</th><th>Enrollment_Year</th><th>Address</th><th>Current_Semester</th><th>Email</th></tr><tr><td>20211001</td><td>stu2101</td><td>1999-01-01</td><td>9876543210</td><td>2021</td><td>IIT Guwahati, Brahmaputra hostel</td><td>6</td><td>stu2101@iitg.ac.in</td></tr></table>"
                    },
                    "metadata": {}
                }
            ],
            "execution_count": 14
        },
        {
            "cell_type": "code",
            "source": [
                "select * from [dbo].[course_Structure];"
            ],
            "metadata": {
                "azdata_cell_guid": "9f64281d-6bc6-4bfd-8b47-9303d03c550a",
                "language": "sql"
            },
            "outputs": [
                {
                    "output_type": "display_data",
                    "data": {
                        "text/html": "(54 rows affected)"
                    },
                    "metadata": {}
                },
                {
                    "output_type": "display_data",
                    "data": {
                        "text/html": "Total execution time: 00:00:00.912"
                    },
                    "metadata": {}
                },
                {
                    "output_type": "execute_result",
                    "execution_count": 9,
                    "data": {
                        "application/vnd.dataresource+json": {
                            "schema": {
                                "fields": [
                                    {
                                        "name": "Course_Code"
                                    },
                                    {
                                        "name": "Name"
                                    },
                                    {
                                        "name": "L"
                                    },
                                    {
                                        "name": "T"
                                    },
                                    {
                                        "name": "P"
                                    },
                                    {
                                        "name": "C"
                                    },
                                    {
                                        "name": "Semester"
                                    },
                                    {
                                        "name": "Elective"
                                    }
                                ]
                            },
                            "data": [
                                {
                                    "Course_Code": "MA222",
                                    "Name": "Elementary Number Theory and Algebra",
                                    "L": "3",
                                    "T": "0",
                                    "P": "0",
                                    "C": "6",
                                    "Semester": "3",
                                    "Elective": "NULL"
                                },
                                {
                                    "Course_Code": "CS205",
                                    "Name": "Formal Languages, Automata Theory and Computation",
                                    "L": "3",
                                    "T": "0",
                                    "P": "0",
                                    "C": "6",
                                    "Semester": "4",
                                    "Elective": "NULL"
                                },
                                {
                                    "Course_Code": "MA225",
                                    "Name": "Probability Theory and Random Processes",
                                    "L": "3",
                                    "T": "1",
                                    "P": "0",
                                    "C": "8",
                                    "Semester": "3",
                                    "Elective": "NULL"
                                },
                                {
                                    "Course_Code": "CS207",
                                    "Name": "Design and Analysis of Algorithms",
                                    "L": "3",
                                    "T": "0",
                                    "P": "0",
                                    "C": "6",
                                    "Semester": "4",
                                    "Elective": "NULL"
                                },
                                {
                                    "Course_Code": "CS201",
                                    "Name": "Discrete Mathematics",
                                    "L": "3",
                                    "T": "0",
                                    "P": "0",
                                    "C": "6",
                                    "Semester": "3",
                                    "Elective": "NULL"
                                },
                                {
                                    "Course_Code": "CS223",
                                    "Name": "Computer Architecture and Organization",
                                    "L": "3",
                                    "T": "0",
                                    "P": "0",
                                    "C": "6",
                                    "Semester": "4",
                                    "Elective": "NULL"
                                },
                                {
                                    "Course_Code": "CS203",
                                    "Name": "Algorithms and Data Structures",
                                    "L": "3",
                                    "T": "0",
                                    "P": "0",
                                    "C": "6",
                                    "Semester": "3",
                                    "Elective": "NULL"
                                },
                                {
                                    "Course_Code": "CS224",
                                    "Name": "Hardware Laboratory",
                                    "L": "0",
                                    "T": "1",
                                    "P": "4",
                                    "C": "6",
                                    "Semester": "4",
                                    "Elective": "NULL"
                                },
                                {
                                    "Course_Code": "CS204",
                                    "Name": "Algorithms and Data Structures Laboratory",
                                    "L": "0",
                                    "T": "1",
                                    "P": "3",
                                    "C": "5",
                                    "Semester": "3",
                                    "Elective": "NULL"
                                },
                                {
                                    "Course_Code": "CS245",
                                    "Name": "Database Management Systems",
                                    "L": "3",
                                    "T": "0",
                                    "P": "0",
                                    "C": "6",
                                    "Semester": "4",
                                    "Elective": "NULL"
                                },
                                {
                                    "Course_Code": "CS221",
                                    "Name": "Digital Design",
                                    "L": "3",
                                    "T": "0",
                                    "P": "0",
                                    "C": "6",
                                    "Semester": "3",
                                    "Elective": "NULL"
                                },
                                {
                                    "Course_Code": "CS246",
                                    "Name": "Database Management Systems Laboratory",
                                    "L": "0",
                                    "T": "0",
                                    "P": "4",
                                    "C": "4",
                                    "Semester": "4",
                                    "Elective": "NULL"
                                },
                                {
                                    "Course_Code": "CS242",
                                    "Name": "System Software Laboratory",
                                    "L": "0",
                                    "T": "1",
                                    "P": "3",
                                    "C": "5",
                                    "Semester": "3",
                                    "Elective": "NULL"
                                },
                                {
                                    "Course_Code": "HS1xx",
                                    "Name": "HSS Elective - I Level-I",
                                    "L": "3",
                                    "T": "0",
                                    "P": "0",
                                    "C": "6",
                                    "Semester": "4",
                                    "Elective": "NULL"
                                },
                                {
                                    "Course_Code": "MA222",
                                    "Name": "Elementary Number Theory and Algebra",
                                    "L": "3",
                                    "T": "0",
                                    "P": "0",
                                    "C": "6",
                                    "Semester": "1",
                                    "Elective": "NULL"
                                },
                                {
                                    "Course_Code": "CS205",
                                    "Name": "Formal Languages, Automata Theory and Computation",
                                    "L": "3",
                                    "T": "0",
                                    "P": "0",
                                    "C": "6",
                                    "Semester": "1",
                                    "Elective": "NULL"
                                },
                                {
                                    "Course_Code": "MA225",
                                    "Name": "Probability Theory and Random Processes",
                                    "L": "3",
                                    "T": "1",
                                    "P": "0",
                                    "C": "8",
                                    "Semester": "1",
                                    "Elective": "NULL"
                                },
                                {
                                    "Course_Code": "CS207",
                                    "Name": "Design and Analysis of Algorithms",
                                    "L": "3",
                                    "T": "0",
                                    "P": "0",
                                    "C": "6",
                                    "Semester": "1",
                                    "Elective": "NULL"
                                },
                                {
                                    "Course_Code": "CS201",
                                    "Name": "Discrete Mathematics",
                                    "L": "3",
                                    "T": "0",
                                    "P": "0",
                                    "C": "6",
                                    "Semester": "1",
                                    "Elective": "NULL"
                                },
                                {
                                    "Course_Code": "CS223",
                                    "Name": "Computer Architecture and Organization",
                                    "L": "3",
                                    "T": "0",
                                    "P": "0",
                                    "C": "6",
                                    "Semester": "1",
                                    "Elective": "NULL"
                                },
                                {
                                    "Course_Code": "CS203",
                                    "Name": "Algorithms and Data Structures",
                                    "L": "3",
                                    "T": "0",
                                    "P": "0",
                                    "C": "6",
                                    "Semester": "1",
                                    "Elective": "NULL"
                                },
                                {
                                    "Course_Code": "CS224",
                                    "Name": "Hardware Laboratory",
                                    "L": "0",
                                    "T": "1",
                                    "P": "4",
                                    "C": "6",
                                    "Semester": "1",
                                    "Elective": "NULL"
                                },
                                {
                                    "Course_Code": "CS204",
                                    "Name": "Algorithms and Data Structures Laboratory",
                                    "L": "0",
                                    "T": "1",
                                    "P": "3",
                                    "C": "5",
                                    "Semester": "1",
                                    "Elective": "NULL"
                                },
                                {
                                    "Course_Code": "CS245",
                                    "Name": "Database Management Systems",
                                    "L": "3",
                                    "T": "0",
                                    "P": "0",
                                    "C": "6",
                                    "Semester": "2",
                                    "Elective": "NULL"
                                },
                                {
                                    "Course_Code": "CS221",
                                    "Name": "Digital Design",
                                    "L": "3",
                                    "T": "0",
                                    "P": "0",
                                    "C": "6",
                                    "Semester": "2",
                                    "Elective": "NULL"
                                },
                                {
                                    "Course_Code": "CS246",
                                    "Name": "Database Management Systems Laboratory",
                                    "L": "0",
                                    "T": "0",
                                    "P": "4",
                                    "C": "4",
                                    "Semester": "2",
                                    "Elective": "NULL"
                                },
                                {
                                    "Course_Code": "CS242",
                                    "Name": "System Software Laboratory",
                                    "L": "0",
                                    "T": "1",
                                    "P": "3",
                                    "C": "5",
                                    "Semester": "2",
                                    "Elective": "NULL"
                                },
                                {
                                    "Course_Code": "HS1xx",
                                    "Name": "HSS Elective - I Level-I",
                                    "L": "3",
                                    "T": "0",
                                    "P": "0",
                                    "C": "6",
                                    "Semester": "2",
                                    "Elective": "NULL"
                                },
                                {
                                    "Course_Code": "OE4xx",
                                    "Name": "Open Elective",
                                    "L": "3",
                                    "T": "0",
                                    "P": "0",
                                    "C": "6",
                                    "Semester": "7",
                                    "Elective": "NULL"
                                },
                                {
                                    "Course_Code": "OExxx",
                                    "Name": "Open Elective",
                                    "L": "3",
                                    "T": "0",
                                    "P": "0",
                                    "C": "6",
                                    "Semester": "8",
                                    "Elective": "NULL"
                                },
                                {
                                    "Course_Code": "OExxx / CSxxx",
                                    "Name": "Open Elective / Departmental Elective -V",
                                    "L": "3",
                                    "T": "0",
                                    "P": "0",
                                    "C": "6",
                                    "Semester": "7",
                                    "Elective": "NULL"
                                },
                                {
                                    "Course_Code": "OExxx",
                                    "Name": "Open Elective",
                                    "L": "3",
                                    "T": "0",
                                    "P": "0",
                                    "C": "6",
                                    "Semester": "8",
                                    "Elective": "NULL"
                                },
                                {
                                    "Course_Code": "CSxxx",
                                    "Name": "Departmental Elective-VI",
                                    "L": "3",
                                    "T": "0",
                                    "P": "0",
                                    "C": "6",
                                    "Semester": "7",
                                    "Elective": "NULL"
                                },
                                {
                                    "Course_Code": "CSxxx",
                                    "Name": "Departmental Elective -IX",
                                    "L": "3",
                                    "T": "0",
                                    "P": "0",
                                    "C": "6",
                                    "Semester": "8",
                                    "Elective": "NULL"
                                },
                                {
                                    "Course_Code": "CSxxx",
                                    "Name": "Departmental Elective-VII",
                                    "L": "3",
                                    "T": "0",
                                    "P": "0",
                                    "C": "6",
                                    "Semester": "7",
                                    "Elective": "NULL"
                                },
                                {
                                    "Course_Code": "CSxxx",
                                    "Name": "Departmental Elective-X",
                                    "L": "3",
                                    "T": "0",
                                    "P": "0",
                                    "C": "6",
                                    "Semester": "8",
                                    "Elective": "NULL"
                                },
                                {
                                    "Course_Code": "CSxxx",
                                    "Name": "Departmental Elective-VIII",
                                    "L": "3",
                                    "T": "0",
                                    "P": "0",
                                    "C": "6",
                                    "Semester": "7",
                                    "Elective": "NULL"
                                },
                                {
                                    "Course_Code": "CSxxx",
                                    "Name": "Departmental Elective-XI",
                                    "L": "3",
                                    "T": "0",
                                    "P": "0",
                                    "C": "6",
                                    "Semester": "8",
                                    "Elective": "NULL"
                                },
                                {
                                    "Course_Code": "HS2xx",
                                    "Name": "HSS Elective - I Level-II",
                                    "L": "3",
                                    "T": "0",
                                    "P": "0",
                                    "C": "6",
                                    "Semester": "7",
                                    "Elective": "NULL"
                                },
                                {
                                    "Course_Code": "HS2xx",
                                    "Name": "HSS Elective - II Level-II",
                                    "L": "3",
                                    "T": "0",
                                    "P": "0",
                                    "C": "6",
                                    "Semester": "8",
                                    "Elective": "NULL"
                                },
                                {
                                    "Course_Code": "MA321",
                                    "Name": "Optimization",
                                    "L": "3",
                                    "T": "0",
                                    "P": "0",
                                    "C": "6",
                                    "Semester": "5",
                                    "Elective": "NULL"
                                },
                                {
                                    "Course_Code": "CS345",
                                    "Name": "Software Engineering",
                                    "L": "2",
                                    "T": "0",
                                    "P": "0",
                                    "C": "4",
                                    "Semester": "6",
                                    "Elective": "NULL"
                                },
                                {
                                    "Course_Code": "CS341",
                                    "Name": "Computer Networks",
                                    "L": "3",
                                    "T": "0",
                                    "P": "0",
                                    "C": "6",
                                    "Semester": "5",
                                    "Elective": "NULL"
                                },
                                {
                                    "Course_Code": "CS346",
                                    "Name": "Software Engineering Laboratory",
                                    "L": "0",
                                    "T": "0",
                                    "P": "3",
                                    "C": "3",
                                    "Semester": "6",
                                    "Elective": "NULL"
                                },
                                {
                                    "Course_Code": "CS342",
                                    "Name": "Computer Networks Laboratory",
                                    "L": "0",
                                    "T": "0",
                                    "P": "4",
                                    "C": "4",
                                    "Semester": "5",
                                    "Elective": "NULL"
                                },
                                {
                                    "Course_Code": "CS348",
                                    "Name": "Implementation of Programming Languages Lab",
                                    "L": "0",
                                    "T": "2",
                                    "P": "3",
                                    "C": "7",
                                    "Semester": "6",
                                    "Elective": "NULL"
                                },
                                {
                                    "Course_Code": "CS343",
                                    "Name": "Operating Systems",
                                    "L": "3",
                                    "T": "0",
                                    "P": "0",
                                    "C": "6",
                                    "Semester": "5",
                                    "Elective": "NULL"
                                },
                                {
                                    "Course_Code": "CS361",
                                    "Name": "Machine Learning",
                                    "L": "3",
                                    "T": "0",
                                    "P": "0",
                                    "C": "6",
                                    "Semester": "6",
                                    "Elective": "NULL"
                                },
                                {
                                    "Course_Code": "CS344",
                                    "Name": "Operating Systems Laboratory",
                                    "L": "0",
                                    "T": "0",
                                    "P": "4",
                                    "C": "4",
                                    "Semester": "5",
                                    "Elective": "NULL"
                                },
                                {
                                    "Course_Code": "CSxxx",
                                    "Name": "Departmental Elective - II",
                                    "L": "3",
                                    "T": "0",
                                    "P": "0",
                                    "C": "6",
                                    "Semester": "6",
                                    "Elective": "NULL"
                                },
                                {
                                    "Course_Code": "CSxxx",
                                    "Name": "Departmental Elective - I",
                                    "L": "3",
                                    "T": "0",
                                    "P": "0",
                                    "C": "6",
                                    "Semester": "5",
                                    "Elective": "NULL"
                                },
                                {
                                    "Course_Code": "CSxxx",
                                    "Name": "Departmental Elective - III",
                                    "L": "3",
                                    "T": "0",
                                    "P": "0",
                                    "C": "6",
                                    "Semester": "6",
                                    "Elective": "NULL"
                                },
                                {
                                    "Course_Code": "HS1xx",
                                    "Name": "HSS Elective - II Level-I",
                                    "L": "3",
                                    "T": "0",
                                    "P": "0",
                                    "C": "6",
                                    "Semester": "5",
                                    "Elective": "NULL"
                                },
                                {
                                    "Course_Code": "CSxxx",
                                    "Name": "Departmental Elective - IV",
                                    "L": "0",
                                    "T": "1",
                                    "P": "3",
                                    "C": "5",
                                    "Semester": "6",
                                    "Elective": "NULL"
                                }
                            ]
                        },
                        "text/html": "<table><tr><th>Course_Code</th><th>Name</th><th>L</th><th>T</th><th>P</th><th>C</th><th>Semester</th><th>Elective</th></tr><tr><td>MA222</td><td>Elementary Number Theory and Algebra</td><td>3</td><td>0</td><td>0</td><td>6</td><td>3</td><td>NULL</td></tr><tr><td>CS205</td><td>Formal Languages, Automata Theory and Computation</td><td>3</td><td>0</td><td>0</td><td>6</td><td>4</td><td>NULL</td></tr><tr><td>MA225</td><td>Probability Theory and Random Processes</td><td>3</td><td>1</td><td>0</td><td>8</td><td>3</td><td>NULL</td></tr><tr><td>CS207</td><td>Design and Analysis of Algorithms</td><td>3</td><td>0</td><td>0</td><td>6</td><td>4</td><td>NULL</td></tr><tr><td>CS201</td><td>Discrete Mathematics</td><td>3</td><td>0</td><td>0</td><td>6</td><td>3</td><td>NULL</td></tr><tr><td>CS223</td><td>Computer Architecture and Organization</td><td>3</td><td>0</td><td>0</td><td>6</td><td>4</td><td>NULL</td></tr><tr><td>CS203</td><td>Algorithms and Data Structures</td><td>3</td><td>0</td><td>0</td><td>6</td><td>3</td><td>NULL</td></tr><tr><td>CS224</td><td>Hardware Laboratory</td><td>0</td><td>1</td><td>4</td><td>6</td><td>4</td><td>NULL</td></tr><tr><td>CS204</td><td>Algorithms and Data Structures Laboratory</td><td>0</td><td>1</td><td>3</td><td>5</td><td>3</td><td>NULL</td></tr><tr><td>CS245</td><td>Database Management Systems</td><td>3</td><td>0</td><td>0</td><td>6</td><td>4</td><td>NULL</td></tr><tr><td>CS221</td><td>Digital Design</td><td>3</td><td>0</td><td>0</td><td>6</td><td>3</td><td>NULL</td></tr><tr><td>CS246</td><td>Database Management Systems Laboratory</td><td>0</td><td>0</td><td>4</td><td>4</td><td>4</td><td>NULL</td></tr><tr><td>CS242</td><td>System Software Laboratory</td><td>0</td><td>1</td><td>3</td><td>5</td><td>3</td><td>NULL</td></tr><tr><td>HS1xx</td><td>HSS Elective - I Level-I</td><td>3</td><td>0</td><td>0</td><td>6</td><td>4</td><td>NULL</td></tr><tr><td>MA222</td><td>Elementary Number Theory and Algebra</td><td>3</td><td>0</td><td>0</td><td>6</td><td>1</td><td>NULL</td></tr><tr><td>CS205</td><td>Formal Languages, Automata Theory and Computation</td><td>3</td><td>0</td><td>0</td><td>6</td><td>1</td><td>NULL</td></tr><tr><td>MA225</td><td>Probability Theory and Random Processes</td><td>3</td><td>1</td><td>0</td><td>8</td><td>1</td><td>NULL</td></tr><tr><td>CS207</td><td>Design and Analysis of Algorithms</td><td>3</td><td>0</td><td>0</td><td>6</td><td>1</td><td>NULL</td></tr><tr><td>CS201</td><td>Discrete Mathematics</td><td>3</td><td>0</td><td>0</td><td>6</td><td>1</td><td>NULL</td></tr><tr><td>CS223</td><td>Computer Architecture and Organization</td><td>3</td><td>0</td><td>0</td><td>6</td><td>1</td><td>NULL</td></tr><tr><td>CS203</td><td>Algorithms and Data Structures</td><td>3</td><td>0</td><td>0</td><td>6</td><td>1</td><td>NULL</td></tr><tr><td>CS224</td><td>Hardware Laboratory</td><td>0</td><td>1</td><td>4</td><td>6</td><td>1</td><td>NULL</td></tr><tr><td>CS204</td><td>Algorithms and Data Structures Laboratory</td><td>0</td><td>1</td><td>3</td><td>5</td><td>1</td><td>NULL</td></tr><tr><td>CS245</td><td>Database Management Systems</td><td>3</td><td>0</td><td>0</td><td>6</td><td>2</td><td>NULL</td></tr><tr><td>CS221</td><td>Digital Design</td><td>3</td><td>0</td><td>0</td><td>6</td><td>2</td><td>NULL</td></tr><tr><td>CS246</td><td>Database Management Systems Laboratory</td><td>0</td><td>0</td><td>4</td><td>4</td><td>2</td><td>NULL</td></tr><tr><td>CS242</td><td>System Software Laboratory</td><td>0</td><td>1</td><td>3</td><td>5</td><td>2</td><td>NULL</td></tr><tr><td>HS1xx</td><td>HSS Elective - I Level-I</td><td>3</td><td>0</td><td>0</td><td>6</td><td>2</td><td>NULL</td></tr><tr><td>OE4xx</td><td>Open Elective</td><td>3</td><td>0</td><td>0</td><td>6</td><td>7</td><td>NULL</td></tr><tr><td>OExxx</td><td>Open Elective</td><td>3</td><td>0</td><td>0</td><td>6</td><td>8</td><td>NULL</td></tr><tr><td>OExxx / CSxxx</td><td>Open Elective / Departmental Elective -V</td><td>3</td><td>0</td><td>0</td><td>6</td><td>7</td><td>NULL</td></tr><tr><td>OExxx</td><td>Open Elective</td><td>3</td><td>0</td><td>0</td><td>6</td><td>8</td><td>NULL</td></tr><tr><td>CSxxx</td><td>Departmental Elective-VI</td><td>3</td><td>0</td><td>0</td><td>6</td><td>7</td><td>NULL</td></tr><tr><td>CSxxx</td><td>Departmental Elective -IX</td><td>3</td><td>0</td><td>0</td><td>6</td><td>8</td><td>NULL</td></tr><tr><td>CSxxx</td><td>Departmental Elective-VII</td><td>3</td><td>0</td><td>0</td><td>6</td><td>7</td><td>NULL</td></tr><tr><td>CSxxx</td><td>Departmental Elective-X</td><td>3</td><td>0</td><td>0</td><td>6</td><td>8</td><td>NULL</td></tr><tr><td>CSxxx</td><td>Departmental Elective-VIII</td><td>3</td><td>0</td><td>0</td><td>6</td><td>7</td><td>NULL</td></tr><tr><td>CSxxx</td><td>Departmental Elective-XI</td><td>3</td><td>0</td><td>0</td><td>6</td><td>8</td><td>NULL</td></tr><tr><td>HS2xx</td><td>HSS Elective - I Level-II</td><td>3</td><td>0</td><td>0</td><td>6</td><td>7</td><td>NULL</td></tr><tr><td>HS2xx</td><td>HSS Elective - II Level-II</td><td>3</td><td>0</td><td>0</td><td>6</td><td>8</td><td>NULL</td></tr><tr><td>MA321</td><td>Optimization</td><td>3</td><td>0</td><td>0</td><td>6</td><td>5</td><td>NULL</td></tr><tr><td>CS345</td><td>Software Engineering</td><td>2</td><td>0</td><td>0</td><td>4</td><td>6</td><td>NULL</td></tr><tr><td>CS341</td><td>Computer Networks</td><td>3</td><td>0</td><td>0</td><td>6</td><td>5</td><td>NULL</td></tr><tr><td>CS346</td><td>Software Engineering Laboratory</td><td>0</td><td>0</td><td>3</td><td>3</td><td>6</td><td>NULL</td></tr><tr><td>CS342</td><td>Computer Networks Laboratory</td><td>0</td><td>0</td><td>4</td><td>4</td><td>5</td><td>NULL</td></tr><tr><td>CS348</td><td>Implementation of Programming Languages Lab</td><td>0</td><td>2</td><td>3</td><td>7</td><td>6</td><td>NULL</td></tr><tr><td>CS343</td><td>Operating Systems</td><td>3</td><td>0</td><td>0</td><td>6</td><td>5</td><td>NULL</td></tr><tr><td>CS361</td><td>Machine Learning</td><td>3</td><td>0</td><td>0</td><td>6</td><td>6</td><td>NULL</td></tr><tr><td>CS344</td><td>Operating Systems Laboratory</td><td>0</td><td>0</td><td>4</td><td>4</td><td>5</td><td>NULL</td></tr><tr><td>CSxxx</td><td>Departmental Elective - II</td><td>3</td><td>0</td><td>0</td><td>6</td><td>6</td><td>NULL</td></tr><tr><td>CSxxx</td><td>Departmental Elective - I</td><td>3</td><td>0</td><td>0</td><td>6</td><td>5</td><td>NULL</td></tr><tr><td>CSxxx</td><td>Departmental Elective - III</td><td>3</td><td>0</td><td>0</td><td>6</td><td>6</td><td>NULL</td></tr><tr><td>HS1xx</td><td>HSS Elective - II Level-I</td><td>3</td><td>0</td><td>0</td><td>6</td><td>5</td><td>NULL</td></tr><tr><td>CSxxx</td><td>Departmental Elective - IV</td><td>0</td><td>1</td><td>3</td><td>5</td><td>6</td><td>NULL</td></tr></table>"
                    },
                    "metadata": {}
                }
            ],
            "execution_count": 9
        },
        {
            "cell_type": "code",
            "source": [
                "update [dbo].[course_Structure] set Course_Code = LEFT(Course_Code, 5);"
            ],
            "metadata": {
                "azdata_cell_guid": "8c8b174c-1f6e-4652-95f1-d2739e788b3e",
                "language": "sql"
            },
            "outputs": [
                {
                    "output_type": "display_data",
                    "data": {
                        "text/html": "(54 rows affected)"
                    },
                    "metadata": {}
                },
                {
                    "output_type": "display_data",
                    "data": {
                        "text/html": "Total execution time: 00:00:00.286"
                    },
                    "metadata": {}
                }
            ],
            "execution_count": 10
        },
        {
            "cell_type": "code",
            "source": [
                "update [dbo].[course_Structure] set Course_code = 'OExxx' Where Course_Code not like '%CS%x%' and Course_Code like '%x%';\r\n",
                "update [dbo].[course_Structure] set Elective = 1 Where Course_Code like '%x%';\r\n",
                "\r\n",
                ""
            ],
            "metadata": {
                "language": "sql",
                "azdata_cell_guid": "71ec5b29-e406-4fd7-a402-5119bc81b828"
            },
            "outputs": [
                {
                    "output_type": "display_data",
                    "data": {
                        "text/html": "(9 rows affected)"
                    },
                    "metadata": {}
                },
                {
                    "output_type": "display_data",
                    "data": {
                        "text/html": "(19 rows affected)"
                    },
                    "metadata": {}
                },
                {
                    "output_type": "display_data",
                    "data": {
                        "text/html": "Total execution time: 00:00:00.293"
                    },
                    "metadata": {}
                }
            ],
            "execution_count": 11
        },
        {
            "cell_type": "code",
            "source": [
                "select * from course_Structure;"
            ],
            "metadata": {
                "language": "sql",
                "azdata_cell_guid": "f9f04fe1-5e70-4ffd-9446-08e9f118dd2a"
            },
            "outputs": [
                {
                    "output_type": "display_data",
                    "data": {
                        "text/html": "(54 rows affected)"
                    },
                    "metadata": {}
                },
                {
                    "output_type": "display_data",
                    "data": {
                        "text/html": "Total execution time: 00:00:00.343"
                    },
                    "metadata": {}
                },
                {
                    "output_type": "execute_result",
                    "execution_count": 14,
                    "data": {
                        "application/vnd.dataresource+json": {
                            "schema": {
                                "fields": [
                                    {
                                        "name": "Course_Code"
                                    },
                                    {
                                        "name": "Name"
                                    },
                                    {
                                        "name": "L"
                                    },
                                    {
                                        "name": "T"
                                    },
                                    {
                                        "name": "P"
                                    },
                                    {
                                        "name": "C"
                                    },
                                    {
                                        "name": "Semester"
                                    },
                                    {
                                        "name": "Elective"
                                    }
                                ]
                            },
                            "data": [
                                {
                                    "Course_Code": "MA222",
                                    "Name": "Elementary Number Theory and Algebra",
                                    "L": "3",
                                    "T": "0",
                                    "P": "0",
                                    "C": "6",
                                    "Semester": "3",
                                    "Elective": "0"
                                },
                                {
                                    "Course_Code": "CS205",
                                    "Name": "Formal Languages, Automata Theory and Computation",
                                    "L": "3",
                                    "T": "0",
                                    "P": "0",
                                    "C": "6",
                                    "Semester": "4",
                                    "Elective": "0"
                                },
                                {
                                    "Course_Code": "MA225",
                                    "Name": "Probability Theory and Random Processes",
                                    "L": "3",
                                    "T": "1",
                                    "P": "0",
                                    "C": "8",
                                    "Semester": "3",
                                    "Elective": "0"
                                },
                                {
                                    "Course_Code": "CS207",
                                    "Name": "Design and Analysis of Algorithms",
                                    "L": "3",
                                    "T": "0",
                                    "P": "0",
                                    "C": "6",
                                    "Semester": "4",
                                    "Elective": "0"
                                },
                                {
                                    "Course_Code": "CS201",
                                    "Name": "Discrete Mathematics",
                                    "L": "3",
                                    "T": "0",
                                    "P": "0",
                                    "C": "6",
                                    "Semester": "3",
                                    "Elective": "0"
                                },
                                {
                                    "Course_Code": "CS223",
                                    "Name": "Computer Architecture and Organization",
                                    "L": "3",
                                    "T": "0",
                                    "P": "0",
                                    "C": "6",
                                    "Semester": "4",
                                    "Elective": "0"
                                },
                                {
                                    "Course_Code": "CS203",
                                    "Name": "Algorithms and Data Structures",
                                    "L": "3",
                                    "T": "0",
                                    "P": "0",
                                    "C": "6",
                                    "Semester": "3",
                                    "Elective": "0"
                                },
                                {
                                    "Course_Code": "CS224",
                                    "Name": "Hardware Laboratory",
                                    "L": "0",
                                    "T": "1",
                                    "P": "4",
                                    "C": "6",
                                    "Semester": "4",
                                    "Elective": "0"
                                },
                                {
                                    "Course_Code": "CS204",
                                    "Name": "Algorithms and Data Structures Laboratory",
                                    "L": "0",
                                    "T": "1",
                                    "P": "3",
                                    "C": "5",
                                    "Semester": "3",
                                    "Elective": "0"
                                },
                                {
                                    "Course_Code": "CS245",
                                    "Name": "Database Management Systems",
                                    "L": "3",
                                    "T": "0",
                                    "P": "0",
                                    "C": "6",
                                    "Semester": "4",
                                    "Elective": "0"
                                },
                                {
                                    "Course_Code": "CS221",
                                    "Name": "Digital Design",
                                    "L": "3",
                                    "T": "0",
                                    "P": "0",
                                    "C": "6",
                                    "Semester": "3",
                                    "Elective": "0"
                                },
                                {
                                    "Course_Code": "CS246",
                                    "Name": "Database Management Systems Laboratory",
                                    "L": "0",
                                    "T": "0",
                                    "P": "4",
                                    "C": "4",
                                    "Semester": "4",
                                    "Elective": "0"
                                },
                                {
                                    "Course_Code": "CS242",
                                    "Name": "System Software Laboratory",
                                    "L": "0",
                                    "T": "1",
                                    "P": "3",
                                    "C": "5",
                                    "Semester": "3",
                                    "Elective": "0"
                                },
                                {
                                    "Course_Code": "OExxx",
                                    "Name": "HSS Elective - I Level-I",
                                    "L": "3",
                                    "T": "0",
                                    "P": "0",
                                    "C": "6",
                                    "Semester": "4",
                                    "Elective": "1"
                                },
                                {
                                    "Course_Code": "MA222",
                                    "Name": "Elementary Number Theory and Algebra",
                                    "L": "3",
                                    "T": "0",
                                    "P": "0",
                                    "C": "6",
                                    "Semester": "1",
                                    "Elective": "0"
                                },
                                {
                                    "Course_Code": "CS205",
                                    "Name": "Formal Languages, Automata Theory and Computation",
                                    "L": "3",
                                    "T": "0",
                                    "P": "0",
                                    "C": "6",
                                    "Semester": "1",
                                    "Elective": "0"
                                },
                                {
                                    "Course_Code": "MA225",
                                    "Name": "Probability Theory and Random Processes",
                                    "L": "3",
                                    "T": "1",
                                    "P": "0",
                                    "C": "8",
                                    "Semester": "1",
                                    "Elective": "0"
                                },
                                {
                                    "Course_Code": "CS207",
                                    "Name": "Design and Analysis of Algorithms",
                                    "L": "3",
                                    "T": "0",
                                    "P": "0",
                                    "C": "6",
                                    "Semester": "1",
                                    "Elective": "0"
                                },
                                {
                                    "Course_Code": "CS201",
                                    "Name": "Discrete Mathematics",
                                    "L": "3",
                                    "T": "0",
                                    "P": "0",
                                    "C": "6",
                                    "Semester": "1",
                                    "Elective": "0"
                                },
                                {
                                    "Course_Code": "CS223",
                                    "Name": "Computer Architecture and Organization",
                                    "L": "3",
                                    "T": "0",
                                    "P": "0",
                                    "C": "6",
                                    "Semester": "1",
                                    "Elective": "0"
                                },
                                {
                                    "Course_Code": "CS203",
                                    "Name": "Algorithms and Data Structures",
                                    "L": "3",
                                    "T": "0",
                                    "P": "0",
                                    "C": "6",
                                    "Semester": "1",
                                    "Elective": "0"
                                },
                                {
                                    "Course_Code": "CS224",
                                    "Name": "Hardware Laboratory",
                                    "L": "0",
                                    "T": "1",
                                    "P": "4",
                                    "C": "6",
                                    "Semester": "1",
                                    "Elective": "0"
                                },
                                {
                                    "Course_Code": "CS204",
                                    "Name": "Algorithms and Data Structures Laboratory",
                                    "L": "0",
                                    "T": "1",
                                    "P": "3",
                                    "C": "5",
                                    "Semester": "1",
                                    "Elective": "0"
                                },
                                {
                                    "Course_Code": "CS245",
                                    "Name": "Database Management Systems",
                                    "L": "3",
                                    "T": "0",
                                    "P": "0",
                                    "C": "6",
                                    "Semester": "2",
                                    "Elective": "0"
                                },
                                {
                                    "Course_Code": "CS221",
                                    "Name": "Digital Design",
                                    "L": "3",
                                    "T": "0",
                                    "P": "0",
                                    "C": "6",
                                    "Semester": "2",
                                    "Elective": "0"
                                },
                                {
                                    "Course_Code": "CS246",
                                    "Name": "Database Management Systems Laboratory",
                                    "L": "0",
                                    "T": "0",
                                    "P": "4",
                                    "C": "4",
                                    "Semester": "2",
                                    "Elective": "0"
                                },
                                {
                                    "Course_Code": "CS242",
                                    "Name": "System Software Laboratory",
                                    "L": "0",
                                    "T": "1",
                                    "P": "3",
                                    "C": "5",
                                    "Semester": "2",
                                    "Elective": "0"
                                },
                                {
                                    "Course_Code": "OExxx",
                                    "Name": "HSS Elective - I Level-I",
                                    "L": "3",
                                    "T": "0",
                                    "P": "0",
                                    "C": "6",
                                    "Semester": "2",
                                    "Elective": "1"
                                },
                                {
                                    "Course_Code": "OExxx",
                                    "Name": "Open Elective",
                                    "L": "3",
                                    "T": "0",
                                    "P": "0",
                                    "C": "6",
                                    "Semester": "7",
                                    "Elective": "1"
                                },
                                {
                                    "Course_Code": "OExxx",
                                    "Name": "Open Elective",
                                    "L": "3",
                                    "T": "0",
                                    "P": "0",
                                    "C": "6",
                                    "Semester": "8",
                                    "Elective": "1"
                                },
                                {
                                    "Course_Code": "OExxx",
                                    "Name": "Open Elective / Departmental Elective -V",
                                    "L": "3",
                                    "T": "0",
                                    "P": "0",
                                    "C": "6",
                                    "Semester": "7",
                                    "Elective": "1"
                                },
                                {
                                    "Course_Code": "OExxx",
                                    "Name": "Open Elective",
                                    "L": "3",
                                    "T": "0",
                                    "P": "0",
                                    "C": "6",
                                    "Semester": "8",
                                    "Elective": "1"
                                },
                                {
                                    "Course_Code": "CSxxx",
                                    "Name": "Departmental Elective-VI",
                                    "L": "3",
                                    "T": "0",
                                    "P": "0",
                                    "C": "6",
                                    "Semester": "7",
                                    "Elective": "1"
                                },
                                {
                                    "Course_Code": "CSxxx",
                                    "Name": "Departmental Elective -IX",
                                    "L": "3",
                                    "T": "0",
                                    "P": "0",
                                    "C": "6",
                                    "Semester": "8",
                                    "Elective": "1"
                                },
                                {
                                    "Course_Code": "CSxxx",
                                    "Name": "Departmental Elective-VII",
                                    "L": "3",
                                    "T": "0",
                                    "P": "0",
                                    "C": "6",
                                    "Semester": "7",
                                    "Elective": "1"
                                },
                                {
                                    "Course_Code": "CSxxx",
                                    "Name": "Departmental Elective-X",
                                    "L": "3",
                                    "T": "0",
                                    "P": "0",
                                    "C": "6",
                                    "Semester": "8",
                                    "Elective": "1"
                                },
                                {
                                    "Course_Code": "CSxxx",
                                    "Name": "Departmental Elective-VIII",
                                    "L": "3",
                                    "T": "0",
                                    "P": "0",
                                    "C": "6",
                                    "Semester": "7",
                                    "Elective": "1"
                                },
                                {
                                    "Course_Code": "CSxxx",
                                    "Name": "Departmental Elective-XI",
                                    "L": "3",
                                    "T": "0",
                                    "P": "0",
                                    "C": "6",
                                    "Semester": "8",
                                    "Elective": "1"
                                },
                                {
                                    "Course_Code": "OExxx",
                                    "Name": "HSS Elective - I Level-II",
                                    "L": "3",
                                    "T": "0",
                                    "P": "0",
                                    "C": "6",
                                    "Semester": "7",
                                    "Elective": "1"
                                },
                                {
                                    "Course_Code": "OExxx",
                                    "Name": "HSS Elective - II Level-II",
                                    "L": "3",
                                    "T": "0",
                                    "P": "0",
                                    "C": "6",
                                    "Semester": "8",
                                    "Elective": "1"
                                },
                                {
                                    "Course_Code": "MA321",
                                    "Name": "Optimization",
                                    "L": "3",
                                    "T": "0",
                                    "P": "0",
                                    "C": "6",
                                    "Semester": "5",
                                    "Elective": "0"
                                },
                                {
                                    "Course_Code": "CS345",
                                    "Name": "Software Engineering",
                                    "L": "2",
                                    "T": "0",
                                    "P": "0",
                                    "C": "4",
                                    "Semester": "6",
                                    "Elective": "0"
                                },
                                {
                                    "Course_Code": "CS341",
                                    "Name": "Computer Networks",
                                    "L": "3",
                                    "T": "0",
                                    "P": "0",
                                    "C": "6",
                                    "Semester": "5",
                                    "Elective": "0"
                                },
                                {
                                    "Course_Code": "CS346",
                                    "Name": "Software Engineering Laboratory",
                                    "L": "0",
                                    "T": "0",
                                    "P": "3",
                                    "C": "3",
                                    "Semester": "6",
                                    "Elective": "0"
                                },
                                {
                                    "Course_Code": "CS342",
                                    "Name": "Computer Networks Laboratory",
                                    "L": "0",
                                    "T": "0",
                                    "P": "4",
                                    "C": "4",
                                    "Semester": "5",
                                    "Elective": "0"
                                },
                                {
                                    "Course_Code": "CS348",
                                    "Name": "Implementation of Programming Languages Lab",
                                    "L": "0",
                                    "T": "2",
                                    "P": "3",
                                    "C": "7",
                                    "Semester": "6",
                                    "Elective": "0"
                                },
                                {
                                    "Course_Code": "CS343",
                                    "Name": "Operating Systems",
                                    "L": "3",
                                    "T": "0",
                                    "P": "0",
                                    "C": "6",
                                    "Semester": "5",
                                    "Elective": "0"
                                },
                                {
                                    "Course_Code": "CS361",
                                    "Name": "Machine Learning",
                                    "L": "3",
                                    "T": "0",
                                    "P": "0",
                                    "C": "6",
                                    "Semester": "6",
                                    "Elective": "0"
                                },
                                {
                                    "Course_Code": "CS344",
                                    "Name": "Operating Systems Laboratory",
                                    "L": "0",
                                    "T": "0",
                                    "P": "4",
                                    "C": "4",
                                    "Semester": "5",
                                    "Elective": "0"
                                },
                                {
                                    "Course_Code": "CSxxx",
                                    "Name": "Departmental Elective - II",
                                    "L": "3",
                                    "T": "0",
                                    "P": "0",
                                    "C": "6",
                                    "Semester": "6",
                                    "Elective": "1"
                                },
                                {
                                    "Course_Code": "CSxxx",
                                    "Name": "Departmental Elective - I",
                                    "L": "3",
                                    "T": "0",
                                    "P": "0",
                                    "C": "6",
                                    "Semester": "5",
                                    "Elective": "1"
                                },
                                {
                                    "Course_Code": "CSxxx",
                                    "Name": "Departmental Elective - III",
                                    "L": "3",
                                    "T": "0",
                                    "P": "0",
                                    "C": "6",
                                    "Semester": "6",
                                    "Elective": "1"
                                },
                                {
                                    "Course_Code": "OExxx",
                                    "Name": "HSS Elective - II Level-I",
                                    "L": "3",
                                    "T": "0",
                                    "P": "0",
                                    "C": "6",
                                    "Semester": "5",
                                    "Elective": "1"
                                },
                                {
                                    "Course_Code": "CSxxx",
                                    "Name": "Departmental Elective - IV",
                                    "L": "0",
                                    "T": "1",
                                    "P": "3",
                                    "C": "5",
                                    "Semester": "6",
                                    "Elective": "1"
                                }
                            ]
                        },
                        "text/html": "<table><tr><th>Course_Code</th><th>Name</th><th>L</th><th>T</th><th>P</th><th>C</th><th>Semester</th><th>Elective</th></tr><tr><td>MA222</td><td>Elementary Number Theory and Algebra</td><td>3</td><td>0</td><td>0</td><td>6</td><td>3</td><td>0</td></tr><tr><td>CS205</td><td>Formal Languages, Automata Theory and Computation</td><td>3</td><td>0</td><td>0</td><td>6</td><td>4</td><td>0</td></tr><tr><td>MA225</td><td>Probability Theory and Random Processes</td><td>3</td><td>1</td><td>0</td><td>8</td><td>3</td><td>0</td></tr><tr><td>CS207</td><td>Design and Analysis of Algorithms</td><td>3</td><td>0</td><td>0</td><td>6</td><td>4</td><td>0</td></tr><tr><td>CS201</td><td>Discrete Mathematics</td><td>3</td><td>0</td><td>0</td><td>6</td><td>3</td><td>0</td></tr><tr><td>CS223</td><td>Computer Architecture and Organization</td><td>3</td><td>0</td><td>0</td><td>6</td><td>4</td><td>0</td></tr><tr><td>CS203</td><td>Algorithms and Data Structures</td><td>3</td><td>0</td><td>0</td><td>6</td><td>3</td><td>0</td></tr><tr><td>CS224</td><td>Hardware Laboratory</td><td>0</td><td>1</td><td>4</td><td>6</td><td>4</td><td>0</td></tr><tr><td>CS204</td><td>Algorithms and Data Structures Laboratory</td><td>0</td><td>1</td><td>3</td><td>5</td><td>3</td><td>0</td></tr><tr><td>CS245</td><td>Database Management Systems</td><td>3</td><td>0</td><td>0</td><td>6</td><td>4</td><td>0</td></tr><tr><td>CS221</td><td>Digital Design</td><td>3</td><td>0</td><td>0</td><td>6</td><td>3</td><td>0</td></tr><tr><td>CS246</td><td>Database Management Systems Laboratory</td><td>0</td><td>0</td><td>4</td><td>4</td><td>4</td><td>0</td></tr><tr><td>CS242</td><td>System Software Laboratory</td><td>0</td><td>1</td><td>3</td><td>5</td><td>3</td><td>0</td></tr><tr><td>OExxx</td><td>HSS Elective - I Level-I</td><td>3</td><td>0</td><td>0</td><td>6</td><td>4</td><td>1</td></tr><tr><td>MA222</td><td>Elementary Number Theory and Algebra</td><td>3</td><td>0</td><td>0</td><td>6</td><td>1</td><td>0</td></tr><tr><td>CS205</td><td>Formal Languages, Automata Theory and Computation</td><td>3</td><td>0</td><td>0</td><td>6</td><td>1</td><td>0</td></tr><tr><td>MA225</td><td>Probability Theory and Random Processes</td><td>3</td><td>1</td><td>0</td><td>8</td><td>1</td><td>0</td></tr><tr><td>CS207</td><td>Design and Analysis of Algorithms</td><td>3</td><td>0</td><td>0</td><td>6</td><td>1</td><td>0</td></tr><tr><td>CS201</td><td>Discrete Mathematics</td><td>3</td><td>0</td><td>0</td><td>6</td><td>1</td><td>0</td></tr><tr><td>CS223</td><td>Computer Architecture and Organization</td><td>3</td><td>0</td><td>0</td><td>6</td><td>1</td><td>0</td></tr><tr><td>CS203</td><td>Algorithms and Data Structures</td><td>3</td><td>0</td><td>0</td><td>6</td><td>1</td><td>0</td></tr><tr><td>CS224</td><td>Hardware Laboratory</td><td>0</td><td>1</td><td>4</td><td>6</td><td>1</td><td>0</td></tr><tr><td>CS204</td><td>Algorithms and Data Structures Laboratory</td><td>0</td><td>1</td><td>3</td><td>5</td><td>1</td><td>0</td></tr><tr><td>CS245</td><td>Database Management Systems</td><td>3</td><td>0</td><td>0</td><td>6</td><td>2</td><td>0</td></tr><tr><td>CS221</td><td>Digital Design</td><td>3</td><td>0</td><td>0</td><td>6</td><td>2</td><td>0</td></tr><tr><td>CS246</td><td>Database Management Systems Laboratory</td><td>0</td><td>0</td><td>4</td><td>4</td><td>2</td><td>0</td></tr><tr><td>CS242</td><td>System Software Laboratory</td><td>0</td><td>1</td><td>3</td><td>5</td><td>2</td><td>0</td></tr><tr><td>OExxx</td><td>HSS Elective - I Level-I</td><td>3</td><td>0</td><td>0</td><td>6</td><td>2</td><td>1</td></tr><tr><td>OExxx</td><td>Open Elective</td><td>3</td><td>0</td><td>0</td><td>6</td><td>7</td><td>1</td></tr><tr><td>OExxx</td><td>Open Elective</td><td>3</td><td>0</td><td>0</td><td>6</td><td>8</td><td>1</td></tr><tr><td>OExxx</td><td>Open Elective / Departmental Elective -V</td><td>3</td><td>0</td><td>0</td><td>6</td><td>7</td><td>1</td></tr><tr><td>OExxx</td><td>Open Elective</td><td>3</td><td>0</td><td>0</td><td>6</td><td>8</td><td>1</td></tr><tr><td>CSxxx</td><td>Departmental Elective-VI</td><td>3</td><td>0</td><td>0</td><td>6</td><td>7</td><td>1</td></tr><tr><td>CSxxx</td><td>Departmental Elective -IX</td><td>3</td><td>0</td><td>0</td><td>6</td><td>8</td><td>1</td></tr><tr><td>CSxxx</td><td>Departmental Elective-VII</td><td>3</td><td>0</td><td>0</td><td>6</td><td>7</td><td>1</td></tr><tr><td>CSxxx</td><td>Departmental Elective-X</td><td>3</td><td>0</td><td>0</td><td>6</td><td>8</td><td>1</td></tr><tr><td>CSxxx</td><td>Departmental Elective-VIII</td><td>3</td><td>0</td><td>0</td><td>6</td><td>7</td><td>1</td></tr><tr><td>CSxxx</td><td>Departmental Elective-XI</td><td>3</td><td>0</td><td>0</td><td>6</td><td>8</td><td>1</td></tr><tr><td>OExxx</td><td>HSS Elective - I Level-II</td><td>3</td><td>0</td><td>0</td><td>6</td><td>7</td><td>1</td></tr><tr><td>OExxx</td><td>HSS Elective - II Level-II</td><td>3</td><td>0</td><td>0</td><td>6</td><td>8</td><td>1</td></tr><tr><td>MA321</td><td>Optimization</td><td>3</td><td>0</td><td>0</td><td>6</td><td>5</td><td>0</td></tr><tr><td>CS345</td><td>Software Engineering</td><td>2</td><td>0</td><td>0</td><td>4</td><td>6</td><td>0</td></tr><tr><td>CS341</td><td>Computer Networks</td><td>3</td><td>0</td><td>0</td><td>6</td><td>5</td><td>0</td></tr><tr><td>CS346</td><td>Software Engineering Laboratory</td><td>0</td><td>0</td><td>3</td><td>3</td><td>6</td><td>0</td></tr><tr><td>CS342</td><td>Computer Networks Laboratory</td><td>0</td><td>0</td><td>4</td><td>4</td><td>5</td><td>0</td></tr><tr><td>CS348</td><td>Implementation of Programming Languages Lab</td><td>0</td><td>2</td><td>3</td><td>7</td><td>6</td><td>0</td></tr><tr><td>CS343</td><td>Operating Systems</td><td>3</td><td>0</td><td>0</td><td>6</td><td>5</td><td>0</td></tr><tr><td>CS361</td><td>Machine Learning</td><td>3</td><td>0</td><td>0</td><td>6</td><td>6</td><td>0</td></tr><tr><td>CS344</td><td>Operating Systems Laboratory</td><td>0</td><td>0</td><td>4</td><td>4</td><td>5</td><td>0</td></tr><tr><td>CSxxx</td><td>Departmental Elective - II</td><td>3</td><td>0</td><td>0</td><td>6</td><td>6</td><td>1</td></tr><tr><td>CSxxx</td><td>Departmental Elective - I</td><td>3</td><td>0</td><td>0</td><td>6</td><td>5</td><td>1</td></tr><tr><td>CSxxx</td><td>Departmental Elective - III</td><td>3</td><td>0</td><td>0</td><td>6</td><td>6</td><td>1</td></tr><tr><td>OExxx</td><td>HSS Elective - II Level-I</td><td>3</td><td>0</td><td>0</td><td>6</td><td>5</td><td>1</td></tr><tr><td>CSxxx</td><td>Departmental Elective - IV</td><td>0</td><td>1</td><td>3</td><td>5</td><td>6</td><td>1</td></tr></table>"
                    },
                    "metadata": {}
                }
            ],
            "execution_count": 14
        },
        {
            "cell_type": "code",
            "source": [
                "update [dbo].[course_Structure] set Elective = 0 Where Course_Code not like '%x%';\r\n",
                ""
            ],
            "metadata": {
                "language": "sql",
                "azdata_cell_guid": "8f824980-e5bc-4f1f-810c-ccf6edc7b8ba"
            },
            "outputs": [
                {
                    "output_type": "display_data",
                    "data": {
                        "text/html": "(35 rows affected)"
                    },
                    "metadata": {}
                },
                {
                    "output_type": "display_data",
                    "data": {
                        "text/html": "Total execution time: 00:00:00.291"
                    },
                    "metadata": {}
                }
            ],
            "execution_count": 13
        },
        {
            "cell_type": "code",
            "source": [
                "select * from course_Structure where Course_Code = 'MA225' ;\r\n",
                "delete from course_Structure where Course_Code= 'MA225' and Semester =1;\r\n",
                "\r\n",
                "drop table compulsory_courses;\r\n",
                "SELECT distinct course_Structure.*, 'NA' AS Faculty \r\n",
                "INTO compulsory_courses \r\n",
                "FROM course_Structure \r\n",
                "WHERE course_Structure.Course_Code NOT LIKE '%x%';\r\n",
                "\r\n",
                "insert into course(Course_Code,Name, L,T,P,C, Semester, ElectiveOrCompulsory)\r\n",
                "select Course_Code, Name, L,T,P,C, Semester, Elective\r\n",
                "from compulsory_courses;"
            ],
            "metadata": {
                "language": "sql",
                "azdata_cell_guid": "edc33853-ba2c-4f47-80da-626516acbd8e"
            },
            "outputs": [
                {
                    "output_type": "display_data",
                    "data": {
                        "text/html": "(2 rows affected)"
                    },
                    "metadata": {}
                },
                {
                    "output_type": "display_data",
                    "data": {
                        "text/html": "(1 row affected)"
                    },
                    "metadata": {}
                },
                {
                    "output_type": "display_data",
                    "data": {
                        "text/html": "(22 rows affected)"
                    },
                    "metadata": {}
                },
                {
                    "output_type": "display_data",
                    "data": {
                        "text/html": "(22 rows affected)"
                    },
                    "metadata": {}
                },
                {
                    "output_type": "display_data",
                    "data": {
                        "text/html": "Total execution time: 00:00:00.315"
                    },
                    "metadata": {}
                },
                {
                    "output_type": "execute_result",
                    "execution_count": 62,
                    "data": {
                        "application/vnd.dataresource+json": {
                            "schema": {
                                "fields": [
                                    {
                                        "name": "Course_Code"
                                    },
                                    {
                                        "name": "Name"
                                    },
                                    {
                                        "name": "L"
                                    },
                                    {
                                        "name": "T"
                                    },
                                    {
                                        "name": "P"
                                    },
                                    {
                                        "name": "C"
                                    },
                                    {
                                        "name": "Semester"
                                    },
                                    {
                                        "name": "Elective"
                                    }
                                ]
                            },
                            "data": [
                                {
                                    "Course_Code": "MA225",
                                    "Name": "Probability Theory and Random Processes",
                                    "L": "3",
                                    "T": "1",
                                    "P": "0",
                                    "C": "8",
                                    "Semester": "3",
                                    "Elective": "0"
                                },
                                {
                                    "Course_Code": "MA225",
                                    "Name": "Probability Theory and Random Processes",
                                    "L": "3",
                                    "T": "1",
                                    "P": "0",
                                    "C": "8",
                                    "Semester": "1",
                                    "Elective": "0"
                                }
                            ]
                        },
                        "text/html": "<table><tr><th>Course_Code</th><th>Name</th><th>L</th><th>T</th><th>P</th><th>C</th><th>Semester</th><th>Elective</th></tr><tr><td>MA225</td><td>Probability Theory and Random Processes</td><td>3</td><td>1</td><td>0</td><td>8</td><td>3</td><td>0</td></tr><tr><td>MA225</td><td>Probability Theory and Random Processes</td><td>3</td><td>1</td><td>0</td><td>8</td><td>1</td><td>0</td></tr></table>"
                    },
                    "metadata": {}
                }
            ],
            "execution_count": 62
        },
        {
            "cell_type": "code",
            "source": [
                "drop table compulsory_courses;\r\n",
                "SELECT distinct course_Structure.*, 'NA' AS Faculty \r\n",
                "INTO compulsory_courses \r\n",
                "FROM course_Structure \r\n",
                "WHERE course_Structure.Course_Code NOT LIKE '%x%';\r\n",
                "\r\n",
                "insert into course(Course_Code,Name, L,T,P,C, Semester, ElectiveOrCompulsory)\r\n",
                "select Course_Code, Name, L,T,P,C, Semester, Elective\r\n",
                "from compulsory_courses;"
            ],
            "metadata": {
                "language": "sql",
                "azdata_cell_guid": "8043410d-7346-499d-b6c4-e672af3cb424"
            },
            "outputs": [
                {
                    "output_type": "display_data",
                    "data": {
                        "text/html": "(29 rows affected)"
                    },
                    "metadata": {}
                },
                {
                    "output_type": "display_data",
                    "data": {
                        "text/html": "Total execution time: 00:00:00.300"
                    },
                    "metadata": {}
                }
            ],
            "execution_count": 45
        },
        {
            "cell_type": "code",
            "source": [
                "select * from compulsory_courses;\r\n",
                "insert into course(Course_Code,Name, L,T,P,C, Semester, ElectiveOrCompulsory)\r\n",
                "select Course_Code, Name, L,T,P,C, Semester, Elective\r\n",
                "from compulsory_courses;"
            ],
            "metadata": {
                "language": "sql",
                "azdata_cell_guid": "2de3d6d4-4c9d-4a77-bf50-0365790041ee"
            },
            "outputs": [
                {
                    "output_type": "display_data",
                    "data": {
                        "text/html": "(22 rows affected)"
                    },
                    "metadata": {}
                },
                {
                    "output_type": "display_data",
                    "data": {
                        "text/html": "(22 rows affected)"
                    },
                    "metadata": {}
                },
                {
                    "output_type": "display_data",
                    "data": {
                        "text/html": "Total execution time: 00:00:00.262"
                    },
                    "metadata": {}
                },
                {
                    "output_type": "execute_result",
                    "metadata": {},
                    "execution_count": 7,
                    "data": {
                        "application/vnd.dataresource+json": {
                            "schema": {
                                "fields": [
                                    {
                                        "name": "Course_Code"
                                    },
                                    {
                                        "name": "Name"
                                    },
                                    {
                                        "name": "L"
                                    },
                                    {
                                        "name": "T"
                                    },
                                    {
                                        "name": "P"
                                    },
                                    {
                                        "name": "C"
                                    },
                                    {
                                        "name": "Semester"
                                    },
                                    {
                                        "name": "Elective"
                                    },
                                    {
                                        "name": "Faculty"
                                    }
                                ]
                            },
                            "data": [
                                {
                                    "Course_Code": "CS201",
                                    "Name": "Discrete Mathematics",
                                    "L": "3",
                                    "T": "0",
                                    "P": "0",
                                    "C": "6",
                                    "Semester": "3",
                                    "Elective": "0",
                                    "Faculty": "NA"
                                },
                                {
                                    "Course_Code": "CS203",
                                    "Name": "Algorithms and Data Structures",
                                    "L": "3",
                                    "T": "0",
                                    "P": "0",
                                    "C": "6",
                                    "Semester": "3",
                                    "Elective": "0",
                                    "Faculty": "NA"
                                },
                                {
                                    "Course_Code": "CS204",
                                    "Name": "Algorithms and Data Structures Laboratory",
                                    "L": "0",
                                    "T": "1",
                                    "P": "3",
                                    "C": "5",
                                    "Semester": "3",
                                    "Elective": "0",
                                    "Faculty": "NA"
                                },
                                {
                                    "Course_Code": "CS205",
                                    "Name": "Formal Languages, Automata Theory and Computation",
                                    "L": "3",
                                    "T": "0",
                                    "P": "0",
                                    "C": "6",
                                    "Semester": "4",
                                    "Elective": "0",
                                    "Faculty": "NA"
                                },
                                {
                                    "Course_Code": "CS207",
                                    "Name": "Design and Analysis of Algorithms",
                                    "L": "3",
                                    "T": "0",
                                    "P": "0",
                                    "C": "6",
                                    "Semester": "4",
                                    "Elective": "0",
                                    "Faculty": "NA"
                                },
                                {
                                    "Course_Code": "CS221",
                                    "Name": "Digital Design",
                                    "L": "3",
                                    "T": "0",
                                    "P": "0",
                                    "C": "6",
                                    "Semester": "3",
                                    "Elective": "0",
                                    "Faculty": "NA"
                                },
                                {
                                    "Course_Code": "CS223",
                                    "Name": "Computer Architecture and Organization",
                                    "L": "3",
                                    "T": "0",
                                    "P": "0",
                                    "C": "6",
                                    "Semester": "4",
                                    "Elective": "0",
                                    "Faculty": "NA"
                                },
                                {
                                    "Course_Code": "CS224",
                                    "Name": "Hardware Laboratory",
                                    "L": "0",
                                    "T": "1",
                                    "P": "4",
                                    "C": "6",
                                    "Semester": "4",
                                    "Elective": "0",
                                    "Faculty": "NA"
                                },
                                {
                                    "Course_Code": "CS242",
                                    "Name": "System Software Laboratory",
                                    "L": "0",
                                    "T": "1",
                                    "P": "3",
                                    "C": "5",
                                    "Semester": "3",
                                    "Elective": "0",
                                    "Faculty": "NA"
                                },
                                {
                                    "Course_Code": "CS245",
                                    "Name": "Database Management Systems",
                                    "L": "3",
                                    "T": "0",
                                    "P": "0",
                                    "C": "6",
                                    "Semester": "4",
                                    "Elective": "0",
                                    "Faculty": "NA"
                                },
                                {
                                    "Course_Code": "CS246",
                                    "Name": "Database Management Systems Laboratory",
                                    "L": "0",
                                    "T": "0",
                                    "P": "4",
                                    "C": "4",
                                    "Semester": "4",
                                    "Elective": "0",
                                    "Faculty": "NA"
                                },
                                {
                                    "Course_Code": "CS341",
                                    "Name": "Computer Networks",
                                    "L": "3",
                                    "T": "0",
                                    "P": "0",
                                    "C": "6",
                                    "Semester": "5",
                                    "Elective": "0",
                                    "Faculty": "NA"
                                },
                                {
                                    "Course_Code": "CS342",
                                    "Name": "Computer Networks Laboratory",
                                    "L": "0",
                                    "T": "0",
                                    "P": "4",
                                    "C": "4",
                                    "Semester": "5",
                                    "Elective": "0",
                                    "Faculty": "NA"
                                },
                                {
                                    "Course_Code": "CS343",
                                    "Name": "Operating Systems",
                                    "L": "3",
                                    "T": "0",
                                    "P": "0",
                                    "C": "6",
                                    "Semester": "5",
                                    "Elective": "0",
                                    "Faculty": "NA"
                                },
                                {
                                    "Course_Code": "CS344",
                                    "Name": "Operating Systems Laboratory",
                                    "L": "0",
                                    "T": "0",
                                    "P": "4",
                                    "C": "4",
                                    "Semester": "5",
                                    "Elective": "0",
                                    "Faculty": "NA"
                                },
                                {
                                    "Course_Code": "CS345",
                                    "Name": "Software Engineering",
                                    "L": "2",
                                    "T": "0",
                                    "P": "0",
                                    "C": "4",
                                    "Semester": "6",
                                    "Elective": "0",
                                    "Faculty": "NA"
                                },
                                {
                                    "Course_Code": "CS346",
                                    "Name": "Software Engineering Laboratory",
                                    "L": "0",
                                    "T": "0",
                                    "P": "3",
                                    "C": "3",
                                    "Semester": "6",
                                    "Elective": "0",
                                    "Faculty": "NA"
                                },
                                {
                                    "Course_Code": "CS348",
                                    "Name": "Implementation of Programming Languages Lab",
                                    "L": "0",
                                    "T": "2",
                                    "P": "3",
                                    "C": "7",
                                    "Semester": "6",
                                    "Elective": "0",
                                    "Faculty": "NA"
                                },
                                {
                                    "Course_Code": "CS361",
                                    "Name": "Machine Learning",
                                    "L": "3",
                                    "T": "0",
                                    "P": "0",
                                    "C": "6",
                                    "Semester": "6",
                                    "Elective": "0",
                                    "Faculty": "NA"
                                },
                                {
                                    "Course_Code": "MA222",
                                    "Name": "Elementary Number Theory and Algebra",
                                    "L": "3",
                                    "T": "0",
                                    "P": "0",
                                    "C": "6",
                                    "Semester": "3",
                                    "Elective": "0",
                                    "Faculty": "NA"
                                },
                                {
                                    "Course_Code": "MA225",
                                    "Name": "Probability Theory and Random Processes",
                                    "L": "3",
                                    "T": "1",
                                    "P": "0",
                                    "C": "8",
                                    "Semester": "3",
                                    "Elective": "0",
                                    "Faculty": "NA"
                                },
                                {
                                    "Course_Code": "MA321",
                                    "Name": "Optimization",
                                    "L": "3",
                                    "T": "0",
                                    "P": "0",
                                    "C": "6",
                                    "Semester": "5",
                                    "Elective": "0",
                                    "Faculty": "NA"
                                }
                            ]
                        },
                        "text/html": [
                            "<table>",
                            "<tr><th>Course_Code</th><th>Name</th><th>L</th><th>T</th><th>P</th><th>C</th><th>Semester</th><th>Elective</th><th>Faculty</th></tr>",
                            "<tr><td>CS201</td><td>Discrete Mathematics</td><td>3</td><td>0</td><td>0</td><td>6</td><td>3</td><td>0</td><td>NA</td></tr>",
                            "<tr><td>CS203</td><td>Algorithms and Data Structures</td><td>3</td><td>0</td><td>0</td><td>6</td><td>3</td><td>0</td><td>NA</td></tr>",
                            "<tr><td>CS204</td><td>Algorithms and Data Structures Laboratory</td><td>0</td><td>1</td><td>3</td><td>5</td><td>3</td><td>0</td><td>NA</td></tr>",
                            "<tr><td>CS205</td><td>Formal Languages, Automata Theory and Computation</td><td>3</td><td>0</td><td>0</td><td>6</td><td>4</td><td>0</td><td>NA</td></tr>",
                            "<tr><td>CS207</td><td>Design and Analysis of Algorithms</td><td>3</td><td>0</td><td>0</td><td>6</td><td>4</td><td>0</td><td>NA</td></tr>",
                            "<tr><td>CS221</td><td>Digital Design</td><td>3</td><td>0</td><td>0</td><td>6</td><td>3</td><td>0</td><td>NA</td></tr>",
                            "<tr><td>CS223</td><td>Computer Architecture and Organization</td><td>3</td><td>0</td><td>0</td><td>6</td><td>4</td><td>0</td><td>NA</td></tr>",
                            "<tr><td>CS224</td><td>Hardware Laboratory</td><td>0</td><td>1</td><td>4</td><td>6</td><td>4</td><td>0</td><td>NA</td></tr>",
                            "<tr><td>CS242</td><td>System Software Laboratory</td><td>0</td><td>1</td><td>3</td><td>5</td><td>3</td><td>0</td><td>NA</td></tr>",
                            "<tr><td>CS245</td><td>Database Management Systems</td><td>3</td><td>0</td><td>0</td><td>6</td><td>4</td><td>0</td><td>NA</td></tr>",
                            "<tr><td>CS246</td><td>Database Management Systems Laboratory</td><td>0</td><td>0</td><td>4</td><td>4</td><td>4</td><td>0</td><td>NA</td></tr>",
                            "<tr><td>CS341</td><td>Computer Networks</td><td>3</td><td>0</td><td>0</td><td>6</td><td>5</td><td>0</td><td>NA</td></tr>",
                            "<tr><td>CS342</td><td>Computer Networks Laboratory</td><td>0</td><td>0</td><td>4</td><td>4</td><td>5</td><td>0</td><td>NA</td></tr>",
                            "<tr><td>CS343</td><td>Operating Systems</td><td>3</td><td>0</td><td>0</td><td>6</td><td>5</td><td>0</td><td>NA</td></tr>",
                            "<tr><td>CS344</td><td>Operating Systems Laboratory</td><td>0</td><td>0</td><td>4</td><td>4</td><td>5</td><td>0</td><td>NA</td></tr>",
                            "<tr><td>CS345</td><td>Software Engineering</td><td>2</td><td>0</td><td>0</td><td>4</td><td>6</td><td>0</td><td>NA</td></tr>",
                            "<tr><td>CS346</td><td>Software Engineering Laboratory</td><td>0</td><td>0</td><td>3</td><td>3</td><td>6</td><td>0</td><td>NA</td></tr>",
                            "<tr><td>CS348</td><td>Implementation of Programming Languages Lab</td><td>0</td><td>2</td><td>3</td><td>7</td><td>6</td><td>0</td><td>NA</td></tr>",
                            "<tr><td>CS361</td><td>Machine Learning</td><td>3</td><td>0</td><td>0</td><td>6</td><td>6</td><td>0</td><td>NA</td></tr>",
                            "<tr><td>MA222</td><td>Elementary Number Theory and Algebra</td><td>3</td><td>0</td><td>0</td><td>6</td><td>3</td><td>0</td><td>NA</td></tr>",
                            "<tr><td>MA225</td><td>Probability Theory and Random Processes</td><td>3</td><td>1</td><td>0</td><td>8</td><td>3</td><td>0</td><td>NA</td></tr>",
                            "<tr><td>MA321</td><td>Optimization</td><td>3</td><td>0</td><td>0</td><td>6</td><td>5</td><td>0</td><td>NA</td></tr>",
                            "</table>"
                        ]
                    }
                }
            ],
            "execution_count": 7
        },
        {
            "cell_type": "code",
            "source": [
                "drop table elective_courses;\r\n",
                "\r\n",
                "SELECT distinct course_Structure.*, 'NA' AS Faculty \r\n",
                "INTO elective_courses \r\n",
                "FROM course_Structure \r\n",
                "WHERE course_Structure.Course_Code LIKE '%x%';\r\n",
                ""
            ],
            "metadata": {
                "language": "sql",
                "azdata_cell_guid": "930b239c-8606-423e-a4b2-e8f88f00f090"
            },
            "outputs": [
                {
                    "output_type": "display_data",
                    "data": {
                        "text/html": "(18 rows affected)"
                    },
                    "metadata": {}
                },
                {
                    "output_type": "display_data",
                    "data": {
                        "text/html": "Total execution time: 00:00:00.266"
                    },
                    "metadata": {}
                }
            ],
            "execution_count": 8
        },
        {
            "cell_type": "code",
            "source": [
                "select * from elective_courses;\r\n",
                ""
            ],
            "metadata": {
                "language": "sql",
                "azdata_cell_guid": "c5bfb824-b363-4aa0-ac0d-0e1fb1042ad4"
            },
            "outputs": [
                {
                    "output_type": "display_data",
                    "data": {
                        "text/html": "(18 rows affected)"
                    },
                    "metadata": {}
                },
                {
                    "output_type": "display_data",
                    "data": {
                        "text/html": "Total execution time: 00:00:00.336"
                    },
                    "metadata": {}
                },
                {
                    "output_type": "execute_result",
                    "execution_count": 66,
                    "data": {
                        "application/vnd.dataresource+json": {
                            "schema": {
                                "fields": [
                                    {
                                        "name": "Course_Code"
                                    },
                                    {
                                        "name": "Name"
                                    },
                                    {
                                        "name": "L"
                                    },
                                    {
                                        "name": "T"
                                    },
                                    {
                                        "name": "P"
                                    },
                                    {
                                        "name": "C"
                                    },
                                    {
                                        "name": "Semester"
                                    },
                                    {
                                        "name": "Elective"
                                    },
                                    {
                                        "name": "Faculty"
                                    }
                                ]
                            },
                            "data": [
                                {
                                    "Course_Code": "CSxxx",
                                    "Name": "Departmental Elective - I",
                                    "L": "3",
                                    "T": "0",
                                    "P": "0",
                                    "C": "6",
                                    "Semester": "5",
                                    "Elective": "1",
                                    "Faculty": "NA"
                                },
                                {
                                    "Course_Code": "CSxxx",
                                    "Name": "Departmental Elective - II",
                                    "L": "3",
                                    "T": "0",
                                    "P": "0",
                                    "C": "6",
                                    "Semester": "6",
                                    "Elective": "1",
                                    "Faculty": "NA"
                                },
                                {
                                    "Course_Code": "CSxxx",
                                    "Name": "Departmental Elective - III",
                                    "L": "3",
                                    "T": "0",
                                    "P": "0",
                                    "C": "6",
                                    "Semester": "6",
                                    "Elective": "1",
                                    "Faculty": "NA"
                                },
                                {
                                    "Course_Code": "CSxxx",
                                    "Name": "Departmental Elective - IV",
                                    "L": "0",
                                    "T": "1",
                                    "P": "3",
                                    "C": "5",
                                    "Semester": "6",
                                    "Elective": "1",
                                    "Faculty": "NA"
                                },
                                {
                                    "Course_Code": "CSxxx",
                                    "Name": "Departmental Elective -IX",
                                    "L": "3",
                                    "T": "0",
                                    "P": "0",
                                    "C": "6",
                                    "Semester": "8",
                                    "Elective": "1",
                                    "Faculty": "NA"
                                },
                                {
                                    "Course_Code": "CSxxx",
                                    "Name": "Departmental Elective-VI",
                                    "L": "3",
                                    "T": "0",
                                    "P": "0",
                                    "C": "6",
                                    "Semester": "7",
                                    "Elective": "1",
                                    "Faculty": "NA"
                                },
                                {
                                    "Course_Code": "CSxxx",
                                    "Name": "Departmental Elective-VII",
                                    "L": "3",
                                    "T": "0",
                                    "P": "0",
                                    "C": "6",
                                    "Semester": "7",
                                    "Elective": "1",
                                    "Faculty": "NA"
                                },
                                {
                                    "Course_Code": "CSxxx",
                                    "Name": "Departmental Elective-VIII",
                                    "L": "3",
                                    "T": "0",
                                    "P": "0",
                                    "C": "6",
                                    "Semester": "7",
                                    "Elective": "1",
                                    "Faculty": "NA"
                                },
                                {
                                    "Course_Code": "CSxxx",
                                    "Name": "Departmental Elective-X",
                                    "L": "3",
                                    "T": "0",
                                    "P": "0",
                                    "C": "6",
                                    "Semester": "8",
                                    "Elective": "1",
                                    "Faculty": "NA"
                                },
                                {
                                    "Course_Code": "CSxxx",
                                    "Name": "Departmental Elective-XI",
                                    "L": "3",
                                    "T": "0",
                                    "P": "0",
                                    "C": "6",
                                    "Semester": "8",
                                    "Elective": "1",
                                    "Faculty": "NA"
                                },
                                {
                                    "Course_Code": "OExxx",
                                    "Name": "HSS Elective - I Level-I",
                                    "L": "3",
                                    "T": "0",
                                    "P": "0",
                                    "C": "6",
                                    "Semester": "2",
                                    "Elective": "1",
                                    "Faculty": "NA"
                                },
                                {
                                    "Course_Code": "OExxx",
                                    "Name": "HSS Elective - I Level-I",
                                    "L": "3",
                                    "T": "0",
                                    "P": "0",
                                    "C": "6",
                                    "Semester": "4",
                                    "Elective": "1",
                                    "Faculty": "NA"
                                },
                                {
                                    "Course_Code": "OExxx",
                                    "Name": "HSS Elective - I Level-II",
                                    "L": "3",
                                    "T": "0",
                                    "P": "0",
                                    "C": "6",
                                    "Semester": "7",
                                    "Elective": "1",
                                    "Faculty": "NA"
                                },
                                {
                                    "Course_Code": "OExxx",
                                    "Name": "HSS Elective - II Level-I",
                                    "L": "3",
                                    "T": "0",
                                    "P": "0",
                                    "C": "6",
                                    "Semester": "5",
                                    "Elective": "1",
                                    "Faculty": "NA"
                                },
                                {
                                    "Course_Code": "OExxx",
                                    "Name": "HSS Elective - II Level-II",
                                    "L": "3",
                                    "T": "0",
                                    "P": "0",
                                    "C": "6",
                                    "Semester": "8",
                                    "Elective": "1",
                                    "Faculty": "NA"
                                },
                                {
                                    "Course_Code": "OExxx",
                                    "Name": "Open Elective",
                                    "L": "3",
                                    "T": "0",
                                    "P": "0",
                                    "C": "6",
                                    "Semester": "7",
                                    "Elective": "1",
                                    "Faculty": "NA"
                                },
                                {
                                    "Course_Code": "OExxx",
                                    "Name": "Open Elective",
                                    "L": "3",
                                    "T": "0",
                                    "P": "0",
                                    "C": "6",
                                    "Semester": "8",
                                    "Elective": "1",
                                    "Faculty": "NA"
                                },
                                {
                                    "Course_Code": "OExxx",
                                    "Name": "Open Elective / Departmental Elective -V",
                                    "L": "3",
                                    "T": "0",
                                    "P": "0",
                                    "C": "6",
                                    "Semester": "7",
                                    "Elective": "1",
                                    "Faculty": "NA"
                                }
                            ]
                        },
                        "text/html": "<table><tr><th>Course_Code</th><th>Name</th><th>L</th><th>T</th><th>P</th><th>C</th><th>Semester</th><th>Elective</th><th>Faculty</th></tr><tr><td>CSxxx</td><td>Departmental Elective - I</td><td>3</td><td>0</td><td>0</td><td>6</td><td>5</td><td>1</td><td>NA</td></tr><tr><td>CSxxx</td><td>Departmental Elective - II</td><td>3</td><td>0</td><td>0</td><td>6</td><td>6</td><td>1</td><td>NA</td></tr><tr><td>CSxxx</td><td>Departmental Elective - III</td><td>3</td><td>0</td><td>0</td><td>6</td><td>6</td><td>1</td><td>NA</td></tr><tr><td>CSxxx</td><td>Departmental Elective - IV</td><td>0</td><td>1</td><td>3</td><td>5</td><td>6</td><td>1</td><td>NA</td></tr><tr><td>CSxxx</td><td>Departmental Elective -IX</td><td>3</td><td>0</td><td>0</td><td>6</td><td>8</td><td>1</td><td>NA</td></tr><tr><td>CSxxx</td><td>Departmental Elective-VI</td><td>3</td><td>0</td><td>0</td><td>6</td><td>7</td><td>1</td><td>NA</td></tr><tr><td>CSxxx</td><td>Departmental Elective-VII</td><td>3</td><td>0</td><td>0</td><td>6</td><td>7</td><td>1</td><td>NA</td></tr><tr><td>CSxxx</td><td>Departmental Elective-VIII</td><td>3</td><td>0</td><td>0</td><td>6</td><td>7</td><td>1</td><td>NA</td></tr><tr><td>CSxxx</td><td>Departmental Elective-X</td><td>3</td><td>0</td><td>0</td><td>6</td><td>8</td><td>1</td><td>NA</td></tr><tr><td>CSxxx</td><td>Departmental Elective-XI</td><td>3</td><td>0</td><td>0</td><td>6</td><td>8</td><td>1</td><td>NA</td></tr><tr><td>OExxx</td><td>HSS Elective - I Level-I</td><td>3</td><td>0</td><td>0</td><td>6</td><td>2</td><td>1</td><td>NA</td></tr><tr><td>OExxx</td><td>HSS Elective - I Level-I</td><td>3</td><td>0</td><td>0</td><td>6</td><td>4</td><td>1</td><td>NA</td></tr><tr><td>OExxx</td><td>HSS Elective - I Level-II</td><td>3</td><td>0</td><td>0</td><td>6</td><td>7</td><td>1</td><td>NA</td></tr><tr><td>OExxx</td><td>HSS Elective - II Level-I</td><td>3</td><td>0</td><td>0</td><td>6</td><td>5</td><td>1</td><td>NA</td></tr><tr><td>OExxx</td><td>HSS Elective - II Level-II</td><td>3</td><td>0</td><td>0</td><td>6</td><td>8</td><td>1</td><td>NA</td></tr><tr><td>OExxx</td><td>Open Elective</td><td>3</td><td>0</td><td>0</td><td>6</td><td>7</td><td>1</td><td>NA</td></tr><tr><td>OExxx</td><td>Open Elective</td><td>3</td><td>0</td><td>0</td><td>6</td><td>8</td><td>1</td><td>NA</td></tr><tr><td>OExxx</td><td>Open Elective / Departmental Elective -V</td><td>3</td><td>0</td><td>0</td><td>6</td><td>7</td><td>1</td><td>NA</td></tr></table>"
                    },
                    "metadata": {}
                }
            ],
            "execution_count": 66
        },
        {
            "cell_type": "code",
            "source": [
                "insert into course(Course_Code,Name, L,T,P,C, Semester, ElectiveOrCompulsory)\r\n",
                "select Course_Code, Name, L,T,P,C, Semester, Elective\r\n",
                "from compulsory_courses;"
            ],
            "metadata": {
                "language": "sql",
                "azdata_cell_guid": "7455f1a7-450b-4286-a038-51df7061de1a"
            },
            "outputs": [
                {
                    "output_type": "error",
                    "ename": "",
                    "evalue": "Msg 2627, Level 14, State 1, Line 1\r\nViolation of PRIMARY KEY constraint 'PK__course__1AE5B24CC851C8CF'. Cannot insert duplicate key in object 'dbo.course'. The duplicate key value is (CS221).",
                    "traceback": []
                },
                {
                    "output_type": "display_data",
                    "data": {
                        "text/html": "The statement has been terminated."
                    },
                    "metadata": {}
                },
                {
                    "output_type": "display_data",
                    "data": {
                        "text/html": "Total execution time: 00:00:00.287"
                    },
                    "metadata": {}
                }
            ],
            "execution_count": 46
        },
        {
            "cell_type": "code",
            "source": [
                ""
            ],
            "metadata": {
                "azdata_cell_guid": "a4a03651-ed92-4dcf-a2a2-baf6505a1c3a",
                "language": "sql"
            },
            "outputs": [],
            "execution_count": null
        },
        {
            "cell_type": "code",
            "source": [
                "select * from course;"
            ],
            "metadata": {
                "language": "sql",
                "azdata_cell_guid": "fb9bb893-f8cf-4d3f-93f0-6e27e071ac33"
            },
            "outputs": [
                {
                    "output_type": "display_data",
                    "data": {
                        "text/html": "(22 rows affected)"
                    },
                    "metadata": {}
                },
                {
                    "output_type": "display_data",
                    "data": {
                        "text/html": "Total execution time: 00:00:00.270"
                    },
                    "metadata": {}
                },
                {
                    "output_type": "execute_result",
                    "metadata": {},
                    "execution_count": 9,
                    "data": {
                        "application/vnd.dataresource+json": {
                            "schema": {
                                "fields": [
                                    {
                                        "name": "Course_Code"
                                    },
                                    {
                                        "name": "Name"
                                    },
                                    {
                                        "name": "Description"
                                    },
                                    {
                                        "name": "L"
                                    },
                                    {
                                        "name": "T"
                                    },
                                    {
                                        "name": "P"
                                    },
                                    {
                                        "name": "C"
                                    },
                                    {
                                        "name": "Faculty_ID"
                                    },
                                    {
                                        "name": "Intake"
                                    },
                                    {
                                        "name": "Semester"
                                    },
                                    {
                                        "name": "ElectiveOrCompulsory"
                                    }
                                ]
                            },
                            "data": [
                                {
                                    "Course_Code": "CS201",
                                    "Name": "Discrete Mathematics",
                                    "Description": "NULL",
                                    "L": "3",
                                    "T": "0",
                                    "P": "0",
                                    "C": "6",
                                    "Faculty_ID": "NULL",
                                    "Intake": "NULL",
                                    "Semester": "3",
                                    "ElectiveOrCompulsory": "0"
                                },
                                {
                                    "Course_Code": "CS203",
                                    "Name": "Algorithms and Data Structures",
                                    "Description": "NULL",
                                    "L": "3",
                                    "T": "0",
                                    "P": "0",
                                    "C": "6",
                                    "Faculty_ID": "NULL",
                                    "Intake": "NULL",
                                    "Semester": "3",
                                    "ElectiveOrCompulsory": "0"
                                },
                                {
                                    "Course_Code": "CS204",
                                    "Name": "Algorithms and Data Structures Laboratory",
                                    "Description": "NULL",
                                    "L": "0",
                                    "T": "1",
                                    "P": "3",
                                    "C": "5",
                                    "Faculty_ID": "NULL",
                                    "Intake": "NULL",
                                    "Semester": "3",
                                    "ElectiveOrCompulsory": "0"
                                },
                                {
                                    "Course_Code": "CS205",
                                    "Name": "Formal Languages, Automata Theory and Computation",
                                    "Description": "NULL",
                                    "L": "3",
                                    "T": "0",
                                    "P": "0",
                                    "C": "6",
                                    "Faculty_ID": "NULL",
                                    "Intake": "NULL",
                                    "Semester": "4",
                                    "ElectiveOrCompulsory": "0"
                                },
                                {
                                    "Course_Code": "CS207",
                                    "Name": "Design and Analysis of Algorithms",
                                    "Description": "NULL",
                                    "L": "3",
                                    "T": "0",
                                    "P": "0",
                                    "C": "6",
                                    "Faculty_ID": "NULL",
                                    "Intake": "NULL",
                                    "Semester": "4",
                                    "ElectiveOrCompulsory": "0"
                                },
                                {
                                    "Course_Code": "CS221",
                                    "Name": "Digital Design",
                                    "Description": "NULL",
                                    "L": "3",
                                    "T": "0",
                                    "P": "0",
                                    "C": "6",
                                    "Faculty_ID": "NULL",
                                    "Intake": "NULL",
                                    "Semester": "3",
                                    "ElectiveOrCompulsory": "0"
                                },
                                {
                                    "Course_Code": "CS223",
                                    "Name": "Computer Architecture and Organization",
                                    "Description": "NULL",
                                    "L": "3",
                                    "T": "0",
                                    "P": "0",
                                    "C": "6",
                                    "Faculty_ID": "NULL",
                                    "Intake": "NULL",
                                    "Semester": "4",
                                    "ElectiveOrCompulsory": "0"
                                },
                                {
                                    "Course_Code": "CS224",
                                    "Name": "Hardware Laboratory",
                                    "Description": "NULL",
                                    "L": "0",
                                    "T": "1",
                                    "P": "4",
                                    "C": "6",
                                    "Faculty_ID": "NULL",
                                    "Intake": "NULL",
                                    "Semester": "4",
                                    "ElectiveOrCompulsory": "0"
                                },
                                {
                                    "Course_Code": "CS242",
                                    "Name": "System Software Laboratory",
                                    "Description": "NULL",
                                    "L": "0",
                                    "T": "1",
                                    "P": "3",
                                    "C": "5",
                                    "Faculty_ID": "NULL",
                                    "Intake": "NULL",
                                    "Semester": "3",
                                    "ElectiveOrCompulsory": "0"
                                },
                                {
                                    "Course_Code": "CS245",
                                    "Name": "Database Management Systems",
                                    "Description": "NULL",
                                    "L": "3",
                                    "T": "0",
                                    "P": "0",
                                    "C": "6",
                                    "Faculty_ID": "NULL",
                                    "Intake": "NULL",
                                    "Semester": "4",
                                    "ElectiveOrCompulsory": "0"
                                },
                                {
                                    "Course_Code": "CS246",
                                    "Name": "Database Management Systems Laboratory",
                                    "Description": "NULL",
                                    "L": "0",
                                    "T": "0",
                                    "P": "4",
                                    "C": "4",
                                    "Faculty_ID": "NULL",
                                    "Intake": "NULL",
                                    "Semester": "4",
                                    "ElectiveOrCompulsory": "0"
                                },
                                {
                                    "Course_Code": "CS341",
                                    "Name": "Computer Networks",
                                    "Description": "NULL",
                                    "L": "3",
                                    "T": "0",
                                    "P": "0",
                                    "C": "6",
                                    "Faculty_ID": "NULL",
                                    "Intake": "NULL",
                                    "Semester": "5",
                                    "ElectiveOrCompulsory": "0"
                                },
                                {
                                    "Course_Code": "CS342",
                                    "Name": "Computer Networks Laboratory",
                                    "Description": "NULL",
                                    "L": "0",
                                    "T": "0",
                                    "P": "4",
                                    "C": "4",
                                    "Faculty_ID": "NULL",
                                    "Intake": "NULL",
                                    "Semester": "5",
                                    "ElectiveOrCompulsory": "0"
                                },
                                {
                                    "Course_Code": "CS343",
                                    "Name": "Operating Systems",
                                    "Description": "NULL",
                                    "L": "3",
                                    "T": "0",
                                    "P": "0",
                                    "C": "6",
                                    "Faculty_ID": "NULL",
                                    "Intake": "NULL",
                                    "Semester": "5",
                                    "ElectiveOrCompulsory": "0"
                                },
                                {
                                    "Course_Code": "CS344",
                                    "Name": "Operating Systems Laboratory",
                                    "Description": "NULL",
                                    "L": "0",
                                    "T": "0",
                                    "P": "4",
                                    "C": "4",
                                    "Faculty_ID": "NULL",
                                    "Intake": "NULL",
                                    "Semester": "5",
                                    "ElectiveOrCompulsory": "0"
                                },
                                {
                                    "Course_Code": "CS345",
                                    "Name": "Software Engineering",
                                    "Description": "NULL",
                                    "L": "2",
                                    "T": "0",
                                    "P": "0",
                                    "C": "4",
                                    "Faculty_ID": "NULL",
                                    "Intake": "NULL",
                                    "Semester": "6",
                                    "ElectiveOrCompulsory": "0"
                                },
                                {
                                    "Course_Code": "CS346",
                                    "Name": "Software Engineering Laboratory",
                                    "Description": "NULL",
                                    "L": "0",
                                    "T": "0",
                                    "P": "3",
                                    "C": "3",
                                    "Faculty_ID": "NULL",
                                    "Intake": "NULL",
                                    "Semester": "6",
                                    "ElectiveOrCompulsory": "0"
                                },
                                {
                                    "Course_Code": "CS348",
                                    "Name": "Implementation of Programming Languages Lab",
                                    "Description": "NULL",
                                    "L": "0",
                                    "T": "2",
                                    "P": "3",
                                    "C": "7",
                                    "Faculty_ID": "NULL",
                                    "Intake": "NULL",
                                    "Semester": "6",
                                    "ElectiveOrCompulsory": "0"
                                },
                                {
                                    "Course_Code": "CS361",
                                    "Name": "Machine Learning",
                                    "Description": "NULL",
                                    "L": "3",
                                    "T": "0",
                                    "P": "0",
                                    "C": "6",
                                    "Faculty_ID": "NULL",
                                    "Intake": "NULL",
                                    "Semester": "6",
                                    "ElectiveOrCompulsory": "0"
                                },
                                {
                                    "Course_Code": "MA222",
                                    "Name": "Elementary Number Theory and Algebra",
                                    "Description": "NULL",
                                    "L": "3",
                                    "T": "0",
                                    "P": "0",
                                    "C": "6",
                                    "Faculty_ID": "NULL",
                                    "Intake": "NULL",
                                    "Semester": "3",
                                    "ElectiveOrCompulsory": "0"
                                },
                                {
                                    "Course_Code": "MA225",
                                    "Name": "Probability Theory and Random Processes",
                                    "Description": "NULL",
                                    "L": "3",
                                    "T": "1",
                                    "P": "0",
                                    "C": "8",
                                    "Faculty_ID": "NULL",
                                    "Intake": "NULL",
                                    "Semester": "3",
                                    "ElectiveOrCompulsory": "0"
                                },
                                {
                                    "Course_Code": "MA321",
                                    "Name": "Optimization",
                                    "Description": "NULL",
                                    "L": "3",
                                    "T": "0",
                                    "P": "0",
                                    "C": "6",
                                    "Faculty_ID": "NULL",
                                    "Intake": "NULL",
                                    "Semester": "5",
                                    "ElectiveOrCompulsory": "0"
                                }
                            ]
                        },
                        "text/html": [
                            "<table>",
                            "<tr><th>Course_Code</th><th>Name</th><th>Description</th><th>L</th><th>T</th><th>P</th><th>C</th><th>Faculty_ID</th><th>Intake</th><th>Semester</th><th>ElectiveOrCompulsory</th></tr>",
                            "<tr><td>CS201</td><td>Discrete Mathematics</td><td>NULL</td><td>3</td><td>0</td><td>0</td><td>6</td><td>NULL</td><td>NULL</td><td>3</td><td>0</td></tr>",
                            "<tr><td>CS203</td><td>Algorithms and Data Structures</td><td>NULL</td><td>3</td><td>0</td><td>0</td><td>6</td><td>NULL</td><td>NULL</td><td>3</td><td>0</td></tr>",
                            "<tr><td>CS204</td><td>Algorithms and Data Structures Laboratory</td><td>NULL</td><td>0</td><td>1</td><td>3</td><td>5</td><td>NULL</td><td>NULL</td><td>3</td><td>0</td></tr>",
                            "<tr><td>CS205</td><td>Formal Languages, Automata Theory and Computation</td><td>NULL</td><td>3</td><td>0</td><td>0</td><td>6</td><td>NULL</td><td>NULL</td><td>4</td><td>0</td></tr>",
                            "<tr><td>CS207</td><td>Design and Analysis of Algorithms</td><td>NULL</td><td>3</td><td>0</td><td>0</td><td>6</td><td>NULL</td><td>NULL</td><td>4</td><td>0</td></tr>",
                            "<tr><td>CS221</td><td>Digital Design</td><td>NULL</td><td>3</td><td>0</td><td>0</td><td>6</td><td>NULL</td><td>NULL</td><td>3</td><td>0</td></tr>",
                            "<tr><td>CS223</td><td>Computer Architecture and Organization</td><td>NULL</td><td>3</td><td>0</td><td>0</td><td>6</td><td>NULL</td><td>NULL</td><td>4</td><td>0</td></tr>",
                            "<tr><td>CS224</td><td>Hardware Laboratory</td><td>NULL</td><td>0</td><td>1</td><td>4</td><td>6</td><td>NULL</td><td>NULL</td><td>4</td><td>0</td></tr>",
                            "<tr><td>CS242</td><td>System Software Laboratory</td><td>NULL</td><td>0</td><td>1</td><td>3</td><td>5</td><td>NULL</td><td>NULL</td><td>3</td><td>0</td></tr>",
                            "<tr><td>CS245</td><td>Database Management Systems</td><td>NULL</td><td>3</td><td>0</td><td>0</td><td>6</td><td>NULL</td><td>NULL</td><td>4</td><td>0</td></tr>",
                            "<tr><td>CS246</td><td>Database Management Systems Laboratory</td><td>NULL</td><td>0</td><td>0</td><td>4</td><td>4</td><td>NULL</td><td>NULL</td><td>4</td><td>0</td></tr>",
                            "<tr><td>CS341</td><td>Computer Networks</td><td>NULL</td><td>3</td><td>0</td><td>0</td><td>6</td><td>NULL</td><td>NULL</td><td>5</td><td>0</td></tr>",
                            "<tr><td>CS342</td><td>Computer Networks Laboratory</td><td>NULL</td><td>0</td><td>0</td><td>4</td><td>4</td><td>NULL</td><td>NULL</td><td>5</td><td>0</td></tr>",
                            "<tr><td>CS343</td><td>Operating Systems</td><td>NULL</td><td>3</td><td>0</td><td>0</td><td>6</td><td>NULL</td><td>NULL</td><td>5</td><td>0</td></tr>",
                            "<tr><td>CS344</td><td>Operating Systems Laboratory</td><td>NULL</td><td>0</td><td>0</td><td>4</td><td>4</td><td>NULL</td><td>NULL</td><td>5</td><td>0</td></tr>",
                            "<tr><td>CS345</td><td>Software Engineering</td><td>NULL</td><td>2</td><td>0</td><td>0</td><td>4</td><td>NULL</td><td>NULL</td><td>6</td><td>0</td></tr>",
                            "<tr><td>CS346</td><td>Software Engineering Laboratory</td><td>NULL</td><td>0</td><td>0</td><td>3</td><td>3</td><td>NULL</td><td>NULL</td><td>6</td><td>0</td></tr>",
                            "<tr><td>CS348</td><td>Implementation of Programming Languages Lab</td><td>NULL</td><td>0</td><td>2</td><td>3</td><td>7</td><td>NULL</td><td>NULL</td><td>6</td><td>0</td></tr>",
                            "<tr><td>CS361</td><td>Machine Learning</td><td>NULL</td><td>3</td><td>0</td><td>0</td><td>6</td><td>NULL</td><td>NULL</td><td>6</td><td>0</td></tr>",
                            "<tr><td>MA222</td><td>Elementary Number Theory and Algebra</td><td>NULL</td><td>3</td><td>0</td><td>0</td><td>6</td><td>NULL</td><td>NULL</td><td>3</td><td>0</td></tr>",
                            "<tr><td>MA225</td><td>Probability Theory and Random Processes</td><td>NULL</td><td>3</td><td>1</td><td>0</td><td>8</td><td>NULL</td><td>NULL</td><td>3</td><td>0</td></tr>",
                            "<tr><td>MA321</td><td>Optimization</td><td>NULL</td><td>3</td><td>0</td><td>0</td><td>6</td><td>NULL</td><td>NULL</td><td>5</td><td>0</td></tr>",
                            "</table>"
                        ]
                    }
                }
            ],
            "execution_count": 9
        },
        {
            "cell_type": "code",
            "source": [
                "-- Inserting elective courses CS901 to CS920 with structure 3-0-0-6 for semesters 5 and 7\r\n",
                "INSERT INTO course (Course_Code, Name, L, T, P, C, Semester, ElectiveOrCompulsory)\r\n",
                "VALUES\r\n",
                "    ('CS901', 'Elective Course 1', 3, 0, 0, 6, '5,7', 1),\r\n",
                "    ('CS902', 'Elective Course 2', 3, 0, 0, 6, '5,7', 1),\r\n",
                "    ('CS903', 'Elective Course 3', 3, 0, 0, 6, '5,7', 1),\r\n",
                "    ('CS904', 'Elective Course 4', 3, 0, 0, 6, '5,7', 1),\r\n",
                "    ('CS905', 'Elective Course 5', 3, 0, 0, 6, '5,7', 1),\r\n",
                "    ('CS906', 'Elective Course 6', 3, 0, 0, 6, '5,7', 1),\r\n",
                "    ('CS907', 'Elective Course 7', 3, 0, 0, 6, '5,7', 1),\r\n",
                "    ('CS908', 'Elective Course 8', 3, 0, 0, 6, '5,7', 1),\r\n",
                "    ('CS909', 'Elective Course 9', 3, 0, 0, 6, '6,8', 1),\r\n",
                "    ('CS910', 'Elective Course 10', 3, 0, 0, 6, '6,8', 1),\r\n",
                "    ('CS911', 'Elective Course 11', 3, 0, 0, 6, '6,8', 1),\r\n",
                "    ('CS912', 'Elective Course 12', 3, 0, 0, 6, '6,8', 1),\r\n",
                "    ('CS913', 'Elective Course 13', 3, 0, 0, 6, '6,8', 1),\r\n",
                "    ('CS914', 'Elective Course 14', 3, 0, 0, 6, '6,8', 1),\r\n",
                "    ('CS915', 'Elective Course 15', 3, 0, 0, 6, '6,8', 1),\r\n",
                "    ('CS916', 'Elective Course 16', 3, 0, 0, 6, '6,8', 1),\r\n",
                "    ('CS917', 'Elective Course 17', 3, 0, 0, 6, '6,8', 1),\r\n",
                "    ('CS918', 'Elective Course 18', 3, 0, 0, 6, '6,8', 1),\r\n",
                "    ('CS919', 'Elective Course 19', 3, 0, 0, 6, '6,8', 1),\r\n",
                "    ('CS920', 'Elective Course 20', 3, 0, 0, 6, '6,8', 1);\r\n",
                "\r\n",
                "-- Inserting elective courses CS950 to CS955 with structure 0-1-3-5 for semester 6 only\r\n",
                "INSERT INTO course (Course_Code, Name, L, T, P, C, Semester, ElectiveOrCompulsory)\r\n",
                "VALUES\r\n",
                "    ('CS950', 'Elective Course 21', 0, 1, 3, 5, '6', 1),\r\n",
                "    ('CS951', 'Elective Course 22', 0, 1, 3, 5, '6', 1),\r\n",
                "    ('CS952', 'Elective Course 23', 0, 1, 3, 5, '6', 1),\r\n",
                "    ('CS953', 'Elective Course 24', 0, 1, 3, 5, '6', 1),\r\n",
                "    ('CS954', 'Elective Course 25', 0, 1, 3, 5, '6', 1),\r\n",
                "    ('CS955', 'Elective Course 26', 0, 1, 3, 5, '6', 1);\r\n",
                "\r\n",
                "\r\n",
                "\r\n",
                "-- Inserting Open Elective (OE) courses for all semesters\r\n",
                "INSERT INTO course (Course_Code, Name, L, T, P, C, Semester, ElectiveOrCompulsory)\r\n",
                "VALUES\r\n",
                "    -- Semester 1\r\n",
                "    ('OE101', 'Exploring World Cultures', 3, 0, 0, 6, '1', 1),\r\n",
                "    ('OE102', 'Environmental Sustainability', 3, 0, 0, 6, '1', 1),\r\n",
                "    ('OE103', 'Introduction to Psychology', 3, 0, 0, 6, '1', 1),\r\n",
                "\r\n",
                "    -- Semester 2\r\n",
                "    ('OE201', 'Digital Marketing Strategies', 3, 0, 0, 6, '2', 1),\r\n",
                "    ('OE202', 'Data Analysis with Python', 3, 0, 0, 6, '2', 1),\r\n",
                "    ('OE203', 'Cybersecurity Fundamentals', 3, 0, 0, 6, '2', 1),\r\n",
                "\r\n",
                "    -- Semester 3\r\n",
                "    ('OE301', 'Financial Literacy for Everyone', 3, 0, 0, 6, '3', 1),\r\n",
                "    ('OE302', 'Creative Writing Workshop', 3, 0, 0, 6, '3', 1),\r\n",
                "    ('OE303', 'Introduction to Philosophy', 3, 0, 0, 6, '3', 1),\r\n",
                "\r\n",
                "    -- Semester 4\r\n",
                "    ('OE401', 'Global Health Issues', 3, 0, 0, 6, '4', 1),\r\n",
                "    ('OE402', 'Entrepreneurship Essentials', 3, 0, 0, 6, '4', 1),\r\n",
                "    ('OE403', 'User Experience Design', 3, 0, 0, 6, '4', 1),\r\n",
                "\r\n",
                "    -- Semester 5\r\n",
                "    ('OE501', 'Artificial Intelligence Applications', 3, 0, 0, 6, '5', 1),\r\n",
                "    ('OE502', 'Public Speaking Mastery', 3, 0, 0, 6, '5', 1),\r\n",
                "    ('OE503', 'Music Appreciation and Theory', 3, 0, 0, 6, '5', 1),\r\n",
                "\r\n",
                "    -- Semester 6\r\n",
                "    ('OE601', 'Introduction to Astronomy', 3, 0, 0, 6, '6', 1),\r\n",
                "    ('OE602', 'Nutrition and Wellness', 3, 0, 0, 6, '6', 1),\r\n",
                "    ('OE603', 'Graphic Design Fundamentals', 3, 0, 0, 6, '6', 1),\r\n",
                "\r\n",
                "    -- Semester 7\r\n",
                "    ('OE701', 'Game Development Basics', 3, 0, 0, 6, '7', 1),\r\n",
                "    ('OE702', 'Film Studies: History and Analysis', 3, 0, 0, 6, '7', 1),\r\n",
                "    ('OE703', 'Introduction to Robotics', 3, 0, 0, 6, '7', 1),\r\n",
                "\r\n",
                "    -- Semester 8\r\n",
                "    ('OE801', 'Advanced Topics in Machine Learning', 3, 0, 0, 6, '8', 1),\r\n",
                "    ('OE802', 'Digital Ethics and Privacy', 3, 0, 0, 6, '8', 1),\r\n",
                "    ('OE803', 'Virtual Reality Applications', 3, 0, 0, 6, '8', 1);\r\n",
                "\r\n",
                ""
            ],
            "metadata": {
                "azdata_cell_guid": "fdffc193-d70b-49b4-b337-85884df62dfb",
                "language": "sql"
            },
            "outputs": [
                {
                    "output_type": "display_data",
                    "data": {
                        "text/html": "(20 rows affected)"
                    },
                    "metadata": {}
                },
                {
                    "output_type": "display_data",
                    "data": {
                        "text/html": "(6 rows affected)"
                    },
                    "metadata": {}
                },
                {
                    "output_type": "display_data",
                    "data": {
                        "text/html": "(24 rows affected)"
                    },
                    "metadata": {}
                },
                {
                    "output_type": "display_data",
                    "data": {
                        "text/html": "Total execution time: 00:00:00.275"
                    },
                    "metadata": {}
                }
            ],
            "execution_count": 10
        },
        {
            "cell_type": "code",
            "source": [
                "select * from course;"
            ],
            "metadata": {
                "azdata_cell_guid": "e00f987f-a294-438a-ae36-73ef7102592d",
                "language": "sql"
            },
            "outputs": [
                {
                    "output_type": "display_data",
                    "data": {
                        "text/html": "(72 rows affected)"
                    },
                    "metadata": {}
                },
                {
                    "output_type": "display_data",
                    "data": {
                        "text/html": "Total execution time: 00:00:00.269"
                    },
                    "metadata": {}
                },
                {
                    "output_type": "execute_result",
                    "metadata": {},
                    "execution_count": 11,
                    "data": {
                        "application/vnd.dataresource+json": {
                            "schema": {
                                "fields": [
                                    {
                                        "name": "Course_Code"
                                    },
                                    {
                                        "name": "Name"
                                    },
                                    {
                                        "name": "Description"
                                    },
                                    {
                                        "name": "L"
                                    },
                                    {
                                        "name": "T"
                                    },
                                    {
                                        "name": "P"
                                    },
                                    {
                                        "name": "C"
                                    },
                                    {
                                        "name": "Faculty_ID"
                                    },
                                    {
                                        "name": "Intake"
                                    },
                                    {
                                        "name": "Semester"
                                    },
                                    {
                                        "name": "ElectiveOrCompulsory"
                                    }
                                ]
                            },
                            "data": [
                                {
                                    "Course_Code": "CS201",
                                    "Name": "Discrete Mathematics",
                                    "Description": "NULL",
                                    "L": "3",
                                    "T": "0",
                                    "P": "0",
                                    "C": "6",
                                    "Faculty_ID": "NULL",
                                    "Intake": "NULL",
                                    "Semester": "3",
                                    "ElectiveOrCompulsory": "0"
                                },
                                {
                                    "Course_Code": "CS203",
                                    "Name": "Algorithms and Data Structures",
                                    "Description": "NULL",
                                    "L": "3",
                                    "T": "0",
                                    "P": "0",
                                    "C": "6",
                                    "Faculty_ID": "NULL",
                                    "Intake": "NULL",
                                    "Semester": "3",
                                    "ElectiveOrCompulsory": "0"
                                },
                                {
                                    "Course_Code": "CS204",
                                    "Name": "Algorithms and Data Structures Laboratory",
                                    "Description": "NULL",
                                    "L": "0",
                                    "T": "1",
                                    "P": "3",
                                    "C": "5",
                                    "Faculty_ID": "NULL",
                                    "Intake": "NULL",
                                    "Semester": "3",
                                    "ElectiveOrCompulsory": "0"
                                },
                                {
                                    "Course_Code": "CS205",
                                    "Name": "Formal Languages, Automata Theory and Computation",
                                    "Description": "NULL",
                                    "L": "3",
                                    "T": "0",
                                    "P": "0",
                                    "C": "6",
                                    "Faculty_ID": "NULL",
                                    "Intake": "NULL",
                                    "Semester": "4",
                                    "ElectiveOrCompulsory": "0"
                                },
                                {
                                    "Course_Code": "CS207",
                                    "Name": "Design and Analysis of Algorithms",
                                    "Description": "NULL",
                                    "L": "3",
                                    "T": "0",
                                    "P": "0",
                                    "C": "6",
                                    "Faculty_ID": "NULL",
                                    "Intake": "NULL",
                                    "Semester": "4",
                                    "ElectiveOrCompulsory": "0"
                                },
                                {
                                    "Course_Code": "CS221",
                                    "Name": "Digital Design",
                                    "Description": "NULL",
                                    "L": "3",
                                    "T": "0",
                                    "P": "0",
                                    "C": "6",
                                    "Faculty_ID": "NULL",
                                    "Intake": "NULL",
                                    "Semester": "3",
                                    "ElectiveOrCompulsory": "0"
                                },
                                {
                                    "Course_Code": "CS223",
                                    "Name": "Computer Architecture and Organization",
                                    "Description": "NULL",
                                    "L": "3",
                                    "T": "0",
                                    "P": "0",
                                    "C": "6",
                                    "Faculty_ID": "NULL",
                                    "Intake": "NULL",
                                    "Semester": "4",
                                    "ElectiveOrCompulsory": "0"
                                },
                                {
                                    "Course_Code": "CS224",
                                    "Name": "Hardware Laboratory",
                                    "Description": "NULL",
                                    "L": "0",
                                    "T": "1",
                                    "P": "4",
                                    "C": "6",
                                    "Faculty_ID": "NULL",
                                    "Intake": "NULL",
                                    "Semester": "4",
                                    "ElectiveOrCompulsory": "0"
                                },
                                {
                                    "Course_Code": "CS242",
                                    "Name": "System Software Laboratory",
                                    "Description": "NULL",
                                    "L": "0",
                                    "T": "1",
                                    "P": "3",
                                    "C": "5",
                                    "Faculty_ID": "NULL",
                                    "Intake": "NULL",
                                    "Semester": "3",
                                    "ElectiveOrCompulsory": "0"
                                },
                                {
                                    "Course_Code": "CS245",
                                    "Name": "Database Management Systems",
                                    "Description": "NULL",
                                    "L": "3",
                                    "T": "0",
                                    "P": "0",
                                    "C": "6",
                                    "Faculty_ID": "NULL",
                                    "Intake": "NULL",
                                    "Semester": "4",
                                    "ElectiveOrCompulsory": "0"
                                },
                                {
                                    "Course_Code": "CS246",
                                    "Name": "Database Management Systems Laboratory",
                                    "Description": "NULL",
                                    "L": "0",
                                    "T": "0",
                                    "P": "4",
                                    "C": "4",
                                    "Faculty_ID": "NULL",
                                    "Intake": "NULL",
                                    "Semester": "4",
                                    "ElectiveOrCompulsory": "0"
                                },
                                {
                                    "Course_Code": "CS341",
                                    "Name": "Computer Networks",
                                    "Description": "NULL",
                                    "L": "3",
                                    "T": "0",
                                    "P": "0",
                                    "C": "6",
                                    "Faculty_ID": "NULL",
                                    "Intake": "NULL",
                                    "Semester": "5",
                                    "ElectiveOrCompulsory": "0"
                                },
                                {
                                    "Course_Code": "CS342",
                                    "Name": "Computer Networks Laboratory",
                                    "Description": "NULL",
                                    "L": "0",
                                    "T": "0",
                                    "P": "4",
                                    "C": "4",
                                    "Faculty_ID": "NULL",
                                    "Intake": "NULL",
                                    "Semester": "5",
                                    "ElectiveOrCompulsory": "0"
                                },
                                {
                                    "Course_Code": "CS343",
                                    "Name": "Operating Systems",
                                    "Description": "NULL",
                                    "L": "3",
                                    "T": "0",
                                    "P": "0",
                                    "C": "6",
                                    "Faculty_ID": "NULL",
                                    "Intake": "NULL",
                                    "Semester": "5",
                                    "ElectiveOrCompulsory": "0"
                                },
                                {
                                    "Course_Code": "CS344",
                                    "Name": "Operating Systems Laboratory",
                                    "Description": "NULL",
                                    "L": "0",
                                    "T": "0",
                                    "P": "4",
                                    "C": "4",
                                    "Faculty_ID": "NULL",
                                    "Intake": "NULL",
                                    "Semester": "5",
                                    "ElectiveOrCompulsory": "0"
                                },
                                {
                                    "Course_Code": "CS345",
                                    "Name": "Software Engineering",
                                    "Description": "NULL",
                                    "L": "2",
                                    "T": "0",
                                    "P": "0",
                                    "C": "4",
                                    "Faculty_ID": "NULL",
                                    "Intake": "NULL",
                                    "Semester": "6",
                                    "ElectiveOrCompulsory": "0"
                                },
                                {
                                    "Course_Code": "CS346",
                                    "Name": "Software Engineering Laboratory",
                                    "Description": "NULL",
                                    "L": "0",
                                    "T": "0",
                                    "P": "3",
                                    "C": "3",
                                    "Faculty_ID": "NULL",
                                    "Intake": "NULL",
                                    "Semester": "6",
                                    "ElectiveOrCompulsory": "0"
                                },
                                {
                                    "Course_Code": "CS348",
                                    "Name": "Implementation of Programming Languages Lab",
                                    "Description": "NULL",
                                    "L": "0",
                                    "T": "2",
                                    "P": "3",
                                    "C": "7",
                                    "Faculty_ID": "NULL",
                                    "Intake": "NULL",
                                    "Semester": "6",
                                    "ElectiveOrCompulsory": "0"
                                },
                                {
                                    "Course_Code": "CS361",
                                    "Name": "Machine Learning",
                                    "Description": "NULL",
                                    "L": "3",
                                    "T": "0",
                                    "P": "0",
                                    "C": "6",
                                    "Faculty_ID": "NULL",
                                    "Intake": "NULL",
                                    "Semester": "6",
                                    "ElectiveOrCompulsory": "0"
                                },
                                {
                                    "Course_Code": "CS901",
                                    "Name": "Elective Course 1",
                                    "Description": "NULL",
                                    "L": "3",
                                    "T": "0",
                                    "P": "0",
                                    "C": "6",
                                    "Faculty_ID": "NULL",
                                    "Intake": "NULL",
                                    "Semester": "5,7",
                                    "ElectiveOrCompulsory": "1"
                                },
                                {
                                    "Course_Code": "CS902",
                                    "Name": "Elective Course 2",
                                    "Description": "NULL",
                                    "L": "3",
                                    "T": "0",
                                    "P": "0",
                                    "C": "6",
                                    "Faculty_ID": "NULL",
                                    "Intake": "NULL",
                                    "Semester": "5,7",
                                    "ElectiveOrCompulsory": "1"
                                },
                                {
                                    "Course_Code": "CS903",
                                    "Name": "Elective Course 3",
                                    "Description": "NULL",
                                    "L": "3",
                                    "T": "0",
                                    "P": "0",
                                    "C": "6",
                                    "Faculty_ID": "NULL",
                                    "Intake": "NULL",
                                    "Semester": "5,7",
                                    "ElectiveOrCompulsory": "1"
                                },
                                {
                                    "Course_Code": "CS904",
                                    "Name": "Elective Course 4",
                                    "Description": "NULL",
                                    "L": "3",
                                    "T": "0",
                                    "P": "0",
                                    "C": "6",
                                    "Faculty_ID": "NULL",
                                    "Intake": "NULL",
                                    "Semester": "5,7",
                                    "ElectiveOrCompulsory": "1"
                                },
                                {
                                    "Course_Code": "CS905",
                                    "Name": "Elective Course 5",
                                    "Description": "NULL",
                                    "L": "3",
                                    "T": "0",
                                    "P": "0",
                                    "C": "6",
                                    "Faculty_ID": "NULL",
                                    "Intake": "NULL",
                                    "Semester": "5,7",
                                    "ElectiveOrCompulsory": "1"
                                },
                                {
                                    "Course_Code": "CS906",
                                    "Name": "Elective Course 6",
                                    "Description": "NULL",
                                    "L": "3",
                                    "T": "0",
                                    "P": "0",
                                    "C": "6",
                                    "Faculty_ID": "NULL",
                                    "Intake": "NULL",
                                    "Semester": "5,7",
                                    "ElectiveOrCompulsory": "1"
                                },
                                {
                                    "Course_Code": "CS907",
                                    "Name": "Elective Course 7",
                                    "Description": "NULL",
                                    "L": "3",
                                    "T": "0",
                                    "P": "0",
                                    "C": "6",
                                    "Faculty_ID": "NULL",
                                    "Intake": "NULL",
                                    "Semester": "5,7",
                                    "ElectiveOrCompulsory": "1"
                                },
                                {
                                    "Course_Code": "CS908",
                                    "Name": "Elective Course 8",
                                    "Description": "NULL",
                                    "L": "3",
                                    "T": "0",
                                    "P": "0",
                                    "C": "6",
                                    "Faculty_ID": "NULL",
                                    "Intake": "NULL",
                                    "Semester": "5,7",
                                    "ElectiveOrCompulsory": "1"
                                },
                                {
                                    "Course_Code": "CS909",
                                    "Name": "Elective Course 9",
                                    "Description": "NULL",
                                    "L": "3",
                                    "T": "0",
                                    "P": "0",
                                    "C": "6",
                                    "Faculty_ID": "NULL",
                                    "Intake": "NULL",
                                    "Semester": "6,8",
                                    "ElectiveOrCompulsory": "1"
                                },
                                {
                                    "Course_Code": "CS910",
                                    "Name": "Elective Course 10",
                                    "Description": "NULL",
                                    "L": "3",
                                    "T": "0",
                                    "P": "0",
                                    "C": "6",
                                    "Faculty_ID": "NULL",
                                    "Intake": "NULL",
                                    "Semester": "6,8",
                                    "ElectiveOrCompulsory": "1"
                                },
                                {
                                    "Course_Code": "CS911",
                                    "Name": "Elective Course 11",
                                    "Description": "NULL",
                                    "L": "3",
                                    "T": "0",
                                    "P": "0",
                                    "C": "6",
                                    "Faculty_ID": "NULL",
                                    "Intake": "NULL",
                                    "Semester": "6,8",
                                    "ElectiveOrCompulsory": "1"
                                },
                                {
                                    "Course_Code": "CS912",
                                    "Name": "Elective Course 12",
                                    "Description": "NULL",
                                    "L": "3",
                                    "T": "0",
                                    "P": "0",
                                    "C": "6",
                                    "Faculty_ID": "NULL",
                                    "Intake": "NULL",
                                    "Semester": "6,8",
                                    "ElectiveOrCompulsory": "1"
                                },
                                {
                                    "Course_Code": "CS913",
                                    "Name": "Elective Course 13",
                                    "Description": "NULL",
                                    "L": "3",
                                    "T": "0",
                                    "P": "0",
                                    "C": "6",
                                    "Faculty_ID": "NULL",
                                    "Intake": "NULL",
                                    "Semester": "6,8",
                                    "ElectiveOrCompulsory": "1"
                                },
                                {
                                    "Course_Code": "CS914",
                                    "Name": "Elective Course 14",
                                    "Description": "NULL",
                                    "L": "3",
                                    "T": "0",
                                    "P": "0",
                                    "C": "6",
                                    "Faculty_ID": "NULL",
                                    "Intake": "NULL",
                                    "Semester": "6,8",
                                    "ElectiveOrCompulsory": "1"
                                },
                                {
                                    "Course_Code": "CS915",
                                    "Name": "Elective Course 15",
                                    "Description": "NULL",
                                    "L": "3",
                                    "T": "0",
                                    "P": "0",
                                    "C": "6",
                                    "Faculty_ID": "NULL",
                                    "Intake": "NULL",
                                    "Semester": "6,8",
                                    "ElectiveOrCompulsory": "1"
                                },
                                {
                                    "Course_Code": "CS916",
                                    "Name": "Elective Course 16",
                                    "Description": "NULL",
                                    "L": "3",
                                    "T": "0",
                                    "P": "0",
                                    "C": "6",
                                    "Faculty_ID": "NULL",
                                    "Intake": "NULL",
                                    "Semester": "6,8",
                                    "ElectiveOrCompulsory": "1"
                                },
                                {
                                    "Course_Code": "CS917",
                                    "Name": "Elective Course 17",
                                    "Description": "NULL",
                                    "L": "3",
                                    "T": "0",
                                    "P": "0",
                                    "C": "6",
                                    "Faculty_ID": "NULL",
                                    "Intake": "NULL",
                                    "Semester": "6,8",
                                    "ElectiveOrCompulsory": "1"
                                },
                                {
                                    "Course_Code": "CS918",
                                    "Name": "Elective Course 18",
                                    "Description": "NULL",
                                    "L": "3",
                                    "T": "0",
                                    "P": "0",
                                    "C": "6",
                                    "Faculty_ID": "NULL",
                                    "Intake": "NULL",
                                    "Semester": "6,8",
                                    "ElectiveOrCompulsory": "1"
                                },
                                {
                                    "Course_Code": "CS919",
                                    "Name": "Elective Course 19",
                                    "Description": "NULL",
                                    "L": "3",
                                    "T": "0",
                                    "P": "0",
                                    "C": "6",
                                    "Faculty_ID": "NULL",
                                    "Intake": "NULL",
                                    "Semester": "6,8",
                                    "ElectiveOrCompulsory": "1"
                                },
                                {
                                    "Course_Code": "CS920",
                                    "Name": "Elective Course 20",
                                    "Description": "NULL",
                                    "L": "3",
                                    "T": "0",
                                    "P": "0",
                                    "C": "6",
                                    "Faculty_ID": "NULL",
                                    "Intake": "NULL",
                                    "Semester": "6,8",
                                    "ElectiveOrCompulsory": "1"
                                },
                                {
                                    "Course_Code": "CS950",
                                    "Name": "Elective Course 21",
                                    "Description": "NULL",
                                    "L": "0",
                                    "T": "1",
                                    "P": "3",
                                    "C": "5",
                                    "Faculty_ID": "NULL",
                                    "Intake": "NULL",
                                    "Semester": "6",
                                    "ElectiveOrCompulsory": "1"
                                },
                                {
                                    "Course_Code": "CS951",
                                    "Name": "Elective Course 22",
                                    "Description": "NULL",
                                    "L": "0",
                                    "T": "1",
                                    "P": "3",
                                    "C": "5",
                                    "Faculty_ID": "NULL",
                                    "Intake": "NULL",
                                    "Semester": "6",
                                    "ElectiveOrCompulsory": "1"
                                },
                                {
                                    "Course_Code": "CS952",
                                    "Name": "Elective Course 23",
                                    "Description": "NULL",
                                    "L": "0",
                                    "T": "1",
                                    "P": "3",
                                    "C": "5",
                                    "Faculty_ID": "NULL",
                                    "Intake": "NULL",
                                    "Semester": "6",
                                    "ElectiveOrCompulsory": "1"
                                },
                                {
                                    "Course_Code": "CS953",
                                    "Name": "Elective Course 24",
                                    "Description": "NULL",
                                    "L": "0",
                                    "T": "1",
                                    "P": "3",
                                    "C": "5",
                                    "Faculty_ID": "NULL",
                                    "Intake": "NULL",
                                    "Semester": "6",
                                    "ElectiveOrCompulsory": "1"
                                },
                                {
                                    "Course_Code": "CS954",
                                    "Name": "Elective Course 25",
                                    "Description": "NULL",
                                    "L": "0",
                                    "T": "1",
                                    "P": "3",
                                    "C": "5",
                                    "Faculty_ID": "NULL",
                                    "Intake": "NULL",
                                    "Semester": "6",
                                    "ElectiveOrCompulsory": "1"
                                },
                                {
                                    "Course_Code": "CS955",
                                    "Name": "Elective Course 26",
                                    "Description": "NULL",
                                    "L": "0",
                                    "T": "1",
                                    "P": "3",
                                    "C": "5",
                                    "Faculty_ID": "NULL",
                                    "Intake": "NULL",
                                    "Semester": "6",
                                    "ElectiveOrCompulsory": "1"
                                },
                                {
                                    "Course_Code": "MA222",
                                    "Name": "Elementary Number Theory and Algebra",
                                    "Description": "NULL",
                                    "L": "3",
                                    "T": "0",
                                    "P": "0",
                                    "C": "6",
                                    "Faculty_ID": "NULL",
                                    "Intake": "NULL",
                                    "Semester": "3",
                                    "ElectiveOrCompulsory": "0"
                                },
                                {
                                    "Course_Code": "MA225",
                                    "Name": "Probability Theory and Random Processes",
                                    "Description": "NULL",
                                    "L": "3",
                                    "T": "1",
                                    "P": "0",
                                    "C": "8",
                                    "Faculty_ID": "NULL",
                                    "Intake": "NULL",
                                    "Semester": "3",
                                    "ElectiveOrCompulsory": "0"
                                },
                                {
                                    "Course_Code": "MA321",
                                    "Name": "Optimization",
                                    "Description": "NULL",
                                    "L": "3",
                                    "T": "0",
                                    "P": "0",
                                    "C": "6",
                                    "Faculty_ID": "NULL",
                                    "Intake": "NULL",
                                    "Semester": "5",
                                    "ElectiveOrCompulsory": "0"
                                },
                                {
                                    "Course_Code": "OE101",
                                    "Name": "Exploring World Cultures",
                                    "Description": "NULL",
                                    "L": "3",
                                    "T": "0",
                                    "P": "0",
                                    "C": "6",
                                    "Faculty_ID": "NULL",
                                    "Intake": "NULL",
                                    "Semester": "1",
                                    "ElectiveOrCompulsory": "1"
                                },
                                {
                                    "Course_Code": "OE102",
                                    "Name": "Environmental Sustainability",
                                    "Description": "NULL",
                                    "L": "3",
                                    "T": "0",
                                    "P": "0",
                                    "C": "6",
                                    "Faculty_ID": "NULL",
                                    "Intake": "NULL",
                                    "Semester": "1",
                                    "ElectiveOrCompulsory": "1"
                                },
                                {
                                    "Course_Code": "OE103",
                                    "Name": "Introduction to Psychology",
                                    "Description": "NULL",
                                    "L": "3",
                                    "T": "0",
                                    "P": "0",
                                    "C": "6",
                                    "Faculty_ID": "NULL",
                                    "Intake": "NULL",
                                    "Semester": "1",
                                    "ElectiveOrCompulsory": "1"
                                },
                                {
                                    "Course_Code": "OE201",
                                    "Name": "Digital Marketing Strategies",
                                    "Description": "NULL",
                                    "L": "3",
                                    "T": "0",
                                    "P": "0",
                                    "C": "6",
                                    "Faculty_ID": "NULL",
                                    "Intake": "NULL",
                                    "Semester": "2",
                                    "ElectiveOrCompulsory": "1"
                                },
                                {
                                    "Course_Code": "OE202",
                                    "Name": "Data Analysis with Python",
                                    "Description": "NULL",
                                    "L": "3",
                                    "T": "0",
                                    "P": "0",
                                    "C": "6",
                                    "Faculty_ID": "NULL",
                                    "Intake": "NULL",
                                    "Semester": "2",
                                    "ElectiveOrCompulsory": "1"
                                },
                                {
                                    "Course_Code": "OE203",
                                    "Name": "Cybersecurity Fundamentals",
                                    "Description": "NULL",
                                    "L": "3",
                                    "T": "0",
                                    "P": "0",
                                    "C": "6",
                                    "Faculty_ID": "NULL",
                                    "Intake": "NULL",
                                    "Semester": "2",
                                    "ElectiveOrCompulsory": "1"
                                },
                                {
                                    "Course_Code": "OE301",
                                    "Name": "Financial Literacy for Everyone",
                                    "Description": "NULL",
                                    "L": "3",
                                    "T": "0",
                                    "P": "0",
                                    "C": "6",
                                    "Faculty_ID": "NULL",
                                    "Intake": "NULL",
                                    "Semester": "3",
                                    "ElectiveOrCompulsory": "1"
                                },
                                {
                                    "Course_Code": "OE302",
                                    "Name": "Creative Writing Workshop",
                                    "Description": "NULL",
                                    "L": "3",
                                    "T": "0",
                                    "P": "0",
                                    "C": "6",
                                    "Faculty_ID": "NULL",
                                    "Intake": "NULL",
                                    "Semester": "3",
                                    "ElectiveOrCompulsory": "1"
                                },
                                {
                                    "Course_Code": "OE303",
                                    "Name": "Introduction to Philosophy",
                                    "Description": "NULL",
                                    "L": "3",
                                    "T": "0",
                                    "P": "0",
                                    "C": "6",
                                    "Faculty_ID": "NULL",
                                    "Intake": "NULL",
                                    "Semester": "3",
                                    "ElectiveOrCompulsory": "1"
                                },
                                {
                                    "Course_Code": "OE401",
                                    "Name": "Global Health Issues",
                                    "Description": "NULL",
                                    "L": "3",
                                    "T": "0",
                                    "P": "0",
                                    "C": "6",
                                    "Faculty_ID": "NULL",
                                    "Intake": "NULL",
                                    "Semester": "4",
                                    "ElectiveOrCompulsory": "1"
                                },
                                {
                                    "Course_Code": "OE402",
                                    "Name": "Entrepreneurship Essentials",
                                    "Description": "NULL",
                                    "L": "3",
                                    "T": "0",
                                    "P": "0",
                                    "C": "6",
                                    "Faculty_ID": "NULL",
                                    "Intake": "NULL",
                                    "Semester": "4",
                                    "ElectiveOrCompulsory": "1"
                                },
                                {
                                    "Course_Code": "OE403",
                                    "Name": "User Experience Design",
                                    "Description": "NULL",
                                    "L": "3",
                                    "T": "0",
                                    "P": "0",
                                    "C": "6",
                                    "Faculty_ID": "NULL",
                                    "Intake": "NULL",
                                    "Semester": "4",
                                    "ElectiveOrCompulsory": "1"
                                },
                                {
                                    "Course_Code": "OE501",
                                    "Name": "Artificial Intelligence Applications",
                                    "Description": "NULL",
                                    "L": "3",
                                    "T": "0",
                                    "P": "0",
                                    "C": "6",
                                    "Faculty_ID": "NULL",
                                    "Intake": "NULL",
                                    "Semester": "5",
                                    "ElectiveOrCompulsory": "1"
                                },
                                {
                                    "Course_Code": "OE502",
                                    "Name": "Public Speaking Mastery",
                                    "Description": "NULL",
                                    "L": "3",
                                    "T": "0",
                                    "P": "0",
                                    "C": "6",
                                    "Faculty_ID": "NULL",
                                    "Intake": "NULL",
                                    "Semester": "5",
                                    "ElectiveOrCompulsory": "1"
                                },
                                {
                                    "Course_Code": "OE503",
                                    "Name": "Music Appreciation and Theory",
                                    "Description": "NULL",
                                    "L": "3",
                                    "T": "0",
                                    "P": "0",
                                    "C": "6",
                                    "Faculty_ID": "NULL",
                                    "Intake": "NULL",
                                    "Semester": "5",
                                    "ElectiveOrCompulsory": "1"
                                },
                                {
                                    "Course_Code": "OE601",
                                    "Name": "Introduction to Astronomy",
                                    "Description": "NULL",
                                    "L": "3",
                                    "T": "0",
                                    "P": "0",
                                    "C": "6",
                                    "Faculty_ID": "NULL",
                                    "Intake": "NULL",
                                    "Semester": "6",
                                    "ElectiveOrCompulsory": "1"
                                },
                                {
                                    "Course_Code": "OE602",
                                    "Name": "Nutrition and Wellness",
                                    "Description": "NULL",
                                    "L": "3",
                                    "T": "0",
                                    "P": "0",
                                    "C": "6",
                                    "Faculty_ID": "NULL",
                                    "Intake": "NULL",
                                    "Semester": "6",
                                    "ElectiveOrCompulsory": "1"
                                },
                                {
                                    "Course_Code": "OE603",
                                    "Name": "Graphic Design Fundamentals",
                                    "Description": "NULL",
                                    "L": "3",
                                    "T": "0",
                                    "P": "0",
                                    "C": "6",
                                    "Faculty_ID": "NULL",
                                    "Intake": "NULL",
                                    "Semester": "6",
                                    "ElectiveOrCompulsory": "1"
                                },
                                {
                                    "Course_Code": "OE701",
                                    "Name": "Game Development Basics",
                                    "Description": "NULL",
                                    "L": "3",
                                    "T": "0",
                                    "P": "0",
                                    "C": "6",
                                    "Faculty_ID": "NULL",
                                    "Intake": "NULL",
                                    "Semester": "7",
                                    "ElectiveOrCompulsory": "1"
                                },
                                {
                                    "Course_Code": "OE702",
                                    "Name": "Film Studies: History and Analysis",
                                    "Description": "NULL",
                                    "L": "3",
                                    "T": "0",
                                    "P": "0",
                                    "C": "6",
                                    "Faculty_ID": "NULL",
                                    "Intake": "NULL",
                                    "Semester": "7",
                                    "ElectiveOrCompulsory": "1"
                                },
                                {
                                    "Course_Code": "OE703",
                                    "Name": "Introduction to Robotics",
                                    "Description": "NULL",
                                    "L": "3",
                                    "T": "0",
                                    "P": "0",
                                    "C": "6",
                                    "Faculty_ID": "NULL",
                                    "Intake": "NULL",
                                    "Semester": "7",
                                    "ElectiveOrCompulsory": "1"
                                },
                                {
                                    "Course_Code": "OE801",
                                    "Name": "Advanced Topics in Machine Learning",
                                    "Description": "NULL",
                                    "L": "3",
                                    "T": "0",
                                    "P": "0",
                                    "C": "6",
                                    "Faculty_ID": "NULL",
                                    "Intake": "NULL",
                                    "Semester": "8",
                                    "ElectiveOrCompulsory": "1"
                                },
                                {
                                    "Course_Code": "OE802",
                                    "Name": "Digital Ethics and Privacy",
                                    "Description": "NULL",
                                    "L": "3",
                                    "T": "0",
                                    "P": "0",
                                    "C": "6",
                                    "Faculty_ID": "NULL",
                                    "Intake": "NULL",
                                    "Semester": "8",
                                    "ElectiveOrCompulsory": "1"
                                },
                                {
                                    "Course_Code": "OE803",
                                    "Name": "Virtual Reality Applications",
                                    "Description": "NULL",
                                    "L": "3",
                                    "T": "0",
                                    "P": "0",
                                    "C": "6",
                                    "Faculty_ID": "NULL",
                                    "Intake": "NULL",
                                    "Semester": "8",
                                    "ElectiveOrCompulsory": "1"
                                }
                            ]
                        },
                        "text/html": [
                            "<table>",
                            "<tr><th>Course_Code</th><th>Name</th><th>Description</th><th>L</th><th>T</th><th>P</th><th>C</th><th>Faculty_ID</th><th>Intake</th><th>Semester</th><th>ElectiveOrCompulsory</th></tr>",
                            "<tr><td>CS201</td><td>Discrete Mathematics</td><td>NULL</td><td>3</td><td>0</td><td>0</td><td>6</td><td>NULL</td><td>NULL</td><td>3</td><td>0</td></tr>",
                            "<tr><td>CS203</td><td>Algorithms and Data Structures</td><td>NULL</td><td>3</td><td>0</td><td>0</td><td>6</td><td>NULL</td><td>NULL</td><td>3</td><td>0</td></tr>",
                            "<tr><td>CS204</td><td>Algorithms and Data Structures Laboratory</td><td>NULL</td><td>0</td><td>1</td><td>3</td><td>5</td><td>NULL</td><td>NULL</td><td>3</td><td>0</td></tr>",
                            "<tr><td>CS205</td><td>Formal Languages, Automata Theory and Computation</td><td>NULL</td><td>3</td><td>0</td><td>0</td><td>6</td><td>NULL</td><td>NULL</td><td>4</td><td>0</td></tr>",
                            "<tr><td>CS207</td><td>Design and Analysis of Algorithms</td><td>NULL</td><td>3</td><td>0</td><td>0</td><td>6</td><td>NULL</td><td>NULL</td><td>4</td><td>0</td></tr>",
                            "<tr><td>CS221</td><td>Digital Design</td><td>NULL</td><td>3</td><td>0</td><td>0</td><td>6</td><td>NULL</td><td>NULL</td><td>3</td><td>0</td></tr>",
                            "<tr><td>CS223</td><td>Computer Architecture and Organization</td><td>NULL</td><td>3</td><td>0</td><td>0</td><td>6</td><td>NULL</td><td>NULL</td><td>4</td><td>0</td></tr>",
                            "<tr><td>CS224</td><td>Hardware Laboratory</td><td>NULL</td><td>0</td><td>1</td><td>4</td><td>6</td><td>NULL</td><td>NULL</td><td>4</td><td>0</td></tr>",
                            "<tr><td>CS242</td><td>System Software Laboratory</td><td>NULL</td><td>0</td><td>1</td><td>3</td><td>5</td><td>NULL</td><td>NULL</td><td>3</td><td>0</td></tr>",
                            "<tr><td>CS245</td><td>Database Management Systems</td><td>NULL</td><td>3</td><td>0</td><td>0</td><td>6</td><td>NULL</td><td>NULL</td><td>4</td><td>0</td></tr>",
                            "<tr><td>CS246</td><td>Database Management Systems Laboratory</td><td>NULL</td><td>0</td><td>0</td><td>4</td><td>4</td><td>NULL</td><td>NULL</td><td>4</td><td>0</td></tr>",
                            "<tr><td>CS341</td><td>Computer Networks</td><td>NULL</td><td>3</td><td>0</td><td>0</td><td>6</td><td>NULL</td><td>NULL</td><td>5</td><td>0</td></tr>",
                            "<tr><td>CS342</td><td>Computer Networks Laboratory</td><td>NULL</td><td>0</td><td>0</td><td>4</td><td>4</td><td>NULL</td><td>NULL</td><td>5</td><td>0</td></tr>",
                            "<tr><td>CS343</td><td>Operating Systems</td><td>NULL</td><td>3</td><td>0</td><td>0</td><td>6</td><td>NULL</td><td>NULL</td><td>5</td><td>0</td></tr>",
                            "<tr><td>CS344</td><td>Operating Systems Laboratory</td><td>NULL</td><td>0</td><td>0</td><td>4</td><td>4</td><td>NULL</td><td>NULL</td><td>5</td><td>0</td></tr>",
                            "<tr><td>CS345</td><td>Software Engineering</td><td>NULL</td><td>2</td><td>0</td><td>0</td><td>4</td><td>NULL</td><td>NULL</td><td>6</td><td>0</td></tr>",
                            "<tr><td>CS346</td><td>Software Engineering Laboratory</td><td>NULL</td><td>0</td><td>0</td><td>3</td><td>3</td><td>NULL</td><td>NULL</td><td>6</td><td>0</td></tr>",
                            "<tr><td>CS348</td><td>Implementation of Programming Languages Lab</td><td>NULL</td><td>0</td><td>2</td><td>3</td><td>7</td><td>NULL</td><td>NULL</td><td>6</td><td>0</td></tr>",
                            "<tr><td>CS361</td><td>Machine Learning</td><td>NULL</td><td>3</td><td>0</td><td>0</td><td>6</td><td>NULL</td><td>NULL</td><td>6</td><td>0</td></tr>",
                            "<tr><td>CS901</td><td>Elective Course 1</td><td>NULL</td><td>3</td><td>0</td><td>0</td><td>6</td><td>NULL</td><td>NULL</td><td>5,7</td><td>1</td></tr>",
                            "<tr><td>CS902</td><td>Elective Course 2</td><td>NULL</td><td>3</td><td>0</td><td>0</td><td>6</td><td>NULL</td><td>NULL</td><td>5,7</td><td>1</td></tr>",
                            "<tr><td>CS903</td><td>Elective Course 3</td><td>NULL</td><td>3</td><td>0</td><td>0</td><td>6</td><td>NULL</td><td>NULL</td><td>5,7</td><td>1</td></tr>",
                            "<tr><td>CS904</td><td>Elective Course 4</td><td>NULL</td><td>3</td><td>0</td><td>0</td><td>6</td><td>NULL</td><td>NULL</td><td>5,7</td><td>1</td></tr>",
                            "<tr><td>CS905</td><td>Elective Course 5</td><td>NULL</td><td>3</td><td>0</td><td>0</td><td>6</td><td>NULL</td><td>NULL</td><td>5,7</td><td>1</td></tr>",
                            "<tr><td>CS906</td><td>Elective Course 6</td><td>NULL</td><td>3</td><td>0</td><td>0</td><td>6</td><td>NULL</td><td>NULL</td><td>5,7</td><td>1</td></tr>",
                            "<tr><td>CS907</td><td>Elective Course 7</td><td>NULL</td><td>3</td><td>0</td><td>0</td><td>6</td><td>NULL</td><td>NULL</td><td>5,7</td><td>1</td></tr>",
                            "<tr><td>CS908</td><td>Elective Course 8</td><td>NULL</td><td>3</td><td>0</td><td>0</td><td>6</td><td>NULL</td><td>NULL</td><td>5,7</td><td>1</td></tr>",
                            "<tr><td>CS909</td><td>Elective Course 9</td><td>NULL</td><td>3</td><td>0</td><td>0</td><td>6</td><td>NULL</td><td>NULL</td><td>6,8</td><td>1</td></tr>",
                            "<tr><td>CS910</td><td>Elective Course 10</td><td>NULL</td><td>3</td><td>0</td><td>0</td><td>6</td><td>NULL</td><td>NULL</td><td>6,8</td><td>1</td></tr>",
                            "<tr><td>CS911</td><td>Elective Course 11</td><td>NULL</td><td>3</td><td>0</td><td>0</td><td>6</td><td>NULL</td><td>NULL</td><td>6,8</td><td>1</td></tr>",
                            "<tr><td>CS912</td><td>Elective Course 12</td><td>NULL</td><td>3</td><td>0</td><td>0</td><td>6</td><td>NULL</td><td>NULL</td><td>6,8</td><td>1</td></tr>",
                            "<tr><td>CS913</td><td>Elective Course 13</td><td>NULL</td><td>3</td><td>0</td><td>0</td><td>6</td><td>NULL</td><td>NULL</td><td>6,8</td><td>1</td></tr>",
                            "<tr><td>CS914</td><td>Elective Course 14</td><td>NULL</td><td>3</td><td>0</td><td>0</td><td>6</td><td>NULL</td><td>NULL</td><td>6,8</td><td>1</td></tr>",
                            "<tr><td>CS915</td><td>Elective Course 15</td><td>NULL</td><td>3</td><td>0</td><td>0</td><td>6</td><td>NULL</td><td>NULL</td><td>6,8</td><td>1</td></tr>",
                            "<tr><td>CS916</td><td>Elective Course 16</td><td>NULL</td><td>3</td><td>0</td><td>0</td><td>6</td><td>NULL</td><td>NULL</td><td>6,8</td><td>1</td></tr>",
                            "<tr><td>CS917</td><td>Elective Course 17</td><td>NULL</td><td>3</td><td>0</td><td>0</td><td>6</td><td>NULL</td><td>NULL</td><td>6,8</td><td>1</td></tr>",
                            "<tr><td>CS918</td><td>Elective Course 18</td><td>NULL</td><td>3</td><td>0</td><td>0</td><td>6</td><td>NULL</td><td>NULL</td><td>6,8</td><td>1</td></tr>",
                            "<tr><td>CS919</td><td>Elective Course 19</td><td>NULL</td><td>3</td><td>0</td><td>0</td><td>6</td><td>NULL</td><td>NULL</td><td>6,8</td><td>1</td></tr>",
                            "<tr><td>CS920</td><td>Elective Course 20</td><td>NULL</td><td>3</td><td>0</td><td>0</td><td>6</td><td>NULL</td><td>NULL</td><td>6,8</td><td>1</td></tr>",
                            "<tr><td>CS950</td><td>Elective Course 21</td><td>NULL</td><td>0</td><td>1</td><td>3</td><td>5</td><td>NULL</td><td>NULL</td><td>6</td><td>1</td></tr>",
                            "<tr><td>CS951</td><td>Elective Course 22</td><td>NULL</td><td>0</td><td>1</td><td>3</td><td>5</td><td>NULL</td><td>NULL</td><td>6</td><td>1</td></tr>",
                            "<tr><td>CS952</td><td>Elective Course 23</td><td>NULL</td><td>0</td><td>1</td><td>3</td><td>5</td><td>NULL</td><td>NULL</td><td>6</td><td>1</td></tr>",
                            "<tr><td>CS953</td><td>Elective Course 24</td><td>NULL</td><td>0</td><td>1</td><td>3</td><td>5</td><td>NULL</td><td>NULL</td><td>6</td><td>1</td></tr>",
                            "<tr><td>CS954</td><td>Elective Course 25</td><td>NULL</td><td>0</td><td>1</td><td>3</td><td>5</td><td>NULL</td><td>NULL</td><td>6</td><td>1</td></tr>",
                            "<tr><td>CS955</td><td>Elective Course 26</td><td>NULL</td><td>0</td><td>1</td><td>3</td><td>5</td><td>NULL</td><td>NULL</td><td>6</td><td>1</td></tr>",
                            "<tr><td>MA222</td><td>Elementary Number Theory and Algebra</td><td>NULL</td><td>3</td><td>0</td><td>0</td><td>6</td><td>NULL</td><td>NULL</td><td>3</td><td>0</td></tr>",
                            "<tr><td>MA225</td><td>Probability Theory and Random Processes</td><td>NULL</td><td>3</td><td>1</td><td>0</td><td>8</td><td>NULL</td><td>NULL</td><td>3</td><td>0</td></tr>",
                            "<tr><td>MA321</td><td>Optimization</td><td>NULL</td><td>3</td><td>0</td><td>0</td><td>6</td><td>NULL</td><td>NULL</td><td>5</td><td>0</td></tr>",
                            "<tr><td>OE101</td><td>Exploring World Cultures</td><td>NULL</td><td>3</td><td>0</td><td>0</td><td>6</td><td>NULL</td><td>NULL</td><td>1</td><td>1</td></tr>",
                            "<tr><td>OE102</td><td>Environmental Sustainability</td><td>NULL</td><td>3</td><td>0</td><td>0</td><td>6</td><td>NULL</td><td>NULL</td><td>1</td><td>1</td></tr>",
                            "<tr><td>OE103</td><td>Introduction to Psychology</td><td>NULL</td><td>3</td><td>0</td><td>0</td><td>6</td><td>NULL</td><td>NULL</td><td>1</td><td>1</td></tr>",
                            "<tr><td>OE201</td><td>Digital Marketing Strategies</td><td>NULL</td><td>3</td><td>0</td><td>0</td><td>6</td><td>NULL</td><td>NULL</td><td>2</td><td>1</td></tr>",
                            "<tr><td>OE202</td><td>Data Analysis with Python</td><td>NULL</td><td>3</td><td>0</td><td>0</td><td>6</td><td>NULL</td><td>NULL</td><td>2</td><td>1</td></tr>",
                            "<tr><td>OE203</td><td>Cybersecurity Fundamentals</td><td>NULL</td><td>3</td><td>0</td><td>0</td><td>6</td><td>NULL</td><td>NULL</td><td>2</td><td>1</td></tr>",
                            "<tr><td>OE301</td><td>Financial Literacy for Everyone</td><td>NULL</td><td>3</td><td>0</td><td>0</td><td>6</td><td>NULL</td><td>NULL</td><td>3</td><td>1</td></tr>",
                            "<tr><td>OE302</td><td>Creative Writing Workshop</td><td>NULL</td><td>3</td><td>0</td><td>0</td><td>6</td><td>NULL</td><td>NULL</td><td>3</td><td>1</td></tr>",
                            "<tr><td>OE303</td><td>Introduction to Philosophy</td><td>NULL</td><td>3</td><td>0</td><td>0</td><td>6</td><td>NULL</td><td>NULL</td><td>3</td><td>1</td></tr>",
                            "<tr><td>OE401</td><td>Global Health Issues</td><td>NULL</td><td>3</td><td>0</td><td>0</td><td>6</td><td>NULL</td><td>NULL</td><td>4</td><td>1</td></tr>",
                            "<tr><td>OE402</td><td>Entrepreneurship Essentials</td><td>NULL</td><td>3</td><td>0</td><td>0</td><td>6</td><td>NULL</td><td>NULL</td><td>4</td><td>1</td></tr>",
                            "<tr><td>OE403</td><td>User Experience Design</td><td>NULL</td><td>3</td><td>0</td><td>0</td><td>6</td><td>NULL</td><td>NULL</td><td>4</td><td>1</td></tr>",
                            "<tr><td>OE501</td><td>Artificial Intelligence Applications</td><td>NULL</td><td>3</td><td>0</td><td>0</td><td>6</td><td>NULL</td><td>NULL</td><td>5</td><td>1</td></tr>",
                            "<tr><td>OE502</td><td>Public Speaking Mastery</td><td>NULL</td><td>3</td><td>0</td><td>0</td><td>6</td><td>NULL</td><td>NULL</td><td>5</td><td>1</td></tr>",
                            "<tr><td>OE503</td><td>Music Appreciation and Theory</td><td>NULL</td><td>3</td><td>0</td><td>0</td><td>6</td><td>NULL</td><td>NULL</td><td>5</td><td>1</td></tr>",
                            "<tr><td>OE601</td><td>Introduction to Astronomy</td><td>NULL</td><td>3</td><td>0</td><td>0</td><td>6</td><td>NULL</td><td>NULL</td><td>6</td><td>1</td></tr>",
                            "<tr><td>OE602</td><td>Nutrition and Wellness</td><td>NULL</td><td>3</td><td>0</td><td>0</td><td>6</td><td>NULL</td><td>NULL</td><td>6</td><td>1</td></tr>",
                            "<tr><td>OE603</td><td>Graphic Design Fundamentals</td><td>NULL</td><td>3</td><td>0</td><td>0</td><td>6</td><td>NULL</td><td>NULL</td><td>6</td><td>1</td></tr>",
                            "<tr><td>OE701</td><td>Game Development Basics</td><td>NULL</td><td>3</td><td>0</td><td>0</td><td>6</td><td>NULL</td><td>NULL</td><td>7</td><td>1</td></tr>",
                            "<tr><td>OE702</td><td>Film Studies: History and Analysis</td><td>NULL</td><td>3</td><td>0</td><td>0</td><td>6</td><td>NULL</td><td>NULL</td><td>7</td><td>1</td></tr>",
                            "<tr><td>OE703</td><td>Introduction to Robotics</td><td>NULL</td><td>3</td><td>0</td><td>0</td><td>6</td><td>NULL</td><td>NULL</td><td>7</td><td>1</td></tr>",
                            "<tr><td>OE801</td><td>Advanced Topics in Machine Learning</td><td>NULL</td><td>3</td><td>0</td><td>0</td><td>6</td><td>NULL</td><td>NULL</td><td>8</td><td>1</td></tr>",
                            "<tr><td>OE802</td><td>Digital Ethics and Privacy</td><td>NULL</td><td>3</td><td>0</td><td>0</td><td>6</td><td>NULL</td><td>NULL</td><td>8</td><td>1</td></tr>",
                            "<tr><td>OE803</td><td>Virtual Reality Applications</td><td>NULL</td><td>3</td><td>0</td><td>0</td><td>6</td><td>NULL</td><td>NULL</td><td>8</td><td>1</td></tr>",
                            "</table>"
                        ]
                    }
                }
            ],
            "execution_count": 11
        },
        {
            "cell_type": "code",
            "source": [
                "delete from course where Course_Code ='1';"
            ],
            "metadata": {
                "azdata_cell_guid": "959e7b36-c194-4435-9a8e-a59c5444df87",
                "language": "sql"
            },
            "outputs": [
                {
                    "output_type": "display_data",
                    "data": {
                        "text/html": "(1 row affected)"
                    },
                    "metadata": {}
                },
                {
                    "output_type": "display_data",
                    "data": {
                        "text/html": "Total execution time: 00:00:00.276"
                    },
                    "metadata": {}
                }
            ],
            "execution_count": 73
        },
        {
            "cell_type": "code",
            "source": [
                "select * from faculty where email like '%sajith%';"
            ],
            "metadata": {
                "azdata_cell_guid": "04f360a3-1ac2-4ec4-adbe-41f2710598be",
                "language": "sql"
            },
            "outputs": [
                {
                    "output_type": "display_data",
                    "data": {
                        "text/html": "(1 row affected)"
                    },
                    "metadata": {}
                },
                {
                    "output_type": "display_data",
                    "data": {
                        "text/html": "Total execution time: 00:00:01.995"
                    },
                    "metadata": {}
                },
                {
                    "output_type": "execute_result",
                    "execution_count": 2,
                    "data": {
                        "application/vnd.dataresource+json": {
                            "schema": {
                                "fields": [
                                    {
                                        "name": "User_ID"
                                    },
                                    {
                                        "name": "Name"
                                    },
                                    {
                                        "name": "DOB"
                                    },
                                    {
                                        "name": "Contact"
                                    },
                                    {
                                        "name": "Email"
                                    },
                                    {
                                        "name": "Office_Room"
                                    },
                                    {
                                        "name": "Joining_Year"
                                    },
                                    {
                                        "name": "Research_Interests"
                                    },
                                    {
                                        "name": "Designation"
                                    }
                                ]
                            },
                            "data": [
                                {
                                    "User_ID": "1997001",
                                    "Name": "G. Sajith",
                                    "DOB": "NULL",
                                    "Contact": "+91-361-2582359",
                                    "Email": "sajith@iitg.ac.in",
                                    "Office_Room": "H-107",
                                    "Joining_Year": "1997",
                                    "Research_Interests": "External Memory Algorithms, Algorithmic Game Theory, Parallel and Distributed Algorithms, Complexity Theory",
                                    "Designation": "Professor"
                                }
                            ]
                        },
                        "text/html": "<table><tr><th>User_ID</th><th>Name</th><th>DOB</th><th>Contact</th><th>Email</th><th>Office_Room</th><th>Joining_Year</th><th>Research_Interests</th><th>Designation</th></tr><tr><td>1997001</td><td>G. Sajith</td><td>NULL</td><td>+91-361-2582359</td><td>sajith@iitg.ac.in</td><td>H-107</td><td>1997</td><td>External Memory Algorithms, Algorithmic Game Theory, Parallel and Distributed Algorithms, Complexity Theory</td><td>Professor</td></tr></table>"
                    },
                    "metadata": {}
                }
            ],
            "execution_count": 2
        },
        {
            "cell_type": "code",
            "source": [
                "select * from grade;"
            ],
            "metadata": {
                "language": "sql",
                "azdata_cell_guid": "61b1d8dc-078b-46c8-bf58-c64702e6a550"
            },
            "outputs": [
                {
                    "output_type": "display_data",
                    "data": {
                        "text/html": "(2 rows affected)"
                    },
                    "metadata": {}
                },
                {
                    "output_type": "display_data",
                    "data": {
                        "text/html": "Total execution time: 00:00:00.298"
                    },
                    "metadata": {}
                },
                {
                    "output_type": "execute_result",
                    "execution_count": 3,
                    "data": {
                        "application/vnd.dataresource+json": {
                            "schema": {
                                "fields": [
                                    {
                                        "name": "User_ID"
                                    },
                                    {
                                        "name": "CourseCode"
                                    },
                                    {
                                        "name": "Grade"
                                    },
                                    {
                                        "name": "Approval_Status"
                                    },
                                    {
                                        "name": "Type"
                                    }
                                ]
                            },
                            "data": [
                                {
                                    "User_ID": "20211001",
                                    "CourseCode": "OE802",
                                    "Grade": "NULL",
                                    "Approval_Status": "Pending",
                                    "Type": "Credit"
                                },
                                {
                                    "User_ID": "20221010",
                                    "CourseCode": "CS910",
                                    "Grade": "NULL",
                                    "Approval_Status": "Approved",
                                    "Type": "Credit"
                                }
                            ]
                        },
                        "text/html": "<table><tr><th>User_ID</th><th>CourseCode</th><th>Grade</th><th>Approval_Status</th><th>Type</th></tr><tr><td>20211001</td><td>OE802</td><td>NULL</td><td>Pending</td><td>Credit</td></tr><tr><td>20221010</td><td>CS910</td><td>NULL</td><td>Approved</td><td>Credit</td></tr></table>"
                    },
                    "metadata": {}
                }
            ],
            "execution_count": 3
        },
        {
            "cell_type": "code",
            "source": [
                "delete from Profile_photos;"
            ],
            "metadata": {
                "language": "sql",
                "azdata_cell_guid": "7a2b7844-bdaf-4899-8a9f-d4555df9d967"
            },
            "outputs": [
                {
                    "output_type": "display_data",
                    "data": {
                        "text/html": "(1 row affected)"
                    },
                    "metadata": {}
                },
                {
                    "output_type": "display_data",
                    "data": {
                        "text/html": "Total execution time: 00:00:00.413"
                    },
                    "metadata": {}
                }
            ],
            "execution_count": 4
        },
        {
            "cell_type": "code",
            "source": [
                "IF OBJECT_ID('permissions', 'U') IS NOT NULL\r\n",
                "    DROP TABLE permissions;\r\n",
                "\r\n",
                "CREATE TABLE permissions (\r\n",
                "    Course_Add BIT NOT NULL,\r\n",
                "    Course_Enroll BIT NOT NULL,\r\n",
                "    Grades_Add BIT NOT NULL,\r\n",
                "    Grades_View BIT NOT NULL,\r\n",
                "    Current_Year INT NOT NULL,\r\n",
                "    Current_Sem NVARCHAR(20) NOT NULL CHECK (Current_Sem IN ('Winter', 'Monsoon')),\r\n",
                "    Midsem_Start_Date DATE,\r\n",
                "    Endsem_Start_Date DATE,\r\n",
                ");"
            ],
            "metadata": {
                "language": "sql",
                "azdata_cell_guid": "b05a7e65-9e7a-4a73-914e-ce0324ca9026"
            },
            "outputs": [
                {
                    "output_type": "display_data",
                    "data": {
                        "text/html": "Commands completed successfully."
                    },
                    "metadata": {}
                },
                {
                    "output_type": "display_data",
                    "data": {
                        "text/html": "Total execution time: 00:00:00.268"
                    },
                    "metadata": {}
                }
            ],
            "execution_count": 12
        },
        {
            "cell_type": "code",
            "source": [
                "insert into permissions values (0,1,0,0,2024,'Winter',NULL,NULL);"
            ],
            "metadata": {
                "language": "sql",
                "azdata_cell_guid": "16c79ef8-d2cd-465f-be57-daa6db78b8eb"
            },
            "outputs": [
                {
                    "output_type": "display_data",
                    "data": {
                        "text/html": "(1 row affected)"
                    },
                    "metadata": {}
                },
                {
                    "output_type": "display_data",
                    "data": {
                        "text/html": "Total execution time: 00:00:00.258"
                    },
                    "metadata": {}
                }
            ],
            "execution_count": 13
        },
        {
            "cell_type": "code",
            "source": [
                "select * from permissions;"
            ],
            "metadata": {
                "language": "sql",
                "azdata_cell_guid": "bc6b446a-e3d4-4ac1-8615-8bd45946cac2"
            },
            "outputs": [
                {
                    "output_type": "display_data",
                    "data": {
                        "text/html": "(1 row affected)"
                    },
                    "metadata": {}
                },
                {
                    "output_type": "display_data",
                    "data": {
                        "text/html": "Total execution time: 00:00:00.261"
                    },
                    "metadata": {}
                },
                {
                    "output_type": "execute_result",
                    "metadata": {},
                    "execution_count": 14,
                    "data": {
                        "application/vnd.dataresource+json": {
                            "schema": {
                                "fields": [
                                    {
                                        "name": "Course_Add"
                                    },
                                    {
                                        "name": "Course_Enroll"
                                    },
                                    {
                                        "name": "Grades_Add"
                                    },
                                    {
                                        "name": "Grades_View"
                                    },
                                    {
                                        "name": "Current_Year"
                                    },
                                    {
                                        "name": "Current_Sem"
                                    },
                                    {
                                        "name": "Midsem_Start_Date"
                                    },
                                    {
                                        "name": "Endsem_Start_Date"
                                    }
                                ]
                            },
                            "data": [
                                {
                                    "Course_Add": "0",
                                    "Course_Enroll": "1",
                                    "Grades_Add": "0",
                                    "Grades_View": "0",
                                    "Current_Year": "2024",
                                    "Current_Sem": "Winter",
                                    "Midsem_Start_Date": "NULL",
                                    "Endsem_Start_Date": "NULL"
                                }
                            ]
                        },
                        "text/html": [
                            "<table>",
                            "<tr><th>Course_Add</th><th>Course_Enroll</th><th>Grades_Add</th><th>Grades_View</th><th>Current_Year</th><th>Current_Sem</th><th>Midsem_Start_Date</th><th>Endsem_Start_Date</th></tr>",
                            "<tr><td>0</td><td>1</td><td>0</td><td>0</td><td>2024</td><td>Winter</td><td>NULL</td><td>NULL</td></tr>",
                            "</table>"
                        ]
                    }
                }
            ],
            "execution_count": 14
        },
        {
            "cell_type": "code",
            "source": [
                ""
            ],
            "metadata": {
                "language": "sql",
                "azdata_cell_guid": "626af749-9f10-443a-8e25-b6dc35a18203"
            },
            "outputs": [
                {
                    "output_type": "error",
                    "evalue": "Msg 2812, Level 16, State 62, Line 1\r\nCould not find stored procedure 'DESCRIPTION'.",
                    "ename": "",
                    "traceback": []
                },
                {
                    "output_type": "display_data",
                    "data": {
                        "text/html": "Total execution time: 00:00:00.250"
                    },
                    "metadata": {}
                }
            ],
            "execution_count": 16
        },
        {
            "cell_type": "code",
            "source": [
                "select * from grade;"
            ],
            "metadata": {
                "language": "sql",
                "azdata_cell_guid": "d72925a5-7677-49fc-b69f-2ae3b34f6047"
            },
            "outputs": [
                {
                    "output_type": "display_data",
                    "data": {
                        "text/html": "(2 rows affected)"
                    },
                    "metadata": {}
                },
                {
                    "output_type": "display_data",
                    "data": {
                        "text/html": "Total execution time: 00:00:00.271"
                    },
                    "metadata": {}
                },
                {
                    "output_type": "execute_result",
                    "metadata": {},
                    "execution_count": 18,
                    "data": {
                        "application/vnd.dataresource+json": {
                            "schema": {
                                "fields": [
                                    {
                                        "name": "User_ID"
                                    },
                                    {
                                        "name": "CourseCode"
                                    },
                                    {
                                        "name": "Grade"
                                    },
                                    {
                                        "name": "Approval_Status"
                                    },
                                    {
                                        "name": "Type"
                                    }
                                ]
                            },
                            "data": [
                                {
                                    "User_ID": "20211001",
                                    "CourseCode": "OE802",
                                    "Grade": "NULL",
                                    "Approval_Status": "Pending",
                                    "Type": "Credit"
                                },
                                {
                                    "User_ID": "20221010",
                                    "CourseCode": "CS910",
                                    "Grade": "NULL",
                                    "Approval_Status": "Pending",
                                    "Type": "Credit"
                                }
                            ]
                        },
                        "text/html": [
                            "<table>",
                            "<tr><th>User_ID</th><th>CourseCode</th><th>Grade</th><th>Approval_Status</th><th>Type</th></tr>",
                            "<tr><td>20211001</td><td>OE802</td><td>NULL</td><td>Pending</td><td>Credit</td></tr>",
                            "<tr><td>20221010</td><td>CS910</td><td>NULL</td><td>Pending</td><td>Credit</td></tr>",
                            "</table>"
                        ]
                    }
                }
            ],
            "execution_count": 18
        },
        {
            "cell_type": "code",
            "source": [
                "select *\r\n",
                "from grade, course\r\n",
                "where grade.User_ID = 20211001 and course.Course_Code = grade.CourseCode;"
            ],
            "metadata": {
                "language": "sql",
                "azdata_cell_guid": "f424154f-ea83-48e9-a649-e6d2b3649048"
            },
            "outputs": [
                {
                    "output_type": "display_data",
                    "data": {
                        "text/html": "(1 row affected)"
                    },
                    "metadata": {}
                },
                {
                    "output_type": "display_data",
                    "data": {
                        "text/html": "Total execution time: 00:00:00.271"
                    },
                    "metadata": {}
                },
                {
                    "output_type": "execute_result",
                    "metadata": {},
                    "execution_count": 21,
                    "data": {
                        "application/vnd.dataresource+json": {
                            "schema": {
                                "fields": [
                                    {
                                        "name": "User_ID"
                                    },
                                    {
                                        "name": "CourseCode"
                                    },
                                    {
                                        "name": "Grade"
                                    },
                                    {
                                        "name": "Approval_Status"
                                    },
                                    {
                                        "name": "Type"
                                    },
                                    {
                                        "name": "Course_Code"
                                    },
                                    {
                                        "name": "Name"
                                    },
                                    {
                                        "name": "Description"
                                    },
                                    {
                                        "name": "L"
                                    },
                                    {
                                        "name": "T"
                                    },
                                    {
                                        "name": "P"
                                    },
                                    {
                                        "name": "C"
                                    },
                                    {
                                        "name": "Faculty_ID"
                                    },
                                    {
                                        "name": "Intake"
                                    },
                                    {
                                        "name": "Semester"
                                    },
                                    {
                                        "name": "ElectiveOrCompulsory"
                                    }
                                ]
                            },
                            "data": [
                                {
                                    "User_ID": "20211001",
                                    "CourseCode": "OE802",
                                    "Grade": "NULL",
                                    "Approval_Status": "Pending",
                                    "Type": "Credit",
                                    "Course_Code": "OE802",
                                    "Name": "Digital Ethics and Privacy",
                                    "Description": "NULL",
                                    "L": "3",
                                    "T": "0",
                                    "P": "0",
                                    "C": "6",
                                    "Faculty_ID": "NULL",
                                    "Intake": "NULL",
                                    "Semester": "8",
                                    "ElectiveOrCompulsory": "1"
                                }
                            ]
                        },
                        "text/html": [
                            "<table>",
                            "<tr><th>User_ID</th><th>CourseCode</th><th>Grade</th><th>Approval_Status</th><th>Type</th><th>Course_Code</th><th>Name</th><th>Description</th><th>L</th><th>T</th><th>P</th><th>C</th><th>Faculty_ID</th><th>Intake</th><th>Semester</th><th>ElectiveOrCompulsory</th></tr>",
                            "<tr><td>20211001</td><td>OE802</td><td>NULL</td><td>Pending</td><td>Credit</td><td>OE802</td><td>Digital Ethics and Privacy</td><td>NULL</td><td>3</td><td>0</td><td>0</td><td>6</td><td>NULL</td><td>NULL</td><td>8</td><td>1</td></tr>",
                            "</table>"
                        ]
                    }
                }
            ],
            "execution_count": 21
        }
    ]
}